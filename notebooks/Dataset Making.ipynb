{
 "cells": [
  {
   "cell_type": "code",
   "execution_count": 147,
   "metadata": {},
   "outputs": [],
   "source": [
    "import chess\n",
    "import numpy as np\n",
    "from tqdm import tqdm"
   ]
  },
  {
   "cell_type": "code",
   "execution_count": 124,
   "metadata": {},
   "outputs": [],
   "source": [
    "board=chess.Board()"
   ]
  },
  {
   "cell_type": "code",
   "execution_count": 125,
   "metadata": {},
   "outputs": [
    {
     "data": {
      "text/plain": [
       "<LegalMoveGenerator at 0x7f4e85ae37d0 (Nh3, Nf3, Nc3, Na3, h3, g3, f3, e3, d3, c3, b3, a3, h4, g4, f4, e4, d4, c4, b4, a4)>"
      ]
     },
     "execution_count": 125,
     "metadata": {},
     "output_type": "execute_result"
    }
   ],
   "source": [
    "board.legal_moves"
   ]
  },
  {
   "cell_type": "code",
   "execution_count": 126,
   "metadata": {},
   "outputs": [],
   "source": [
    "game1='e4 c5 Nf3 d6 d4 cxd4 Nxd4 Nf6 Nc3 g6 Be3 Bg7 f3 O-O Qd2 Nc6 Bc4 Be6 Bxe6 Nxd4 Bxf7+ Rxf7 Bxd4 d5 e5 Ne8 e6 Rf8 O-O-O Bxd4 Qxd4 Qa5 Nxd5 Rc8 Nxe7#'"
   ]
  },
  {
   "cell_type": "code",
   "execution_count": 127,
   "metadata": {},
   "outputs": [],
   "source": [
    "game1=game1.split(' ')"
   ]
  },
  {
   "cell_type": "code",
   "execution_count": 128,
   "metadata": {},
   "outputs": [],
   "source": [
    "game_steps=[]\n",
    "for i in game1:\n",
    "    board.push_san(i)\n",
    "    game_steps.append(uni_to_numpy(board))"
   ]
  },
  {
   "cell_type": "code",
   "execution_count": 71,
   "metadata": {},
   "outputs": [
    {
     "data": {
      "image/svg+xml": [
       "<svg height=\"400\" version=\"1.1\" viewBox=\"0 0 400 400\" width=\"400\" xmlns=\"http://www.w3.org/2000/svg\" xmlns:xlink=\"http://www.w3.org/1999/xlink\"><defs><g class=\"white pawn\" id=\"white-pawn\"><path d=\"M22 9c-2.21 0-4 1.79-4 4 0 .89.29 1.71.78 2.38-1.95 1.12-3.28 3.21-3.28 5.62 0 2.03.94 3.84 2.41 5.03-3 1.06-7.41 5.55-7.41 13.47h23c0-7.92-4.41-12.41-7.41-13.47 1.47-1.19 2.41-3 2.41-5.03 0-2.41-1.33-4.5-3.28-5.62.49-.67.78-1.49.78-2.38 0-2.21-1.79-4-4-4z\" fill=\"#fff\" stroke=\"#000\" stroke-linecap=\"round\" stroke-width=\"1.5\" /></g><g class=\"white knight\" fill=\"none\" fill-rule=\"evenodd\" id=\"white-knight\" stroke=\"#000\" stroke-linecap=\"round\" stroke-linejoin=\"round\" stroke-width=\"1.5\"><path d=\"M 22,10 C 32.5,11 38.5,18 38,39 L 15,39 C 15,30 25,32.5 23,18\" style=\"fill:#ffffff; stroke:#000000;\" /><path d=\"M 24,18 C 24.38,20.91 18.45,25.37 16,27 C 13,29 13.18,31.34 11,31 C 9.958,30.06 12.41,27.96 11,28 C 10,28 11.19,29.23 10,30 C 9,30 5.997,31 6,26 C 6,24 12,14 12,14 C 12,14 13.89,12.1 14,10.5 C 13.27,9.506 13.5,8.5 13.5,7.5 C 14.5,6.5 16.5,10 16.5,10 L 18.5,10 C 18.5,10 19.28,8.008 21,7 C 22,7 22,10 22,10\" style=\"fill:#ffffff; stroke:#000000;\" /><path d=\"M 9.5 25.5 A 0.5 0.5 0 1 1 8.5,25.5 A 0.5 0.5 0 1 1 9.5 25.5 z\" style=\"fill:#000000; stroke:#000000;\" /><path d=\"M 15 15.5 A 0.5 1.5 0 1 1 14,15.5 A 0.5 1.5 0 1 1 15 15.5 z\" style=\"fill:#000000; stroke:#000000;\" transform=\"matrix(0.866,0.5,-0.5,0.866,9.693,-5.173)\" /></g><g class=\"white rook\" fill=\"#fff\" fill-rule=\"evenodd\" id=\"white-rook\" stroke=\"#000\" stroke-linecap=\"round\" stroke-linejoin=\"round\" stroke-width=\"1.5\"><path d=\"M9 39h27v-3H9v3zM12 36v-4h21v4H12zM11 14V9h4v2h5V9h5v2h5V9h4v5\" stroke-linecap=\"butt\" /><path d=\"M34 14l-3 3H14l-3-3\" /><path d=\"M31 17v12.5H14V17\" stroke-linecap=\"butt\" stroke-linejoin=\"miter\" /><path d=\"M31 29.5l1.5 2.5h-20l1.5-2.5\" /><path d=\"M11 14h23\" fill=\"none\" stroke-linejoin=\"miter\" /></g><g class=\"white queen\" fill=\"#fff\" fill-rule=\"evenodd\" id=\"white-queen\" stroke=\"#000\" stroke-linecap=\"round\" stroke-linejoin=\"round\" stroke-width=\"1.5\"><path d=\"M8 12a2 2 0 1 1-4 0 2 2 0 1 1 4 0zM24.5 7.5a2 2 0 1 1-4 0 2 2 0 1 1 4 0zM41 12a2 2 0 1 1-4 0 2 2 0 1 1 4 0zM16 8.5a2 2 0 1 1-4 0 2 2 0 1 1 4 0zM33 9a2 2 0 1 1-4 0 2 2 0 1 1 4 0z\" /><path d=\"M9 26c8.5-1.5 21-1.5 27 0l2-12-7 11V11l-5.5 13.5-3-15-3 15-5.5-14V25L7 14l2 12zM9 26c0 2 1.5 2 2.5 4 1 1.5 1 1 .5 3.5-1.5 1-1.5 2.5-1.5 2.5-1.5 1.5.5 2.5.5 2.5 6.5 1 16.5 1 23 0 0 0 1.5-1 0-2.5 0 0 .5-1.5-1-2.5-.5-2.5-.5-2 .5-3.5 1-2 2.5-2 2.5-4-8.5-1.5-18.5-1.5-27 0z\" stroke-linecap=\"butt\" /><path d=\"M11.5 30c3.5-1 18.5-1 22 0M12 33.5c6-1 15-1 21 0\" fill=\"none\" /></g><g class=\"white king\" fill=\"none\" fill-rule=\"evenodd\" id=\"white-king\" stroke=\"#000\" stroke-linecap=\"round\" stroke-linejoin=\"round\" stroke-width=\"1.5\"><path d=\"M22.5 11.63V6M20 8h5\" stroke-linejoin=\"miter\" /><path d=\"M22.5 25s4.5-7.5 3-10.5c0 0-1-2.5-3-2.5s-3 2.5-3 2.5c-1.5 3 3 10.5 3 10.5\" fill=\"#fff\" stroke-linecap=\"butt\" stroke-linejoin=\"miter\" /><path d=\"M11.5 37c5.5 3.5 15.5 3.5 21 0v-7s9-4.5 6-10.5c-4-6.5-13.5-3.5-16 4V27v-3.5c-3.5-7.5-13-10.5-16-4-3 6 5 10 5 10V37z\" fill=\"#fff\" /><path d=\"M11.5 30c5.5-3 15.5-3 21 0m-21 3.5c5.5-3 15.5-3 21 0m-21 3.5c5.5-3 15.5-3 21 0\" /></g><g class=\"black pawn\" id=\"black-pawn\"><path d=\"M22 9c-2.21 0-4 1.79-4 4 0 .89.29 1.71.78 2.38-1.95 1.12-3.28 3.21-3.28 5.62 0 2.03.94 3.84 2.41 5.03-3 1.06-7.41 5.55-7.41 13.47h23c0-7.92-4.41-12.41-7.41-13.47 1.47-1.19 2.41-3 2.41-5.03 0-2.41-1.33-4.5-3.28-5.62.49-.67.78-1.49.78-2.38 0-2.21-1.79-4-4-4z\" stroke=\"#000\" stroke-linecap=\"round\" stroke-width=\"1.5\" /></g><g class=\"black knight\" fill=\"none\" fill-rule=\"evenodd\" id=\"black-knight\" stroke=\"#000\" stroke-linecap=\"round\" stroke-linejoin=\"round\" stroke-width=\"1.5\"><path d=\"M 22,10 C 32.5,11 38.5,18 38,39 L 15,39 C 15,30 25,32.5 23,18\" style=\"fill:#000000; stroke:#000000;\" /><path d=\"M 24,18 C 24.38,20.91 18.45,25.37 16,27 C 13,29 13.18,31.34 11,31 C 9.958,30.06 12.41,27.96 11,28 C 10,28 11.19,29.23 10,30 C 9,30 5.997,31 6,26 C 6,24 12,14 12,14 C 12,14 13.89,12.1 14,10.5 C 13.27,9.506 13.5,8.5 13.5,7.5 C 14.5,6.5 16.5,10 16.5,10 L 18.5,10 C 18.5,10 19.28,8.008 21,7 C 22,7 22,10 22,10\" style=\"fill:#000000; stroke:#000000;\" /><path d=\"M 9.5 25.5 A 0.5 0.5 0 1 1 8.5,25.5 A 0.5 0.5 0 1 1 9.5 25.5 z\" style=\"fill:#ececec; stroke:#ececec;\" /><path d=\"M 15 15.5 A 0.5 1.5 0 1 1 14,15.5 A 0.5 1.5 0 1 1 15 15.5 z\" style=\"fill:#ececec; stroke:#ececec;\" transform=\"matrix(0.866,0.5,-0.5,0.866,9.693,-5.173)\" /><path d=\"M 24.55,10.4 L 24.1,11.85 L 24.6,12 C 27.75,13 30.25,14.49 32.5,18.75 C 34.75,23.01 35.75,29.06 35.25,39 L 35.2,39.5 L 37.45,39.5 L 37.5,39 C 38,28.94 36.62,22.15 34.25,17.66 C 31.88,13.17 28.46,11.02 25.06,10.5 L 24.55,10.4 z \" style=\"fill:#ececec; stroke:none;\" /></g><g class=\"black rook\" fill=\"#000\" fill-rule=\"evenodd\" id=\"black-rook\" stroke=\"#000\" stroke-linecap=\"round\" stroke-linejoin=\"round\" stroke-width=\"1.5\"><path d=\"M9 39h27v-3H9v3zM12.5 32l1.5-2.5h17l1.5 2.5h-20zM12 36v-4h21v4H12z\" stroke-linecap=\"butt\" /><path d=\"M14 29.5v-13h17v13H14z\" stroke-linecap=\"butt\" stroke-linejoin=\"miter\" /><path d=\"M14 16.5L11 14h23l-3 2.5H14zM11 14V9h4v2h5V9h5v2h5V9h4v5H11z\" stroke-linecap=\"butt\" /><path d=\"M12 35.5h21M13 31.5h19M14 29.5h17M14 16.5h17M11 14h23\" fill=\"none\" stroke=\"#fff\" stroke-linejoin=\"miter\" stroke-width=\"1\" /></g><g class=\"black queen\" fill=\"#000\" fill-rule=\"evenodd\" id=\"black-queen\" stroke=\"#000\" stroke-linecap=\"round\" stroke-linejoin=\"round\" stroke-width=\"1.5\"><g fill=\"#000\" stroke=\"none\"><circle cx=\"6\" cy=\"12\" r=\"2.75\" /><circle cx=\"14\" cy=\"9\" r=\"2.75\" /><circle cx=\"22.5\" cy=\"8\" r=\"2.75\" /><circle cx=\"31\" cy=\"9\" r=\"2.75\" /><circle cx=\"39\" cy=\"12\" r=\"2.75\" /></g><path d=\"M9 26c8.5-1.5 21-1.5 27 0l2.5-12.5L31 25l-.3-14.1-5.2 13.6-3-14.5-3 14.5-5.2-13.6L14 25 6.5 13.5 9 26zM9 26c0 2 1.5 2 2.5 4 1 1.5 1 1 .5 3.5-1.5 1-1.5 2.5-1.5 2.5-1.5 1.5.5 2.5.5 2.5 6.5 1 16.5 1 23 0 0 0 1.5-1 0-2.5 0 0 .5-1.5-1-2.5-.5-2.5-.5-2 .5-3.5 1-2 2.5-2 2.5-4-8.5-1.5-18.5-1.5-27 0z\" stroke-linecap=\"butt\" /><path d=\"M11 38.5a35 35 1 0 0 23 0\" fill=\"none\" stroke-linecap=\"butt\" /><path d=\"M11 29a35 35 1 0 1 23 0M12.5 31.5h20M11.5 34.5a35 35 1 0 0 22 0M10.5 37.5a35 35 1 0 0 24 0\" fill=\"none\" stroke=\"#fff\" /></g><g class=\"black king\" fill=\"none\" fill-rule=\"evenodd\" id=\"black-king\" stroke=\"#000\" stroke-linecap=\"round\" stroke-linejoin=\"round\" stroke-width=\"1.5\"><path d=\"M22.5 11.63V6\" stroke-linejoin=\"miter\" /><path d=\"M22.5 25s4.5-7.5 3-10.5c0 0-1-2.5-3-2.5s-3 2.5-3 2.5c-1.5 3 3 10.5 3 10.5\" fill=\"#000\" stroke-linecap=\"butt\" stroke-linejoin=\"miter\" /><path d=\"M11.5 37c5.5 3.5 15.5 3.5 21 0v-7s9-4.5 6-10.5c-4-6.5-13.5-3.5-16 4V27v-3.5c-3.5-7.5-13-10.5-16-4-3 6 5 10 5 10V37z\" fill=\"#000\" /><path d=\"M20 8h5\" stroke-linejoin=\"miter\" /><path d=\"M32 29.5s8.5-4 6.03-9.65C34.15 14 25 18 22.5 24.5l.01 2.1-.01-2.1C20 18 9.906 14 6.997 19.85c-2.497 5.65 4.853 9 4.853 9M11.5 30c5.5-3 15.5-3 21 0m-21 3.5c5.5-3 15.5-3 21 0m-21 3.5c5.5-3 15.5-3 21 0\" stroke=\"#fff\" /></g><radialGradient id=\"check_gradient\"><stop offset=\"0%\" stop-color=\"#ff0000\" stop-opacity=\"1.0\" /><stop offset=\"50%\" stop-color=\"#e70000\" stop-opacity=\"1.0\" /><stop offset=\"100%\" stop-color=\"#9e0000\" stop-opacity=\"0.0\" /></radialGradient></defs><rect class=\"square dark a1\" fill=\"#d18b47\" height=\"45\" stroke=\"none\" width=\"45\" x=\"20\" y=\"335\" /><rect class=\"square light b1\" fill=\"#ffce9e\" height=\"45\" stroke=\"none\" width=\"45\" x=\"65\" y=\"335\" /><rect class=\"square dark c1\" fill=\"#d18b47\" height=\"45\" stroke=\"none\" width=\"45\" x=\"110\" y=\"335\" /><use transform=\"translate(110, 335)\" xlink:href=\"#white-king\" /><rect class=\"square light d1\" fill=\"#ffce9e\" height=\"45\" stroke=\"none\" width=\"45\" x=\"155\" y=\"335\" /><use transform=\"translate(155, 335)\" xlink:href=\"#white-rook\" /><rect class=\"square dark e1\" fill=\"#d18b47\" height=\"45\" stroke=\"none\" width=\"45\" x=\"200\" y=\"335\" /><rect class=\"square light f1\" fill=\"#ffce9e\" height=\"45\" stroke=\"none\" width=\"45\" x=\"245\" y=\"335\" /><rect class=\"square dark g1\" fill=\"#d18b47\" height=\"45\" stroke=\"none\" width=\"45\" x=\"290\" y=\"335\" /><rect class=\"square light h1\" fill=\"#ffce9e\" height=\"45\" stroke=\"none\" width=\"45\" x=\"335\" y=\"335\" /><use transform=\"translate(335, 335)\" xlink:href=\"#white-rook\" /><rect class=\"square light a2\" fill=\"#ffce9e\" height=\"45\" stroke=\"none\" width=\"45\" x=\"20\" y=\"290\" /><use transform=\"translate(20, 290)\" xlink:href=\"#white-pawn\" /><rect class=\"square dark b2\" fill=\"#d18b47\" height=\"45\" stroke=\"none\" width=\"45\" x=\"65\" y=\"290\" /><use transform=\"translate(65, 290)\" xlink:href=\"#white-pawn\" /><rect class=\"square light c2\" fill=\"#ffce9e\" height=\"45\" stroke=\"none\" width=\"45\" x=\"110\" y=\"290\" /><use transform=\"translate(110, 290)\" xlink:href=\"#white-pawn\" /><rect class=\"square dark d2\" fill=\"#d18b47\" height=\"45\" stroke=\"none\" width=\"45\" x=\"155\" y=\"290\" /><rect class=\"square light e2\" fill=\"#ffce9e\" height=\"45\" stroke=\"none\" width=\"45\" x=\"200\" y=\"290\" /><rect class=\"square dark f2\" fill=\"#d18b47\" height=\"45\" stroke=\"none\" width=\"45\" x=\"245\" y=\"290\" /><rect class=\"square light g2\" fill=\"#ffce9e\" height=\"45\" stroke=\"none\" width=\"45\" x=\"290\" y=\"290\" /><use transform=\"translate(290, 290)\" xlink:href=\"#white-pawn\" /><rect class=\"square dark h2\" fill=\"#d18b47\" height=\"45\" stroke=\"none\" width=\"45\" x=\"335\" y=\"290\" /><use transform=\"translate(335, 290)\" xlink:href=\"#white-pawn\" /><rect class=\"square dark a3\" fill=\"#d18b47\" height=\"45\" stroke=\"none\" width=\"45\" x=\"20\" y=\"245\" /><rect class=\"square light b3\" fill=\"#ffce9e\" height=\"45\" stroke=\"none\" width=\"45\" x=\"65\" y=\"245\" /><rect class=\"square dark c3\" fill=\"#d18b47\" height=\"45\" stroke=\"none\" width=\"45\" x=\"110\" y=\"245\" /><rect class=\"square light d3\" fill=\"#ffce9e\" height=\"45\" stroke=\"none\" width=\"45\" x=\"155\" y=\"245\" /><rect class=\"square dark e3\" fill=\"#d18b47\" height=\"45\" stroke=\"none\" width=\"45\" x=\"200\" y=\"245\" /><rect class=\"square light f3\" fill=\"#ffce9e\" height=\"45\" stroke=\"none\" width=\"45\" x=\"245\" y=\"245\" /><use transform=\"translate(245, 245)\" xlink:href=\"#white-pawn\" /><rect class=\"square dark g3\" fill=\"#d18b47\" height=\"45\" stroke=\"none\" width=\"45\" x=\"290\" y=\"245\" /><rect class=\"square light h3\" fill=\"#ffce9e\" height=\"45\" stroke=\"none\" width=\"45\" x=\"335\" y=\"245\" /><rect class=\"square light a4\" fill=\"#ffce9e\" height=\"45\" stroke=\"none\" width=\"45\" x=\"20\" y=\"200\" /><rect class=\"square dark b4\" fill=\"#d18b47\" height=\"45\" stroke=\"none\" width=\"45\" x=\"65\" y=\"200\" /><rect class=\"square light c4\" fill=\"#ffce9e\" height=\"45\" stroke=\"none\" width=\"45\" x=\"110\" y=\"200\" /><rect class=\"square dark d4\" fill=\"#d18b47\" height=\"45\" stroke=\"none\" width=\"45\" x=\"155\" y=\"200\" /><use transform=\"translate(155, 200)\" xlink:href=\"#white-queen\" /><rect class=\"square light e4\" fill=\"#ffce9e\" height=\"45\" stroke=\"none\" width=\"45\" x=\"200\" y=\"200\" /><rect class=\"square dark f4\" fill=\"#d18b47\" height=\"45\" stroke=\"none\" width=\"45\" x=\"245\" y=\"200\" /><rect class=\"square light g4\" fill=\"#ffce9e\" height=\"45\" stroke=\"none\" width=\"45\" x=\"290\" y=\"200\" /><rect class=\"square dark h4\" fill=\"#d18b47\" height=\"45\" stroke=\"none\" width=\"45\" x=\"335\" y=\"200\" /><rect class=\"square dark a5\" fill=\"#d18b47\" height=\"45\" stroke=\"none\" width=\"45\" x=\"20\" y=\"155\" /><use transform=\"translate(20, 155)\" xlink:href=\"#black-queen\" /><rect class=\"square light b5\" fill=\"#ffce9e\" height=\"45\" stroke=\"none\" width=\"45\" x=\"65\" y=\"155\" /><rect class=\"square dark c5\" fill=\"#d18b47\" height=\"45\" stroke=\"none\" width=\"45\" x=\"110\" y=\"155\" /><rect class=\"square light lastmove d5\" fill=\"#cdd16a\" height=\"45\" stroke=\"none\" width=\"45\" x=\"155\" y=\"155\" /><rect class=\"square dark e5\" fill=\"#d18b47\" height=\"45\" stroke=\"none\" width=\"45\" x=\"200\" y=\"155\" /><rect class=\"square light f5\" fill=\"#ffce9e\" height=\"45\" stroke=\"none\" width=\"45\" x=\"245\" y=\"155\" /><rect class=\"square dark g5\" fill=\"#d18b47\" height=\"45\" stroke=\"none\" width=\"45\" x=\"290\" y=\"155\" /><rect class=\"square light h5\" fill=\"#ffce9e\" height=\"45\" stroke=\"none\" width=\"45\" x=\"335\" y=\"155\" /><rect class=\"square light a6\" fill=\"#ffce9e\" height=\"45\" stroke=\"none\" width=\"45\" x=\"20\" y=\"110\" /><rect class=\"square dark b6\" fill=\"#d18b47\" height=\"45\" stroke=\"none\" width=\"45\" x=\"65\" y=\"110\" /><rect class=\"square light c6\" fill=\"#ffce9e\" height=\"45\" stroke=\"none\" width=\"45\" x=\"110\" y=\"110\" /><rect class=\"square dark d6\" fill=\"#d18b47\" height=\"45\" stroke=\"none\" width=\"45\" x=\"155\" y=\"110\" /><rect class=\"square light e6\" fill=\"#ffce9e\" height=\"45\" stroke=\"none\" width=\"45\" x=\"200\" y=\"110\" /><use transform=\"translate(200, 110)\" xlink:href=\"#white-pawn\" /><rect class=\"square dark f6\" fill=\"#d18b47\" height=\"45\" stroke=\"none\" width=\"45\" x=\"245\" y=\"110\" /><rect class=\"square light g6\" fill=\"#ffce9e\" height=\"45\" stroke=\"none\" width=\"45\" x=\"290\" y=\"110\" /><use transform=\"translate(290, 110)\" xlink:href=\"#black-pawn\" /><rect class=\"square dark h6\" fill=\"#d18b47\" height=\"45\" stroke=\"none\" width=\"45\" x=\"335\" y=\"110\" /><rect class=\"square dark a7\" fill=\"#d18b47\" height=\"45\" stroke=\"none\" width=\"45\" x=\"20\" y=\"65\" /><use transform=\"translate(20, 65)\" xlink:href=\"#black-pawn\" /><rect class=\"square light b7\" fill=\"#ffce9e\" height=\"45\" stroke=\"none\" width=\"45\" x=\"65\" y=\"65\" /><use transform=\"translate(65, 65)\" xlink:href=\"#black-pawn\" /><rect class=\"square dark c7\" fill=\"#d18b47\" height=\"45\" stroke=\"none\" width=\"45\" x=\"110\" y=\"65\" /><rect class=\"square light d7\" fill=\"#ffce9e\" height=\"45\" stroke=\"none\" width=\"45\" x=\"155\" y=\"65\" /><rect class=\"square dark lastmove e7\" fill=\"#aaa23b\" height=\"45\" stroke=\"none\" width=\"45\" x=\"200\" y=\"65\" /><use transform=\"translate(200, 65)\" xlink:href=\"#white-knight\" /><rect class=\"square light f7\" fill=\"#ffce9e\" height=\"45\" stroke=\"none\" width=\"45\" x=\"245\" y=\"65\" /><rect class=\"square dark g7\" fill=\"#d18b47\" height=\"45\" stroke=\"none\" width=\"45\" x=\"290\" y=\"65\" /><rect class=\"square light h7\" fill=\"#ffce9e\" height=\"45\" stroke=\"none\" width=\"45\" x=\"335\" y=\"65\" /><use transform=\"translate(335, 65)\" xlink:href=\"#black-pawn\" /><rect class=\"square light a8\" fill=\"#ffce9e\" height=\"45\" stroke=\"none\" width=\"45\" x=\"20\" y=\"20\" /><rect class=\"square dark b8\" fill=\"#d18b47\" height=\"45\" stroke=\"none\" width=\"45\" x=\"65\" y=\"20\" /><rect class=\"square light c8\" fill=\"#ffce9e\" height=\"45\" stroke=\"none\" width=\"45\" x=\"110\" y=\"20\" /><use transform=\"translate(110, 20)\" xlink:href=\"#black-rook\" /><rect class=\"square dark d8\" fill=\"#d18b47\" height=\"45\" stroke=\"none\" width=\"45\" x=\"155\" y=\"20\" /><rect class=\"square light e8\" fill=\"#ffce9e\" height=\"45\" stroke=\"none\" width=\"45\" x=\"200\" y=\"20\" /><use transform=\"translate(200, 20)\" xlink:href=\"#black-knight\" /><rect class=\"square dark f8\" fill=\"#d18b47\" height=\"45\" stroke=\"none\" width=\"45\" x=\"245\" y=\"20\" /><use transform=\"translate(245, 20)\" xlink:href=\"#black-rook\" /><rect class=\"square light g8\" fill=\"#ffce9e\" height=\"45\" stroke=\"none\" width=\"45\" x=\"290\" y=\"20\" /><rect class=\"check\" fill=\"url(#check_gradient)\" height=\"45\" width=\"45\" x=\"290\" y=\"20\" /><use transform=\"translate(290, 20)\" xlink:href=\"#black-king\" /><rect class=\"square dark h8\" fill=\"#d18b47\" height=\"45\" stroke=\"none\" width=\"45\" x=\"335\" y=\"20\" /><text alignment-baseline=\"middle\" font-size=\"14\" text-anchor=\"middle\" x=\"42\" y=\"10\">a</text><text alignment-baseline=\"middle\" font-size=\"14\" text-anchor=\"middle\" x=\"42\" y=\"390\">a</text><text alignment-baseline=\"middle\" font-size=\"14\" text-anchor=\"middle\" x=\"87\" y=\"10\">b</text><text alignment-baseline=\"middle\" font-size=\"14\" text-anchor=\"middle\" x=\"87\" y=\"390\">b</text><text alignment-baseline=\"middle\" font-size=\"14\" text-anchor=\"middle\" x=\"132\" y=\"10\">c</text><text alignment-baseline=\"middle\" font-size=\"14\" text-anchor=\"middle\" x=\"132\" y=\"390\">c</text><text alignment-baseline=\"middle\" font-size=\"14\" text-anchor=\"middle\" x=\"177\" y=\"10\">d</text><text alignment-baseline=\"middle\" font-size=\"14\" text-anchor=\"middle\" x=\"177\" y=\"390\">d</text><text alignment-baseline=\"middle\" font-size=\"14\" text-anchor=\"middle\" x=\"222\" y=\"10\">e</text><text alignment-baseline=\"middle\" font-size=\"14\" text-anchor=\"middle\" x=\"222\" y=\"390\">e</text><text alignment-baseline=\"middle\" font-size=\"14\" text-anchor=\"middle\" x=\"267\" y=\"10\">f</text><text alignment-baseline=\"middle\" font-size=\"14\" text-anchor=\"middle\" x=\"267\" y=\"390\">f</text><text alignment-baseline=\"middle\" font-size=\"14\" text-anchor=\"middle\" x=\"312\" y=\"10\">g</text><text alignment-baseline=\"middle\" font-size=\"14\" text-anchor=\"middle\" x=\"312\" y=\"390\">g</text><text alignment-baseline=\"middle\" font-size=\"14\" text-anchor=\"middle\" x=\"357\" y=\"10\">h</text><text alignment-baseline=\"middle\" font-size=\"14\" text-anchor=\"middle\" x=\"357\" y=\"390\">h</text><text alignment-baseline=\"middle\" font-size=\"14\" text-anchor=\"middle\" x=\"10\" y=\"357\">1</text><text alignment-baseline=\"middle\" font-size=\"14\" text-anchor=\"middle\" x=\"390\" y=\"357\">1</text><text alignment-baseline=\"middle\" font-size=\"14\" text-anchor=\"middle\" x=\"10\" y=\"312\">2</text><text alignment-baseline=\"middle\" font-size=\"14\" text-anchor=\"middle\" x=\"390\" y=\"312\">2</text><text alignment-baseline=\"middle\" font-size=\"14\" text-anchor=\"middle\" x=\"10\" y=\"267\">3</text><text alignment-baseline=\"middle\" font-size=\"14\" text-anchor=\"middle\" x=\"390\" y=\"267\">3</text><text alignment-baseline=\"middle\" font-size=\"14\" text-anchor=\"middle\" x=\"10\" y=\"222\">4</text><text alignment-baseline=\"middle\" font-size=\"14\" text-anchor=\"middle\" x=\"390\" y=\"222\">4</text><text alignment-baseline=\"middle\" font-size=\"14\" text-anchor=\"middle\" x=\"10\" y=\"177\">5</text><text alignment-baseline=\"middle\" font-size=\"14\" text-anchor=\"middle\" x=\"390\" y=\"177\">5</text><text alignment-baseline=\"middle\" font-size=\"14\" text-anchor=\"middle\" x=\"10\" y=\"132\">6</text><text alignment-baseline=\"middle\" font-size=\"14\" text-anchor=\"middle\" x=\"390\" y=\"132\">6</text><text alignment-baseline=\"middle\" font-size=\"14\" text-anchor=\"middle\" x=\"10\" y=\"87\">7</text><text alignment-baseline=\"middle\" font-size=\"14\" text-anchor=\"middle\" x=\"390\" y=\"87\">7</text><text alignment-baseline=\"middle\" font-size=\"14\" text-anchor=\"middle\" x=\"10\" y=\"42\">8</text><text alignment-baseline=\"middle\" font-size=\"14\" text-anchor=\"middle\" x=\"390\" y=\"42\">8</text></svg>"
      ],
      "text/plain": [
       "Board('2r1nrk1/pp2N2p/4P1p1/q7/3Q4/5P2/PPP3PP/2KR3R b - - 0 18')"
      ]
     },
     "execution_count": 71,
     "metadata": {},
     "output_type": "execute_result"
    }
   ],
   "source": [
    "board"
   ]
  },
  {
   "cell_type": "code",
   "execution_count": 70,
   "metadata": {
    "scrolled": true
   },
   "outputs": [
    {
     "name": "stdout",
     "output_type": "stream",
     "text": [
      ". . r . n r k .\n",
      "p p . . N . . p\n",
      ". . . . P . p .\n",
      "q . . . . . . .\n",
      ". . . Q . . . .\n",
      ". . . . . P . .\n",
      "P P P . . . P P\n",
      ". . K R . . . R\n"
     ]
    }
   ],
   "source": [
    "print(chess.Board('2r1nrk1/pp2N2p/4P1p1/q7/3Q4/5P2/PPP3PP/2KR3R b - - 0 18'))"
   ]
  },
  {
   "cell_type": "code",
   "execution_count": 73,
   "metadata": {},
   "outputs": [],
   "source": [
    "uni_str='2r1nrk1/pp2N2p/4P1p1/q7/3Q4/5P2/PPP3PP/2KR3R'\n"
   ]
  },
  {
   "cell_type": "code",
   "execution_count": 74,
   "metadata": {},
   "outputs": [],
   "source": [
    "uni_str=uni_str.split('/')"
   ]
  },
  {
   "cell_type": "code",
   "execution_count": 75,
   "metadata": {},
   "outputs": [
    {
     "data": {
      "text/plain": [
       "['2r1nrk1', 'pp2N2p', '4P1p1', 'q7', '3Q4', '5P2', 'PPP3PP', '2KR3R']"
      ]
     },
     "execution_count": 75,
     "metadata": {},
     "output_type": "execute_result"
    }
   ],
   "source": [
    "uni_str"
   ]
  },
  {
   "cell_type": "code",
   "execution_count": 122,
   "metadata": {},
   "outputs": [],
   "source": [
    "def uni_to_numpy(board):\n",
    "    uni_str=str(board.unicode).split(\"'\")[1].split(' ')[0]\n",
    "    uni_str=uni_str.split('/')\n",
    "    b=np.zeros(64).reshape(8,8)\n",
    "    b=np.array([b,b])\n",
    "    x=0\n",
    "    y=0\n",
    "    pdict={\n",
    "        'P':[1,1],\n",
    "        'p':[1,2],\n",
    "        'N':[2,1],\n",
    "        'n':[2,2],\n",
    "        'B':[3,1],\n",
    "        'b':[3,2],\n",
    "        'R':[4,1],\n",
    "        'r':[4,2],   \n",
    "        'Q':[5,1],\n",
    "        'q':[5,2],   \n",
    "        'K':[6,1],\n",
    "        'k':[6,2]\n",
    "    }\n",
    "    for i in uni_str:\n",
    "        for j in i:\n",
    "            try:\n",
    "                j=int(j)\n",
    "                x=x+j\n",
    "            except ValueError:\n",
    "                b[0,y,x]=pdict[j][0]\n",
    "                b[1,y,x]=pdict[j][1]\n",
    "                x=x+1\n",
    "        y=y+1\n",
    "        x=0\n",
    "    return b\n",
    "def getUnicode(board):\n",
    "    return str(board.unicode).split(\"'\")[1].split(' ')[0]"
   ]
  },
  {
   "cell_type": "code",
   "execution_count": 130,
   "metadata": {},
   "outputs": [
    {
     "data": {
      "text/plain": [
       "array([[[4., 2., 3., 5., 6., 3., 2., 4.],\n",
       "        [1., 1., 0., 1., 1., 1., 1., 1.],\n",
       "        [0., 0., 0., 0., 0., 0., 0., 0.],\n",
       "        [0., 0., 1., 0., 0., 0., 0., 0.],\n",
       "        [0., 0., 0., 0., 1., 0., 0., 0.],\n",
       "        [0., 0., 0., 0., 0., 0., 0., 0.],\n",
       "        [1., 1., 1., 1., 0., 1., 1., 1.],\n",
       "        [4., 2., 3., 5., 6., 3., 2., 4.]],\n",
       "\n",
       "       [[2., 2., 2., 2., 2., 2., 2., 2.],\n",
       "        [2., 2., 0., 2., 2., 2., 2., 2.],\n",
       "        [0., 0., 0., 0., 0., 0., 0., 0.],\n",
       "        [0., 0., 2., 0., 0., 0., 0., 0.],\n",
       "        [0., 0., 0., 0., 1., 0., 0., 0.],\n",
       "        [0., 0., 0., 0., 0., 0., 0., 0.],\n",
       "        [1., 1., 1., 1., 0., 1., 1., 1.],\n",
       "        [1., 1., 1., 1., 1., 1., 1., 1.]]])"
      ]
     },
     "execution_count": 130,
     "metadata": {},
     "output_type": "execute_result"
    }
   ],
   "source": [
    "game_steps[1]"
   ]
  },
  {
   "cell_type": "code",
   "execution_count": 131,
   "metadata": {},
   "outputs": [],
   "source": [
    "x=pd.read_csv('../chess/games.csv')"
   ]
  },
  {
   "cell_type": "code",
   "execution_count": 132,
   "metadata": {},
   "outputs": [],
   "source": [
    "xn=np.asarray(x)"
   ]
  },
  {
   "cell_type": "code",
   "execution_count": 133,
   "metadata": {},
   "outputs": [],
   "source": [
    "myx=xn[:,[5,6,9,11,12]]"
   ]
  },
  {
   "cell_type": "code",
   "execution_count": 134,
   "metadata": {},
   "outputs": [],
   "source": [
    "myx=myx[np.where(myx[:,0]=='mate')]"
   ]
  },
  {
   "cell_type": "code",
   "execution_count": 135,
   "metadata": {},
   "outputs": [],
   "source": [
    "x2=myx[np.where(myx[:,2:3]>=2000)[0]]"
   ]
  },
  {
   "cell_type": "code",
   "execution_count": 136,
   "metadata": {},
   "outputs": [],
   "source": [
    "x2=x2[:,1:5]"
   ]
  },
  {
   "cell_type": "code",
   "execution_count": 139,
   "metadata": {},
   "outputs": [],
   "source": [
    "x2[x2=='white']=0\n",
    "x2[x2=='black']=1"
   ]
  },
  {
   "cell_type": "code",
   "execution_count": 142,
   "metadata": {},
   "outputs": [],
   "source": [
    "x2=x2[:,[0,3]]"
   ]
  },
  {
   "cell_type": "code",
   "execution_count": 144,
   "metadata": {},
   "outputs": [
    {
     "data": {
      "text/plain": [
       "array([0, 0, 0, 1, 1, 0, 0, 0, 1, 0, 0, 0, 1, 0, 0, 0, 0, 0, 0, 0, 0, 0,\n",
       "       0, 1, 0, 0, 0, 0, 1, 0, 0, 0, 0, 0, 0, 0, 0, 1, 0, 1, 0, 0, 0, 0,\n",
       "       0, 0, 1, 0, 0, 1, 1, 0, 0, 0, 1, 0, 0, 0, 1, 1, 0, 0, 0, 0, 0, 0,\n",
       "       1, 0, 0, 0, 0, 0, 0, 0, 0, 0, 0, 1, 0, 0, 0, 1, 1, 1, 0, 0, 0, 1,\n",
       "       1, 1, 1, 0, 0, 0, 0, 0, 0, 0, 0, 0, 0, 1, 1, 0, 0, 1, 0, 0, 0, 0,\n",
       "       1, 0, 0, 0, 0, 1, 0, 0, 0, 0, 0, 0, 1, 0, 0, 0, 1, 0, 0, 0, 0, 0,\n",
       "       1, 1, 1, 1, 0, 0, 0, 0, 0, 0, 0, 0, 0, 0, 1, 1, 0, 0, 0, 0, 0, 1,\n",
       "       1, 0, 0, 0, 1, 0, 1, 0, 0, 0, 1, 1, 1, 0, 1, 0, 1, 1, 0, 0, 0, 0,\n",
       "       0, 0, 0, 1, 0, 0, 0, 0, 1, 0, 0, 0, 0, 0, 0, 0, 1, 0, 1, 1, 0, 0,\n",
       "       0, 0, 0, 1, 1, 0, 1, 0, 1, 0, 0, 1, 0, 0, 0, 0, 0, 0, 0, 0, 1, 0,\n",
       "       0, 0, 0, 1, 0, 1, 0, 0, 0, 0, 0, 0, 1, 0, 1, 0, 0, 1, 0, 0, 1, 0,\n",
       "       0, 0, 0, 1, 0, 0, 0, 0, 1, 1, 1, 0, 0, 0, 0, 0, 0, 0, 0, 0, 0, 0,\n",
       "       1, 0, 0, 0, 0, 0, 0, 1, 1, 0, 1, 0, 0, 0, 0, 1, 0, 0, 0, 0, 0, 0,\n",
       "       0, 0, 0, 0, 0, 1, 0, 0, 0, 0, 0, 1, 0, 0, 0, 0, 1, 1, 0, 1, 0, 0,\n",
       "       0, 0, 1, 1, 1, 0, 0, 0, 0, 1, 0], dtype=object)"
      ]
     },
     "execution_count": 144,
     "metadata": {},
     "output_type": "execute_result"
    }
   ],
   "source": [
    "y=x2[:,0]\n",
    "y"
   ]
  },
  {
   "cell_type": "code",
   "execution_count": 145,
   "metadata": {},
   "outputs": [
    {
     "data": {
      "text/plain": [
       "array(['e4 c5 Nf3 d6 d4 cxd4 Nxd4 Nf6 Nc3 g6 Be3 Bg7 f3 O-O Qd2 Nc6 Bc4 Be6 Bxe6 Nxd4 Bxf7+ Rxf7 Bxd4 d5 e5 Ne8 e6 Rf8 O-O-O Bxd4 Qxd4 Qa5 Nxd5 Rc8 Nxe7#',\n",
       "       'e4 d5 exd5 Qxd5 Qf3 Qe5+ Ne2 Nf6 d4 Qd5 Qxd5 Nxd5 a3 Nb6 Ng3 Nc6 Be3 e5 dxe5 Nxe5 Nd2 Be6 O-O-O Nbc4 Nxc4 Nxc4 Bxc4 Bxc4 Rhe1 Be7 Nf5 Be6 Nxg7+ Kf8 Bh6 Bg4 f3 Be6 Nxe6+ Ke8 Nxc7#',\n",
       "       'd4 Nf6 Bf4 g6 e3 Bg7 Nf3 O-O Be2 d6 O-O Nh5 Bg5 h6 Bh4 c5 c3 Bf5 dxc5 dxc5 Qxd8 Rxd8 Bxe7 Rd5 Bc4 Rd7 Bxc5 Rc7 b4 Nd7 Nd4 Nxc5 Nxf5 gxf5 bxc5 Rxc5 Be2 Nf6 Bf3 Ne4 Bxe4 fxe4 Nd2 Re8 Rab1 b6 Rb4 Bxc3 Rxe4 Rxe4 Nxe4 Rc4 Rc1 Rxe4 Rxc3 Ra4 Rc2 Kf8 Kf1 Ke7 Ke2 Kd6 Kd2 Kd5 f3 Rc4 Rxc4 Kxc4 e4 Kd4 g3 a5 a4 Kc4 f4 Kb4 e5 Kxa4 f5 Kb3 e6 fxe6 fxe6 a4 e7 a3 e8=Q a2 Qe6+ Kb2 Qe5+ Kb1 Qe4+ Kb2 Qd4+ Kb1 Qxb6+ Ka1 Qf6+ Kb1 Qf5+ Ka1 Qe5+ Kb1 Qe4+ Ka1 Qd4+ Kb1 Qd3+ Ka1 Qc3+ Kb1 Qc2+ Ka1 Qc1#',\n",
       "       'Nf3 d5 Nd4 e5 Nf3 e4 Ng1 Bc5 e3 Bf5 d4 Bd6 c4 dxc4 Nc3 Be6 d5 Bf5 Bxc4 Ne7 Qd4 c5 Qxg7 Rg8 Qh6 Rxg2 Nb5 Be5 Ne2 Bg7 Qh4 Ng6 Qh5 Bg4 Qxh7 Qf6 Nc7+ Kd8 Qg8+ Kxc7 Rf1 Ne7 Qe8 Bd7 d6+ Kxd6 Qd8 Nbc6 Qxa8 Bh3 Qxb7 Rxh2 Nf4 Bxf1 Bxf1 Qh4 Be2 Qxf2+ Kd2 Nd5 Nxd5 Qxe2#',\n",
       "       'Nf3 c6 Nc3 d5 Ng1 Nf6 Nb1 e5 Nc3 Bd6 Nb1 Bf5 Nc3 Nbd7 Nb1 O-O Nf3 e4 Ng1 Qa5 Nc3 d4 Nb1 e3 c3 exd2+ Bxd2 dxc3 Nxc3 Ne4 Nxe4 Qxd2+ Nxd2 Bb4 Nf3 Nc5 a3 Ba5 b4 Rfe8 bxa5 Nd3#',\n",
       "       'e4 e5 Nf3 Nc6 Bb5 d6 d4 Bd7 O-O Nf6 Re1 a6 Bxc6 Bxc6 Nc3 Be7 Bg5 h6 Bh4 g5 Bg3 Nh5 Nxe5 dxe5 Qxh5 Bf6 dxe5 Be7 Rad1 Qc8 Nd5 Bxd5 exd5 Qf5 d6 Bd8 e6 Qg6 e7 Qxh5 d7#',\n",
       "       'd4 d5 c4 e6 Nf3 Nf6 Nc3 a6 Bg5 Be7 e3 h6 Bxf6 Bxf6 cxd5 exd5 Qb3 c6 Bd3 O-O O-O Re8 Qc2 Bg4 Rac1 Bxf3 gxf3 Bh4 Bh7+ Kh8 Bf5 Nd7 f4 Nf6 Qb3 Qc7 Nxd5 Qd6 Nb6 g6 Bd3 Rad8 Qxf7 Ng4 Nc4 Qe6 Qxb7 Rd5 Qxa6 Rh5 Be2 Nxe3 fxe3 Qh3 Bxh5 gxh5 Qxc6 Rg8+ Kh1 Bg3 Qxh6#',\n",
       "       'e4 c5 Nf3 Nc6 Nc3 g6 d4 cxd4 Nxd4 Bg7 Be3 e6 Bc4 Nge7 O-O O-O Qd2 f5 f3 f4 Bf2 Kh8 Nxc6 Nxc6 Rfd1 a6 Bc5 Rf7 Bxe6 Rf6 Bxd7 Bxd7 Qxd7 Qxd7 Rxd7 b5 Nd5 Rd8 Rxd8+ Nxd8 Nxf6 Bxf6 Rd1 Kg7 e5 Bg5 Rd7+ Kh6 Bf8+ Kh5 Rxh7+ Bh6 h4 Ne6 Rxh6#',\n",
       "       'e4 c5 Nf3 e6 d4 cxd4 Nxd4 a6 Nc3 b5 a3 Bb7 Be2 d6 O-O Nf6 Bd3 Nbd7 Re1 Be7 Bg5 O-O Nf3 Ng4 Bf4 Bf6 Bxd6 Nxf2 Kxf2 Qb6+ Re3 Qxd6 e5 Qc5 exf6 Nxf6 h3 e5 b4 Qb6 Nxe5 Rae8 Ke2 Qc7 Qf1 Rxe5 Rxe5 Qxe5+ Kd2 Rc8 Ne2 Nd5 Rb1 Qg5+ Ke1 Ne3 Qf2 Nxg2+ Kd1 Ne3+ Ke1 Re8 Rb3 Bd5 Rc3 Nc4 Qf5 Rxe2+ Kxe2 Qe3+ Kf1 Nd2#',\n",
       "       'e4 e5 Nf3 d6 d4 Bg4 dxe5 dxe5 Qxd8+ Kxd8 Nxe5 Be6 Bf4 f6 Nf3 Nc6 Nc3 Nge7 O-O-O+ Bd7 Nb5 Ne5 Bxe5 fxe5 Nxe5 c6 Rxd7+ Kc8 Nd6+ Kb8 Rxb7#',\n",
       "       'd4 d6 e4 Nf6 Nc3 e5 dxe5 dxe5 Qxd8+ Kxd8 Nf3 Bd6 Bg5 Be6 O-O-O Nd7 Bxf6+ gxf6 Bb5 Rg8 Rhg1 a6 Bxd7 Kxd7 Nd5 Bxd5 Rxd5 Ke6 Rd3 Rg4 Nd2 b5 g3 h5 f3 Rg7 Rd1 Rd8 c4 bxc4 Nxc4 Rd7 Ne3 Rg8 Nf5 Rg6 a3 a5 Rd5 a4 Ra5 Rg8 Rxa4 Rb8 Ra6 Rb3 Kc2 Rxf3 Ra8 Rf2+ Kb3 Be7 Ng7#',\n",
       "       'Nf3 e6 g3 d5 Bg2 c5 O-O Nc6 c3 Qb6 d4 Nf6 dxc5 Bxc5 e3 O-O Nd4 Ne4 Nxc6 bxc6 Nd2 Nxd2 Qxd2 e5 e4 dxe4 Bxe4 Bg4 Qg5 Bh3 Qh4 Bxf1 Qxh7#',\n",
       "       'd4 c5 d5 Nf6 c4 e5 dxe6 fxe6 Nf3 d5 e3 Be7 Be2 O-O O-O Nc6 a3 Re8 Qc2 d4 exd4 cxd4 Bd3 e5 Re1 Bd6 Bg5 h6 Bxf6 Qxf6 Nbd2 Bg4 Ne4 Qe7 Nxd6 Qxd6 Qb3 Kh8 Be4 Re7 Bd5 Rf8 Rad1 Na5 Qc2 b5 b4 bxc4 bxa5 Qxd5 Rxd4 exd4 Rxe7 Bxf3 Qg6 Qg5 Qxg5 hxg5 gxf3 Rxf3 Re4 Rd3 Re2 c3 Kf1 Rd1+ Re1 Rxe1+ Kxe1 d3 Kd1 Kh7 h3 Kh6 f3 Kh5 a6 Kh4 a4 Kxh3 a5 Kg3 Ke1 Kxf3 Kd1 g4 Ke1 g3 Kd1 g2 Kc1 g1=Q#',\n",
       "       'e4 c5 Nf3 e6 c3 Nc6 d4 d5 e5 Bd7 Be2 Qb6 a3 a5 O-O Rc8 Ra2 Nge7 dxc5 Qc7 b4 Nxe5 Nxe5 Qxe5 Bf3 Nf5 Re2 Qc7 Bb2 Be7 Bg4 Bb5 Bxf5 Bxe2 Qxe2 exf5 Nd2 O-O Qf3 g6 Nb3 Rcd8 Nxa5 Bxc5 Nb3 Be7 Rd1 Bf6 g3 Rfe8 Rxd5 Rxd5 Qxd5 Bxc3 Bxc3 Qxc3 Nc5 b6 Nd7 Re6 Qa8+ Kg7 Qf8#',\n",
       "       'd4 Nf6 c4 e6 Nc3 Bb4 Qc2 d5 Bd2 Bxc3 bxc3 O-O e3 Nc6 Nf3 Qd6 cxd5 exd5 c4 Bg4 c5 Qe7 Be2 Bxf3 Bxf3 Nxd4 Qc3 Nxf3+ gxf3 Rfe8 Qd4 Qd7 Rg1 Qf5 f4 c6 Bc3 Re6 O-O-O Qh3 Rg3 Qxh2 Rdg1 Ne8 Rxg7+ Kf8 Rg8+ Ke7 R8g2 Qh4 Kc2 Re4 Qd3 Nc7 Rb1 Qh3 Rg3 Qc8 f3 Rc4 Kd2 Nb5 Bb2 Rxc5 Qxh7 Nd6 Ke2 Qf5 Qxf5 Nxf5 Rg5 Ke6 Bd4 Rc4 Rxb7 Nxd4+ exd4 Rxd4 Re5+ Kf6 Ke3 Ra4 Ree7 Kg6 Rxf7 Re8+ Kf2 Rxa2+ Kg3 d4 f5+ Kg5 f4+ Kh5 Rh7#',\n",
       "       'e4 c5 Nf3 e6 b3 d6 Bb2 Nd7 c3 Ngf6 Bd3 Be7 Bc2 Qc7 O-O O-O d4 b6 Nbd2 Bb7 Rc1 e5 dxe5 Nxe5 c4 Rad8 Re1 Nxf3+ Nxf3 Nd7 Qd3 Bf6 e5 dxe5 Qxh7#',\n",
       "       'd4 f5 Nc3 d6 e4 Nf6 Bd3 e6 Bg5 Be7 Bxf6 Bxf6 exf5 exf5 Qf3 Qe7+ Nge2 Bxd4 O-O-O Qg5+ Kb1 Nc6 Rhe1 O-O Qd5+ Kh8 Nxd4 Nxd4 Qxd4 Bd7 h4 Qh5 f3 f4 Re7 Rf7 Rde1 Qxh4 Qe4 Rxe7 Qxe7 g5 Nd5 Re8 Qf6+ Kg8 Rxe8+ Bxe8 Ne7#',\n",
       "       'e4 e6 d4 d5 Nd2 Nf6 e5 Nfd7 c3 c5 f4 Nc6 Ngf3 Qb6 Nb3 cxd4 cxd4 Bb4+ Bd2 h6 Bxb4 Qxb4+ Qd2 Qxd2+ Kxd2 Ke7 Rc1 f6 Bd3 fxe5 fxe5 Nb6 Nc5 Nb4 Bb1 Nc4+ Kc3 Bd7 Kxb4 a5+ Kc3 b5 b3 b4+ Kd3 Nb6 Nh4 Bb5+ Kd2 Rhf8 Ng6+ Kf7 Nxf8 Rxf8 Bd3 Bxd3 Nxd3 Ke7 Rhf1 Rg8 Rc7+ Kd8 Rb7 Nd7 Ra7 Ke7 Nc5 Rd8 Nxd7 Rxd7 Rxd7+ Kxd7 Rf7+ Kc6 Rxg7 Kb5 Rh7 a4 Rxh6 axb3 axb3 Kc6 Rxe6+ Kd7 Rd6+ Ke7 Rxd5 Ke6 Rd6+ Kf5 Ke3 Kg5 Rb6 Kf5 Rxb4 Ke6 Rc4 Kd5 Rc5+ Ke6 b4 Kd7 b5 Ke6 Ke4 Kd7 d5 Kd8 g4 Ke7 h4 Ke8 h5 Ke7 g5 Ke8 g6 Kf8 h6 Ke8 e6 Ke7 Ke5 Kf8 d6 Ke8 Kd5 Kd8 b6 Ke8 b7 Kd8 g7 Ke8 h7 Kd8 Rc8#',\n",
       "       'e4 e6 d3 d5 Nd2 c5 Ngf3 Nc6 g3 Qb6 Bg2 Bd7 O-O Rc8 exd5 exd5 Re1+ Be7 b3 Nf6 Bb2 O-O h3 h6 Ne5 Rfe8 Nxd7 Nxd7 Bxd5 Nb4 Bg2 Nf6 Nc4 Qc7 a3 Nc6 Qf3 b5 Qxc6 Qxc6 Bxc6 Rxc6 Ne5 Re6 f4 Bd6 Kf2 Bxe5 Bxe5 Nd5 c4 bxc4 dxc4 Nb6 Bc3 Rxe1 Bxe1 Rxe1 Rxe1 Kh7 Re7 Nc8 Rc7 Nd6 Rxa7 Ne4+ Kf3 Nd2+ Ke3 Nxb3 Rxf7 Na5 Rc7 Nxc4+ Kf3 Nxa3 Rxc5 Nb1 g4 Nd2+ Ke3 Nf1+ Ke2 Ng3+ Kf3 Nf1 Rc2 Kg6 Rf2 Nh2+ Rxh2 Kf6 Ra2 Kg6 h4 Kh7 Ke4 Kg6 Ra7 Kh7 Kf5 Kg8 Kg6 Kf8 g5 hxg5 hxg5 Ke8 f5 Kf8 f6 gxf6 gxf6 Ke8 f7+ Kf8 Ra8+ Ke7 f8=Q+ Ke6 Re8+ Kd5 Qf5+ Kd4 Rd8+ Ke3 Qe6+ Kf4 Rd4+ Kf3 Qf5+ Ke3 Qd3+ Kf2 Rf4+ Kg2 Qf3+ Kg1 Rg4+ Kh2 Qg2#',\n",
       "       'e4 e6 c4 d5 d4 c5 dxc5 Bxc5 exd5 exd5 Qxd5 Qe7+ Be2 Nf6 Qg5 Bb4+ Bd2 Bd7 Nc3 Nc6 Nf3 a6 O-O-O Bxc3 Bxc3 O-O-O Rhe1 h6 Qxg7 Nh5 Qxh8 Rxh8 Bxh8 Nb4 a3 Ba4 Rd2 Nc6 Bd1 Qf8 Rde2 Kc7 Re8 Qc5 Bxa4 Qxc4+ Bc2 Qf4+ Kb1 Nf6 Rf8 Qc4 Bxf6 Kb6 b3 Qc5 Rxf7 Qd5 Rh7 Qa5 Bb2 Qh5 Rd1 Ka7 Rdd7 Ka8 Rxb7 Qd5 Rbd7 Qc5 Be4 Kb8 Rh8+ Nd8 Rhxd8+ Qc8 Rb7+ Ka8 Rxc8#',\n",
       "       'e4 c5 Nf3 d6 c3 Nf6 Be2 Bd7 Qc2 Nc6 O-O e6 Rd1 Be7 d4 cxd4 cxd4 Rc8 Nc3 O-O Bg5 h6 Bf4 Qa5 d5 Nb4 Qd2 e5 Be3 Qc7 Rac1 Qb8 a3 Na6 b4 Nc7 Nxe5 dxe5 d6 Rfe8 dxe7 Rxe7 Bc5 Ree8 Bd6 Qa8 Qe3 b6 f3 Bc6 b5 Bd7 a4 Qb7 Na2 Red8 Nb4 Re8 Nc6 Bxc6 Rxc6 Na8 Rdc1 Rxc6 bxc6 Qc8 c7 Re6 Qd2 Ne8 Bb4 Naxc7 Bc4 Rg6 Rd1 Ne6 Bd5 Nd4 Kh1 Nc7 Rc1 Qd7 Bc4 Nce6 Qa2 Kh7 Rd1 Qd8 Bc3 Qg5 Qf2 Nf4 g3 Nh3 Qf1 Rc6 Bd2 Qh5 Be2 Rf6 Kg2 Nxe2 Qxe2 Ng5 Rf1 Qh3+ Kg1 Ne6 Bc3 Nd4 Bxd4 exd4 e5 Re6 Qe4+ g6 f4 Qf5 Qxd4 Qc2 Qf2 Qc5 Qxc5 bxc5 Rc1 Ra6 Rc4 Kg7 Kf2 Kf8 Ke3 Ke7 Ke4 Ke6 g4 Rb6 f5+ gxf5+ gxf5+ Ke7 Kd5 Rb4 Kxc5 Rb2 h4 Re2 Kd5 Rd2+ Rd4 Rf2 f6+ Ke8 Kd6 Ra2 e6 Rc2 e7 Rb2 Ke5 Rb6 Rd8#',\n",
       "       'e4 c5 Nf3 e6 d4 Nc6 d5 exd5 exd5 Nb4 a3 Na6 d6 Qa5+ Nc3 h6 Bc4 b5 Bxf7+ Kxf7 Qd5+ Kg6 Nh4+ Kf6 Qf5#',\n",
       "       'e4 c5 Nf3 e6 d4 cxd4 Nxd4 Nf6 Nc3 d6 Be2 a6 O-O Nbd7 g4 Be7 g5 Ng8 h4 h6 g6 Bxh4 gxf7+ Kxf7 Bh5+ g6 Bg4 Ne5 f4 Nxg4 Qxg4 e5 f5 exd4 fxg6+ Kg7 Rf7#',\n",
       "       'e4 c5 c4 e5 Nc3 g5 d3 h5 Nf3 f6 h3 Nc6 g3 d6 Bg2 Nd4 Nxd4 cxd4 Nd5 Be6 g4 hxg4 hxg4 Rxh1+ Bxh1 Qd7 Bf3 O-O-O Be2 Kb8 f3 Qh7 Kd2 Bxd5 cxd5 Rc8 a4 Qh2 b4 Be7 b5 Bd8 a5 Ne7 Qb3 Ng6 Ba3 Bxa5+ Bb4 Nf4 Re1 Qf2 Bxa5 Qe3+ Kd1 Rc1#',\n",
       "       'e4 e5 Nf3 Nc6 d4 d6 d5 Nd4 Nxd4 exd4 Qxd4 g6 Qxh8 Bg7 Qxg8+ Kd7 Qxg7 Qg8 Qxg8 Ke7 Bg5+ Kd7 Qxf7#',\n",
       "       'Nf3 d5 d4 Bg4 Bf4 e6 Nbd2 Bd6 Bg3 Bxg3 hxg3 Nc6 c3 Qd6 a4 Nf6 a5 Ne4 a6 b6 Qa4 O-O-O e3 Nxd2 Nxd2 e5 Bb5 Bd7 Nf3 f6 Rd1 exd4 cxd4 g5 Rc1 Nb8 O-O h5 Rc3 Bxb5 Qxb5 Rh7 Rfc1 Rdd7 Qd3 h4 gxh4 gxh4 Qf5 Kd8 Ne1 h3 g3 Rdg7 Kh2 Rh6 Nd3 Rhg6 Nf4 Rg5 Ne6+ Ke7 Rxc7+ Nd7 Nxg5 Rxg5 Qh7+ Kd8 Rc8#',\n",
       "       'f4 d6 e4 e6 d4 Bd7 Nf3 Be7 Bd3 Nc6 O-O Nf6 c3 O-O Kh1 Rb8 Be3 a6 Nbd2 h6 Qc2 d5 e5 Ne8 f5 f6 fxe6 Bxe6 Nh4 Bg4 Bh7+ Kf7 Qg6+ Ke6 Qxg4+ Kf7 e6#',\n",
       "       'e4 c5 Nf3 e6 Nc3 a6 d4 cxd4 Nxd4 Qc7 Be2 Bb4 Qd3 Bxc3+ bxc3 Nf6 O-O b6 Bf3 Bb7 e5 Bxf3 exf6 Bxg2 fxg7 Rg8 Qxh7 Bxf1 Qxg8+ Ke7 Qf8+ Kf6 g8=Q Qb7 Qg5#',\n",
       "       'e4 e6 d4 d5 Nc3 Bb4 e5 Ne7 a3 Bxc3+ bxc3 c5 Qg4 O-O Nf3 c4 h4 Nbc6 h5 Qa5 Bd2 h6 Bxh6 Qxc3+ Ke2 Nf5 Bxg7 Ncxd4+ Nxd4 Nxd4+ Kd1 Qxc2+ Ke1 Qc3+ Kd1 Qxa1+ Kd2 Qb2+ Kd1 Qb1+ Kd2 Nb3+ Ke2 Qd3+ Ke1 Qd2#',\n",
       "       'd4 Nf6 Nf3 d5 Bf4 Nh5 Bd2 Nf6 c4 e6 Nc3 c6 e3 Be7 Bd3 O-O Rc1 Nbd7 O-O Re8 Qb3 Qb6 Qc2 a6 c5 Qc7 e4 dxe4 Nxe4 h6 Nxf6+ Bxf6 Rfe1 Nf8 Qa4 Bd7 Ne5 Bxe5 dxe5 Bc8 Bxh6 g6 Re3 Qd7 Bxf8 Rxf8 Qh4 f5 exf6 Kf7 Qh7+ Ke8 Bxg6+ Kd8 Rd3 Qxd3 Qe7#',\n",
       "       'e4 d5 exd5 Qxd5 Nc3 Qd6 d4 Nf6 Bc4 Be6 Bxe6 Qxe6+ Nge2 c6 O-O Nbd7 Re1 Qg4 f3 Qh5 b4 O-O-O Nf4 Qh4 g3 Qh6 Ne6 Qh3 Nxd8 Kxd8 b5 e6 bxc6 bxc6 Rb1 Bd6 Qe2 Qf5 Rb7 Ke7 Ne4 h6 Nxd6 Kxd6 Ba3+ Kd5 c4+ Kxd4 Rd1+ Kc3 Bb2#',\n",
       "       'e4 e5 Nc3 c6 d4 exd4 Qxd4 c5 Qe5+ Ne7 Nb5 Qa5+ Bd2 Nc6 Bxa5 Nxe5 Nd6#',\n",
       "       'e4 e5 Nc3 c6 d4 exd4 Qxd4 c5 Qe5+ Ne7 Nb5 f6 Nd6#',\n",
       "       'd4 e6 e4 c5 d5 Qh4 Nc3 Bd6 dxe6 Bxh2 exf7+ Kxf7 Nf3 Qh5 Rxh2 Qxh2 Bc4+ Ke7 Nxh2 a6 Bg5+ Ke8 Qd5 Nc6 Qf7#',\n",
       "       'e4 e5 Nf3 Nc6 d4 exd4 Nxd4 Bc5 Be3 Bxd4 Bxd4 Nxd4 Qxd4 Qf6 e5 Qe6 Be2 Ne7 f4 Nf5 Qc3 O-O Nd2 d5 O-O-O Bd7 g4 Ne7 f5 Qb6 f6 d4 Qf3 Bc6 Ne4 g6 fxe7 Rfe8 Nf6+ Kg7 Qh3 Rh8 g5 h5 Rhf1 Qc5 Qh4 Qxe5 Qxd4 Qxg5+ Kb1 Kh6 Bc4 Rhf8 exf8=B+ Rxf8 h4 Qa5 Qf4+ Kg7 Nxh5+ gxh5 Rg1+ Kh7 Bd3+ f5 Qg5 Qe5 Qxh5#',\n",
       "       'e4 c6 d4 d5 Nd2 Nf6 e5 Ne4 Nxe4 dxe4 c3 f5 f3 e6 fxe4 fxe4 Qg4 Qb6 Qxe4 Nd7 Bd3 c5 Ne2 cxd4 cxd4 Qxd4 Nxd4 Nc5 Qf3 Nxd3+ Qxd3 Bc5 Qb5+ Bd7 Qxc5 Rc8 Qd6 Rc6 Nxc6 bxc6 Bg5 h6 Qe7#',\n",
       "       'e4 e5 Nf3 Nf6 Bc4 Nc6 d3 Bb4+ c3 Ba5 Bg5 h6 Bh4 O-O O-O d6 d4 exd4 cxd4 Bg4 e5 dxe5 dxe5 Qxd1 Rxd1 Bxf3 gxf3 Nh7 f4 Kh8 f5 f6 e6 Rad8 Nc3 Bxc3 bxc3 Ne5 Be2 g6 f4 Nc6 fxg6 Rxd1+ Rxd1 Kg8 gxh7+ Kxh7 Rd7+ Kg8 e7 Re8 Bc4+ Kg7 Rxc7 b6 Rxc6 Rxe7 Bxf6+ Kf8 Bxe7+ Kxe7 Rxh6 Kf8 Rh7 b5 Bxb5 a6 Bxa6 Kg8 Bd3 Kf8 a4 Ke8 a5 Kd8 a6 Kc8 a7 Kd8 a8=Q#',\n",
       "       'Nf3 Nf6 d4 d5 Bf4 e6 c4 dxc4 a4 Nc6 e3 Bb4+ Nc3 Nd5 Qc2 Nxf4 exf4 Nxd4 Nxd4 Qxd4 Rd1 Qxf4 Be2 e5 O-O Bf5 Qd2 Qxd2 Rxd2 Be6 Bf3 c6 Re2 f6 Rd1 Rd8 Ree1 Kf7 Kf1 g6 Ke2 f5 g3 Rd3 Rxd3 cxd3+ Kd2 e4 Bg2 Rd8 f3 Bf8 f4 Bc5 Nd1 Bb3 Kc3 d2 Rf1 Rd3#',\n",
       "       'e4 e6 d4 d5 Nc3 c6 Qd3 Ne7 g3 Ng6 Bg2 Bb4 Ne2 Nd7 a3 Bd6 h4 a6 h5 Ne7 e5 Bb8 h6 g6 Bg5 O-O f4 f6 Bh4 Nf5 O-O-O Nxh4 gxh4 f5 Qg3 Rf7 h5 g5 fxg5 f4 Nxf4 Nxe5 dxe5 Bxe5 Rdf1 Qf8 Nce2 b5 g6 Rxf4 Nxf4 Qxh6 gxh7+ Kxh7 Qg6+ Qxg6 hxg6+ Kg7 Rh7+ Kg8 Nh5 a5 Re1 Bd4 c3 Bc5 Nf6+ Kf8 Rf7#',\n",
       "       'e4 e5 Nf3 Nc6 Bb5 a6 Ba4 Nf6 O-O b5 Bb3 Be7 Re1 d6 c3 Bg4 d3 Nd7 Nbd2 Nc5 Bc2 Ne6 h3 Bh5 Nf1 Bg5 Ng3 Bxc1 Rxc1 Bxf3 Qxf3 O-O Qe3 Ne7 d4 Ng6 Rcd1 Qf6 dxe5 dxe5 Bb3 Nef4 Rd7 Nh4 Red1 Nfxg2 Qd3 Nf4 Qf1 c5 R1d6 Qg5 Bd1 g6 Kh1 c4 Bc2 Rfd8 b3 Rxd7 Rxd7 Rd8 Rxd8+ Qxd8 bxc4 bxc4 Qxc4 Qd2 Bb3 Qe1+ Qf1 Qxc3 Qxa6 Qf3+ Kg1 Qg2#',\n",
       "       'e4 c5 Nf3 d6 d4 cxd4 Nxd4 Nf6 Nc3 a6 Be3 Nc6 f3 e6 Qd2 Be7 O-O-O Qc7 Kb1 b5 g4 b4 Nce2 Ne5 Nc1 Nc4 Bxc4 Qxc4 g5 Nd7 h4 Bb7 h5 e5 Nf5 g6 Nxe7 d5 Nxd5 Rc8 Nxb4 Qb5 Nd5 Qc4 Rh2 f5 gxf6 Kf7 Nd3 Bxd5 exd5 Rb8 hxg6+ hxg6 Rxh8 Rxh8 Nf2 Nxf6 b3 Qc7 Ne4 Nd7 f4 Rh4 Ng5+ Kg8 d6 Qc6 fxe5 Rg4 Qh2 Nf8 Rh1 Rxg5 Bxg5 Kf7 Rf1+ Ke6 Rxf8 a5 a4 Qe4 Rf6+ Kd5 d7 Qe1+ Bc1 Kc5 d8=Q Qh4 Qxh4 g5 Qc4#',\n",
       "       'e4 e6 d4 d5 e5 c5 Qg4 Nc6 Nf3 cxd4 Bd3 Qc7 Qg3 Nge7 O-O Ng6 Re1 Bd7 a3 O-O-O b4 Qb6 Nbd2 h5 h4 Nce7 Bb2 Nc6 Nb3 Nge7 Nbxd4 Kb8 Rac1 g5 Qxg5 Bh6 Qf6 Bxc1 Rxc1 Rdf8 Nb5 a6 Nd6 a5 b5 Ng6 Ba1 Na7 a4 Nc8 Bd4 Qc7 Nxc8 Qxc8 c4 Qd8 cxd5 Qxf6 exf6 exd5 Ng5 Nxh4 Be5+ Ka8 Rc7 Be6 g3 Ng6 Bxg6 fxg6 Nxe6 Rhg8 f7 Rxf7 Rxf7 Re8 Rf8 Rxf8 Nxf8 Ka7 Nxg6 Kb6 Bd4+ Kc7 Nf4 Kd6 Nxh5 Ke6 g4 Kf7 f4 Kg6 Kg2 b6 Kg3 Kh6 Bxb6 Kg6 Bxa5 d4 b6 d3 b7 d2 Bxd2 Kf7 b8=Q Kg6 Qb6+ Kf7 Qf6+ Ke8 Qg7 Kd8 Bb4 Kc8 Bd6 Kd8 Qe7+ Kc8 Qc7#',\n",
       "       'e4 e6 d4 d5 e5 c5 c3 Nc6 Nf3 Qb6 Bd3 Bd7 O-O cxd4 Qe2 dxc3 Nxc3 d4 Ne4 Nb4 Bb1 Bc6 Rd1 Rd8 a3 Na6 b4 Ba4 Rd2 Bb5 Bd3 Bxd3 Qxd3 Ne7 Bb2 Nf5 g4 Nh6 h3 Be7 Bxd4 Qc7 Qb5+ Qc6 Qxc6+ bxc6 Bxa7 O-O Nd6 Bxd6 exd6 Ra8 Be3 Rfd8 Bxh6 gxh6 Rad1 c5 b5 Nb8 Ra1 c4 Ne5 c3 Rd3 c2 Rc1 f6 Nc6 Rc8 Rxc2 Nxc6 bxc6 Kf8 d7 Rc7 d8=Q+ Rxd8 Rxd8+ Ke7 Rd7+ Rxd7 cxd7 Kd8 a4 Kxd7 a5 e5 a6 e4 a7 e3 fxe3 Ke6 a8=Q Ke5 Rc4 f5 Qa5+ Kf6 Qxf5+ Kg7 Rc7+ Kg8 Qc8#',\n",
       "       'd4 e6 c4 d5 Nc3 Nf6 cxd5 exd5 Bg5 Nc6 e3 Bb4 Bd3 O-O Ne2 Re8 O-O h6 Bh4 Qd6 Bg3 Qe6 Nf4 Qe7 Nfxd5 Nxd5 Nxd5 Qf8 Nxc7 Rxe3 fxe3 Rb8 Nd5 Bd6 Qf3 Bxg3 Qxg3 Be6 Nf4 Bd7 Bc4 Nb4 Nh5 g6 Bxf7+ Kh8 Qxg6 Nc6 Rf6 Ne7 Qxh6+ Qxh6 Rxh6#',\n",
       "       'Nf3 d5 g3 Nf6 Bg2 e6 O-O Bd6 d3 O-O Nbd2 Nbd7 e4 dxe4 dxe4 Ne5 Nxe5 Bxe5 Nf3 Nd7 Nxe5 Nxe5 f4 Nc6 Be3 e5 Qe2 exf4 gxf4 f5 Qc4+ Kh8 Rad1 Qe8 e5 Qe6 Bd5 Qg6+ Kh1 Re8 Bf7 Be6 Bxe8 Bxc4 Bxg6 Bxf1 Bxf5 Be2 Rd7 Rf8 Bd3 Bxd3 cxd3 Rc8 Kg2 Nb4 e6 Nc6 Kf3 Kg8 Bd2 Kf8 Bc3 g6 Ke4 Ke8 Rxh7 Nd8 Bf6 Nc6 Rh8#',\n",
       "       'e4 e5 Nf3 Nc6 Bc4 Nf6 d3 Be7 O-O d6 c3 O-O a4 a6 Re1 Na5 Ba2 c5 h3 Bd7 d4 Qc7 b4 cxb4 cxb4 Nc6 Ba3 Nxd4 Nxd4 exd4 Bb2 Rac8 Bxd4 Qc2 Qf3 Bxa4 Qe3 Bb5 Nc3 Qd3 Nxb5 Qxb5 Red1 Rfd8 Bb3 Qc6 f3 d5 Rac1 Qe6 e5 Nd7 Rxc8 Rxc8 f4 Bxb4 f5 Qh6 Qxh6 gxh6 Bxd5 Bc5 e6 Bxd4+ Rxd4 Nf6 exf7+ Kg7 Be6 Rb8 Kf2 a5 Rd3 Ne4+ Kf3 Nc5 Re3 h5 Kf4 h4 Kg5 Rd8 Ba2 Kf8 Kxh4 Rd4+ Kh5 Ne4 g4 Kg7 g5 b5 f6+ Kf8 Bb1 Nxf6+ gxf6 Kxf7 Rf3 Rd6 Ba2+ Kf8 Kg5 b4 Kf5 Ke8 f7+ Kf8 Rg3 Rg6 Rxg6 hxg6+ Ke6 a4 Bd5 g5 Bc6 a3 Bd5 a2 Bxa2 b3 Bxb3 g4 hxg4 Kg7 Ke7 Kg6 f8=Q Kg5 Bd1 Kg6 Qg8+ Kh6 g5#',\n",
       "       'd4 d5 Nf3 Bf5 c4 e6 Nc3 Nc6 cxd5 exd5 Bf4 Nf6 h4 Bd6 Bg5 h6 Bxf6 Qxf6 Nxd5 Qe6 Nc3 Nb4 Rc1 Nd3+ Kd2 Nxf2 Qa4+ Kf8 d5 Qe7 e4 Bf4+ Kc2 Bxc1 exf5 Bxb2 Kxb2 Nxh1 Qf4 h5 Ng5 Rh6 Ne6+ fxe6 fxe6+ Rf6 Qd4 Rxf1 Ne4 a5 a3 Kg8 d6 cxd6 Ng5 Rf2+ Ka1 Rc8 Qd1 Qf6+ Kb1 Qb2#',\n",
       "       'e4 e6 Nf3 d5 exd5 exd5 d4 Nf6 Bd3 Bd6 Nc3 O-O O-O h6 Nb5 Bg4 h3 Bh5 g4 Bg6 Nh4 Be4 f3 Bh7 Bxh7+ Nxh7 Nxd6 Qxd6 Nf5 Qf6 Bf4 c6 Be5 Qd8 Bxg7 Nd7 Bxf8 Ndxf8 Nxh6+ Kg7 Nf5+ Kh8 Qe1 Ng6 h4 Nf6 Qe3 Qd7 Qh6+ Nh7 Qg7#',\n",
       "       'e4 c5 Nc3 Nc6 Nf3 g6 Bc4 Bg7 O-O e6 d4 cxd4 Nb5 d6 Bg5 Nge7 Nfxd4 Nxd4 Nxd4 O-O Qd2 Re8 Rad1 a6 Bh6 Bh8 Bb3 Qc7 c3 b5 Rfe1 Rd8 Bg5 Bb7 Nxe6 fxe6 Bxe6+ Kg7 Qd4+ Kf8 Qxh8+ Ng8 Qxg8#',\n",
       "       'd4 d5 Nf3 Nf6 Bf4 c5 e3 Nc6 c3 Qb6 Qc1 Bf5 Nh4 Bd7 Bd3 Rc8 Qd2 e6 O-O Be7 Nf3 Nh5 Bg3 Nxg3 hxg3 O-O Na3 cxd4 exd4 Bxa3 bxa3 Na5 Rfc1 f6 Qe2 Nc4 Nh4 Qd6 Rab1 b6 f4 Be8 Re1 Bf7 a4 Rc7 Rb3 Rfc8 Rc1 Na5 Rbb1 Rxc3 Rxc3 Rxc3 Qd2 Qc7 Re1 Nb7 Ba6 Nd6 Bd3 g6 g4 Kg7 f5 exf5 gxf5 g5 Nf3 Qc8 Nxg5 Rxd3 Qxd3 fxg5 Rf1 Ne4 Qe3 Qc3 f6+ Kg6 Qxc3 Nxc3 a5 Ne2+ Kf2 Nxd4 Ke3 Nf5+ Kd3 h5 axb6 axb6 Rb1 Kxf6 Rxb6+ Ke5 a4 Nd6 a5 Bg6+ Ke2 d4 a6 d3+ Kd1 Be4 g3 h4 gxh4 gxh4 a7 h3 Rb8 h2 Rh8 h1=Q+ Rxh1 Bxh1 Kd2 Kd4 Kd1 Nc4 Kc1 Kc3 Kd1 Bf3+ Ke1 d2+ Kf2 d1=Q a8=Q Bxa8 Kg3 Qf3+ Kh4 Ne5 Kg5 Be4 Kh4 Bg6 Kg5 Qf5+ Kh6 Nf7+ Kg7 Ng5 Kh6 Bh7 Kh5 Nf7+ Kh4 Ne5 Kg3 Qg4+ Kf2 Qf3+ Kg1 Be4 Kh2 Ng4+ Kg1 Ne3 Kh2 Nf1+ Kg1 Ng3 Kh2 Nh1 Kg1 Kd3 Kh2 Ke3 Kg1 Kf4 Kh2 Kg4 Kg1 Qf2#',\n",
       "       'd4 Nf6 Nf3 Ne4 Bf4 f5 e3 d6 Bd3 g6 Nbd2 Nxd2 Qxd2 Bg7 Bc4 Nc6 O-O e5 dxe5 dxe5 Qxd8+ Kxd8 Bg5+ Ke8 Rad1 h6 Bh4 g5 Bg3 f4 exf4 exf4 Rfe1+ Kf8 Nh4 gxh4 Bxh4 Bf5 c3 Re8 Bb5 Rxe1+ Rxe1 Ne5 Rd1 Kf7 Ba4 c6 Bb3+ Be6 Bc2 Bd5 b3 b5 f3 Re8 Kf2 Ng6 c4 Nxh4 cxd5 cxd5 Rxd5 Rc8 Bd3 Bf6 Rxb5 Bd4+ Ke2 Nxg2 Rb7+ Kf6 Rh7 Re8+ Kd2 Be3+ Kd1 Rd8 Rxh6+ Kf7 Rh7+ Kg8 Ke2 Rxd3 Rxa7 Bxa7 Kxd3 Kf7 Ke4 Kf6 h4 Be3 b4 Nxh4 b5 Ke6 b6 Kd6 a4 Kc6 a5 Kb7 Kd3 Nxf3 Ke4 Nd2+ Kd3 Nb3 Ke2 Nxa5 Kf3 Kxb6 Ke2 Kc5 Kf3 Kd4 Ke2 Ke4 Kf1 f3 Ke1 Nc4 Kf1 Kf4 Ke1 f2+ Kf1 Nd2+ Ke2 f1=Q#',\n",
       "       'd4 Nf6 c4 c5 d5 b5 cxb5 a6 bxa6 Bxa6 Nc3 d6 Nf3 g6 g3 Bg7 Bg2 O-O O-O Nfd7 Re1 Nb6 Rb1 Nc4 Nd2 Nd7 Qc2 Qa5 Nxc4 Bxc4 Bd2 Rfb8 b3 Bb5 Nxb5 Qxb5 a4 Qb7 Bc3 Nf6 e4 Ra6 e5 Ng4 exd6 exd6 Bxg7 Kxg7 Qc3+ Nf6 g4 g5 h4 h6 hxg5 hxg5 Qe3 Nh7 Be4 f6 Bd3 Rb6 Qe7+ Kh6 Bxh7 Rxb3 Qxf6+ Kxh7 Re7+ Qxe7 Qxe7+ Kg6 Qxd6+ Kh7 Rxb3 Rxb3 Qxc5 Rb1+ Kg2 Rb7 d6 Kh6 Qd5 Rf7 d7 Rg7 d8=Q Rg8 Qe6+ Rg6 Qh8#',\n",
       "       'd4 Nf6 Nf3 g6 Bg5 Bg7 Nbd2 d5 e3 O-O Bd3 c5 c3 Nc6 O-O b6 Qa4 Bb7 dxc5 bxc5 Qh4 Qb6 Rab1 Rfd8 b4 cxb4 cxb4 a6 b5 axb5 Bxb5 Qc7 Rfc1 Qd6 a4 Rdc8 Bf4 Qd8 Nb3 Nh5 Nc5 Ra7 Bg5 h6 Bf4 Nxf4 Qxf4 e5 Qg4 Qd6 Nxb7 Qf8 Bxc6 Qa3 Qxc8+ Kh7 Bxd5 Qxa4 Bxf7 e4 Qg8#',\n",
       "       'e4 c5 Nf3 d6 d4 cxd4 Nxd4 Nf6 Nc3 g6 Be2 Bg7 Be3 O-O O-O Nc6 Nb3 Bd7 f4 a6 Bf3 b5 Nd5 Rc8 Nb6 Rb8 Nxd7 Qxd7 c3 Rfc8 Qe2 a5 Nd4 b4 Nxc6 Qxc6 e5 Nd5 Rfd1 e6 c4 Qxc4 Qxc4 Rxc4 Bxd5 exd5 Rxd5 dxe5 fxe5 Re4 Ba7 Ra8 Rxa5 Bxe5 Bb6 Bd4+ Kf1 Rxa5 Bxa5 Bxb2 Rb1 Bc3 a3 bxa3 Bxc3 Ra4 Rb8#',\n",
       "       'e4 c5 Nf3 d6 c3 Nd7 d4 b6 Bc4 Bb7 Nbd2 g6 Qb3 e6 O-O Bg7 Re1 Ne7 Nf1 O-O Bg5 h6 Bf4 d5 exd5 exd5 Bb5 Nf6 Qd1 Nc6 Qc1 Kh7 Ne5 Rc8 dxc5 bxc5 Nxc6 Bxc6 Ba6 Ra8 Qe3 Qb6 Be2 Rfe8 Qc1 g5 Bd2 Kg8 Ng3 Ne4 Nf5 Rab8 Nxg7 Kxg7 b3 d4 cxd4 cxd4 Qb2 Nxd2 Qxd2 Rbd8 Bc4 Qc5 Rad1 Qf5 Rxe8 Bxe8 Bd3 Qd5 Bc4 Qf5 Bd3 Qc5 Bc4 Bc6 Qd3 Qe5 b4 Qf4 Bb3 Be4 Qg3 Qxg3 hxg3 d3 f3 Bg6 Kf2 Kf6 Bc4 Rd4 Ba6 d2 Ke3 Rxb4 Rxd2 Ra4 Bd3 Ra3 Ke2 Bxd3+ Rxd3 Rxa2+ Kf1 Rb2 Ra3 Rb7 Ra6+ Kg7 Kf2 f6 Kf1 Kf7 Kf2 Ke7 f4 Rb2+ Kf3 Rb3+ Kf2 Rb7 Kf3 h5 Kf2 Kf7 fxg5 fxg5 Rh6 Kg7 Rxh5 Rb5 Rh1 a5 Ra1 Kf6 Kf3 Ke6 Kg4 Kd6 Rd1+ Kc6 Kh5 a4 Rd4 Ra5 Rxa4 Rxa4 Kxg5 Kd7 g4 Ke8 Kh5 Kf8 g5 Kg7 g4 Ra1 g6 Ra5+ g5 Ra1 Kh4 Kxg6 Kg4 Ra5 Kf4 Rxg5 Ke4 Rf5 Kd4 Kf6 Ke4 Ke6 Kd4 Re5 Kd3 Kf5 Kc4 Ke4 Kb4 Rd5 Ka4 Rc5 Kb4 Kd4 Ka4 Kc3 Ka3 Ra5#',\n",
       "       'e4 c5 Nf3 d6 d4 cxd4 Nxd4 Nf6 Nc3 g6 Be2 Bg7 O-O O-O Nb3 Nc6 Re1 Bd7 Bf1 a6 Nd5 b5 h3 Rc8 c3 Be6 Bg5 Bxd5 exd5 Ne5 Nd4 Qb6 a4 Nxd5 axb5 h6 Rxa6 Qb7 Bc1 Nc4 Bxc4 Rxc4 Qd3 Rcc8 Nc6 e6 Ra7 Qb6 Be3 Nxe3 Ne7+ Kh8 Nxc8 Rxc8 Qxe3 Qxb5 Rxf7 Qxb2 Qxe6 Rxc3 Qe8+ Kh7 Ree7 Rc1+ Kh2 Qa1 Rf8 Rh1+ Kg3 Qc3+ f3 Qe5+ Rxe5 Bxe5+ f4 Bg7 Qf7 Ra1 Qg8#',\n",
       "       'd4 e6 Nf3 d5 Bf4 Nf6 e3 c5 c3 Nc6 Nbd2 Be7 Bd3 O-O O-O h6 Ne5 Bd7 Qf3 Rc8 Qh3 Re8 Ndf3 Bf8 g4 Ne4 g5 hxg5 Nxg5 Nxg5 Bxg5 Qxg5+ Kh1 Nxe5 Qh7#',\n",
       "       'd4 Nf6 Nf3 c5 dxc5 e6 g3 Bxc5 Bg2 O-O O-O Nc6 c4 b6 Nc3 Bb7 e4 d6 a3 a5 Na4 Qe7 Qd3 Rad8 Rd1 Ne5 Qb3 Nxe4 Nxe5 dxe5 Rf1 Qc7 Nxc5 Qxc5 Be3 Qd6 Bxb6 Nd2 Qb5 Bxg2 Kxg2 Nxf1 Bxd8 Nxg3 Bxa5 Qd3 hxg3 Rd8 Bxd8 Qe4+ Kg1 h6 Qe8+ Kh7 Qxf7 Qxc4 Bf6 Qg4 Bxe5 h5 Qxg7+ Qxg7 Bxg7 Kxg7 a4 h4 gxh4 e5 a5 e4 a6 e3 fxe3 Kh6 a7 Kh5 a8=Q Kxh4 Qg8 Kh3 Ra7 Kh4 Rh7#',\n",
       "       'd4 Nf6 Nf3 d5 Bf4 Nc6 e3 Nh5 Bg5 h6 Bh4 g5 Bg3 Bg7 c3 Bg4 h3 Nxg3 fxg3 Be6 Bd3 Qd6 Kf2 O-O-O Na3 Kb8 Nb5 Qd7 Nd2 a6 Na3 Qd6 Rf1 h5 Nb3 h4 g4 Qh2 Nc5 Rh6 Be2 Rf6+ Bf3 Bc8 Qb3 b6 Nd3 Na5 Qc2 Bb7 b3 Nc6 b4 e5 dxe5 Re6 b5 Nxe5 Nxe5 Qg3+ Kg1 Bxe5 Qa4 Qh2+ Kf2 d4 Bxb7 dxe3+ Ke2 Rd2+ Ke1 Qg3+ Rf2 Qxf2#',\n",
       "       'e4 c5 Nf3 d6 c3 Nd7 d4 b6 Bd3 Bb7 O-O Ngf6 Re1 g6 Nbd2 Bg7 Nf1 O-O Qe2 Rc8 a4 Qc7 Bf4 Nh5 Be3 Nhf6 Rac1 Bc6 b3 Bxe4 Ng3 Bxd3 Qxd3 e6 c4 cxd4 Nxd4 Nc5 Qc2 Rfd8 h3 d5 Nb5 Qb7 Bg5 h6 Bf4 Qd7 Rcd1 a6 cxd5 Nxd5 Na3 Qb7 Bd2 Nxa4 Qe4 Nc5 Qf3 Nc3 Bxc3 Qxf3 gxf3 Bxc3 Rxd8+ Rxd8 Rb1 b5 Nc2 Rd2 Ne3 Rb2 Rc1 Rxb3 Ne2 Na4 Nd1 b4 Ndxc3 bxc3 Ra1 Nc5 Rc1 Na4 Ra1 Rb4 Nxc3 Nxc3 Rxa6 Kg7 Kg2 Kf6 Ra3 Nd5 Kg3 Rc4 Rb3 Rc3 Rb7 Rc4 Rb3 Nf4 Rb7 g5 Rb2 Nh5+ Kg2 Rh4 Rb7 Nf4+ Kg3 Rxh3+ Kg4 h5#',\n",
       "       'e4 d6 f4 b6 d4 f6 Nf3 Na6 e5 Rb8 Nc3 Nb4 a3 Nxc2+ Qxc2 b5 Bxb5+ Rxb5 Nxb5 Nh6 O-O c6 Nc3 Bb7 exf6 exf6 Re1+ Be7 Qe4 g6 Bd2 f5 Qe6 Ng4 Re2 Ba6 Ree1 Bc4 Qxc4 d5 Qxc6+ Qd7 Rxe7+ Kf8 Qxd7 Rg8 Rf7#',\n",
       "       'c4 e5 g3 d5 Bg2 dxc4 Qa4+ c6 Qxc4 Be6 Qc2 Qa5 Nf3 Bxa2 Nc3 Bd5 Rxa5 Bxf3 Bxf3 b6 Rxe5+ Be7 Nd5 Nf6 Nc7+ Kd8 Nxa8 Bd6 Rf5 Re8 O-O Ke7 Bxc6 Nxc6 Qxc6 Kf8 Qxd6+ Kg8 Nc7 Rf8 Rxf6 gxf6 Qxf6 Re8 Nd5 Rxe2 Ne7+ Kf8 Nd5 Re6 Qh8#',\n",
       "       'd4 d5 Nf3 Nc6 Bf4 a6 e3 Bg4 c4 e6 Nc3 Bb4 cxd5 exd5 h3 Bxc3+ bxc3 Bh5 Bd3 Nf6 Rb1 Na5 Qa4+ c6 Ne5 Ne4 Bxe4 dxe4 g4 Bg6 Qc2 O-O Nxg6 fxg6 Qxe4 Re8 Qd3 Qd5 O-O Qf3 Bg3 Qd5 c4 Qxc4 Qxc4+ Nxc4 Rxb7 Nd2 Rc1 h5 Rxc6 hxg4 Rxg6 gxh3 Rgxg7+ Kh8 Rh7+ Kg8 Rbg7+ Kf8 Bd6+ Re7 Bxe7+ Ke8 Bc5 Nf3+ Kh1 Ng5 Rh8#',\n",
       "       'd4 d5 Nf3 Nc6 c4 e6 Nc3 Nf6 Bg5 h6 Bxf6 gxf6 e3 Bd6 c5 Be7 Rc1 b6 Bb5 Bb7 cxb6 axb6 O-O Kd7 e4 Rg8 exd5 exd5 Nxd5 Rxa2 Re1 Kc8 Bxc6 Bxc6 Nxe7+ Kb7 Nxc6 Qa8 d5 Rxb2 d6 Rc8 d7 Rd8 Qd5 Qa2 Nxd8+ Kb8 Qb7#',\n",
       "       'e4 c5 Nf3 Nc6 Bb5 g6 O-O Bg7 c3 e5 d3 Nge7 Bc4 h6 Be3 d6 a3 O-O b4 b6 Qb3 Bg4 Nbd2 Qd7 h3 Be6 Bxe6 fxe6 Rfb1 Kh7 bxc5 dxc5 Nc4 Qxd3 Rd1 Qxe4 Nd6 Na5 Qxe6 Qc6 Qxe7 Rxf3 Bxh6 Kxh6 Qh4#',\n",
       "       'd4 c5 d5 e5 e4 d6 Bd3 c4 Bxc4 a5 Ne2 g5 Ng3 Ra7 Nc3 Be7 Be3 f5 Bxa7 Na6 exf5 Bf8 Qh5+ Kd7 Nge4 Qb6 Qf7+ Kd8 Bxb6+ Nc7 Bxc7#',\n",
       "       'e4 d5 exd5 Qxd5 Nc3 Qa5 d4 Nf6 Bd3 Bg4 f3 Bd7 Bd2 Nc6 Nge2 e5 Ne4 Qb6 Nxf6+ gxf6 d5 Nb4 Bxb4 Qxb4+ Qd2 Qxb2 O-O Qb4 Qxb4 Bxb4 Rab1 Bc5+ Kh1 h5 Ng3 b6 Ne4 Be7 f4 f5 Ng5 e4 Ba6 h4 Rb3 Bd6 Kg1 Ke7 Kf2 Bxf4 Nh3 Bxh2 Ke2 Rag8 Rf2 Bg3 Rf1 Bd6 Ke3 Rxg2 Kd4 Rxc2 Re3 Bc5+ Ke5 f6+ Kf4 Bd6#',\n",
       "       'c4 e5 g3 Bc5 Bg2 Nc6 Nc3 d6 Nf3 Bf5 O-O Nf6 Nh4 Qd7 d3 Bh3 Rb1 Bxg2 Kxg2 h6 a3 a6 b4 Bd4 Nd5 Nxd5 cxd5 Ne7 e3 Ba7 e4 g5 Nf3 f6 Bd2 h5 h4 gxh4 Nxh4 Rg8 Qxh5+ Kd8 Rh1 c6 dxc6 bxc6 Rbc1 Kc7 Nf5 Rh8 Qf7 Nxf5 Qxd7+ Kxd7 exf5 d5 Be3 a5 Bc5 axb4 Bxb4 Rag8 Rxh8 Rxh8 f3 Bd4 Rc2 Ra8 g4 Be3 Kg3 Bf4+ Kg2 Rh8 Rf2 Kc7 Be7 Rh2+ Kg1 Rh7 Bxf6 Be3 Bxe5+ Kd7 Kg2 Bxf2 Kxf2 c5 g5 Rh5 f4 Ke8 a4 Rh7 g6 Ra7 f6 Ra6 f5 c4 dxc4 dxc4 Ke3 Rc6 Kd2 Kf8 Kc3 Ke8 a5 Kf8 Bd4 Kg8 f7+ Kf8 a6 Ke7 a7 Rc8 Bc5+ Rxc5 a8=Q Rc7 f8=Q+ Kd7 Qae8#',\n",
       "       'e4 c5 b4 cxb4 a3 bxa3 Nxa3 Nc6 d4 d5 exd5 Qxd5 Nf3 Bg4 Be2 Nf6 c4 Qh5 d5 Ne5 Nb5 Rc8 Nxa7 Nxf3+ gxf3 Bf5 Nxc8 Bxc8 Ra8 Kd8 Be3 g6 Bb6+ Kd7 Qa4+ Kd6 Rxc8 Qe5 Qb4+ Kd7 Rd8#',\n",
       "       'e4 e5 Nf3 Nc6 Bc4 Nf6 d3 Bc5 Nc3 O-O O-O d6 h3 h6 Be3 Bxe3 fxe3 Be6 Bb3 a6 Qe1 Qd7 Nh4 b5 Nf5 Nb4 Nxh6+ gxh6 Rxf6 Bxb3 Rxh6 Nxc2 Qg3+ Qg4 Qxg4#',\n",
       "       'd4 Nf6 c4 e6 Nc3 d5 e3 Bb4 Nf3 c5 Bd3 b6 O-O Nc6 Re1 O-O a3 Bxc3 bxc3 Ba6 Qa4 Bb7 cxd5 Nxd5 Bb2 f5 e4 fxe4 Bxe4 Qf6 c4 Nxd4 Bxd4 cxd4 cxd5 exd5 Bd3 Bc8 Qxd4 Qd6 Qh4 g6 Re7 Rf7 Rxf7 Kxf7 Ng5+ Ke8 Qxh7 Qe5 Bxg6+ Kd8 Nf7+ Kc7 Nxe5+ Kb8 Nc6#',\n",
       "       'e4 e5 Nf3 Nc6 Bb5 Nf6 O-O Qe7 Nc3 a6 Bc4 d6 h3 b5 Nd5 Nxd5 Bxd5 Bb7 a4 Rb8 axb5 axb5 Qe2 Nd4 Nxd4 Bxd5 Nxb5 Bc6 Nc3 g6 Qc4 Rb6 Nd5 Bxd5 Qxd5 Kd7 Ra7 Bg7 c4 Rhb8 c5 Rc6 cxd6 Rxd6 Qa5 Rc6 d3 Qc5 Qa2 Re6 Be3 Qb4 Rc1 Rc8 Rc4 Qe7 Bc5 Qg5 h4 Qd2 Bb6 Rxb6 Rcxc7+ Rxc7 Qxf7+ Kc6 Qd5#',\n",
       "       'e4 e5 Bc4 Nf6 d3 h6 h3 Bc5 Nf3 d6 Nc3 Be6 Nd5 Nc6 a3 Nd4 Nh2 c6 Nxf6+ Qxf6 O-O Bxc4 dxc4 Rd8 c3 Ne6 Be3 Bb6 b4 O-O Qg4 d5 c5 Bc7 exd5 cxd5 Bd2 d4 Qe4 Qe7 Qxb7 e4 Qxe4 f5 Qf3 dxc3 Qxc3 Ng5 Bxg5 Qxg5 Qc4+ Kh8 Nf3 Qf6 Rae1 g5 Re6 Qg7 Nd4 Rxd4 Rxh6+ Qxh6 Qxd4+ Kh7 Re1 Qg7 Qd5 Rd8 Qxf5+ Kh6 Re6+ Kh5 Qg4#',\n",
       "       'd4 Nf6 c4 d6 Nc3 g6 e4 Bg7 f4 O-O Nf3 c5 d5 Nbd7 Be2 e5 dxe6 fxe6 Qxd6 b6 Qxe6+ Kh8 Qd6 Bb7 Ne5 Nxe5 fxe5 Nxe4 Nxe4 Bxe4 Rf1 Rxf1+ Bxf1 Qh4+ g3 Qxh2 Bf4 Qxb2 Rd1 Qc3+ Kf2 Qf3+ Kg1 Bh6 Qf6+ Bg7 Rd8+ Rxd8 Qxd8+ Bf8 Qxf8#',\n",
       "       'e4 e5 Nf3 Nc6 Bb5 a6 Ba4 Nf6 d3 Bc5 O-O O-O Bxc6 dxc6 Nxe5 Bg4 Nxg4 Nxg4 Qxg4 Qd4 c3 Qe5 d4 Bxd4 cxd4 Qxd4 Nc3 Rae8 Be3 Qe5 Rad1 b5 Bd4 Qe6 Qxg7#',\n",
       "       'd4 e6 Bf4 f5 Nf3 Nf6 e3 d5 Bd3 Be7 O-O O-O Ne5 Ne4 h3 g5 Bh2 Qe8 f3 Nd6 Nd2 Qh5 e4 c6 c4 Kh8 Rc1 dxc4 Ndxc4 f4 Nxd6 Bxd6 Ng4 Nd7 e5 Bc7 Qe2 Bb6 Qe4 c5 Kh1 cxd4 Bg1 Nc5 Rxc5 Bxc5 Nf6 Qh6 Nxh7 Rf7 Nf6 Rb8 Bxd4 Bxd4 Qxd4 b6 Ne4 Rd7 Nd6 Bb7 Bb5 Rh7 Kh2 g4 fxg4 Qh4 Qxf4 Bxg2 Kxg2 Qxh3+ Kf2 Kg8 Bc4 Rf8 Bxe6+ Kg7 Nf5+ Kh8 Qg3 Qh2+ Qxh2 Rxh2+ Kg3 Rh7 Rf2 Re8 Nd4 Rc7 Rh2+ Kg7 Nf5+ Kg6 Rh6+ Kg5 Rh5+ Kg6 Kh4 Rxe6 Rh6+ Kf7 Rh7+ Kg6 Rxc7 Rxe5 Rxa7 Rb5 b3 Rb4 Rg7+ Kf6 Rh7 Kg6 Rh6+ Kf7 Kg5 Rb5 Rh7+ Kg8 Rg7+ Kf8 Kg6 Ra5 g5 b5 Rb7 Ra6+ Kh5 Rxa2 Rxb5 Rh2+ Kg6 Rb2 Kf6 Kg8 g6 Rf2 Rb8#',\n",
       "       'e4 e6 d4 d5 Nc3 Bb4 e5 c5 a3 cxd4 Qxd4 Nc6 Bb5 Bxc3+ Qxc3 Ne7 f4 O-O Nf3 Nf5 Bxc6 bxc6 Qxc6 Bd7 Qc3 Bb5 Bd2 Rc8 Qb3 Bc4 Qa4 Qb6 b3 Bb5 Qa5 Qc5 c3 Ne3 Nd4 Nxg2+ Kf2 Nxf4 Bxf4 f6 Qxb5 Qxc3 Ne2 Qh3 exf6 Rxf6 Ke1 Qg2 Rg1 Qe4 Bd2 Rcf8 Bc3 e5 Rd1 d4 Qc4+ Kh8 Bb4 Rg8 Qd3 Qh4+ Qg3 Qh6 Bd2 Qh5 Bg5 Rg6 Qxe5 h6 Bf4 Rxg1+ Nxg1 Qg6 Kf2 Re8 Qxd4 Qh5 Nf3 Rf8 Rg1 Rf7 Rg3 Kh7 Qe4+ Rf5 Ke3 Qf7 Nd4 g6 Nxf5 gxf5 Qc4 Qe7+ Kf2 Qb7 Qg8#',\n",
       "       'e4 e6 Nf3 c5 b4 cxb4 a3 bxa3 Bxa3 Bxa3 Nxa3 Ne7 c3 O-O d4 d5 e5 Nbc6 Bd3 b6 Ng5 h6 Qh5 Ng6 Nxf7 Rxf7 Qxg6 Qg5 Qh7+ Kf8 O-O Bb7 Bg6 Rf4 Qh8+ Ke7 Qxg7+ Kd8 Nb5 Ne7 Nd6 Bc6 Nf7+ Rxf7 Qxf7 Kd7 Bd3 a5 f4 Qg4 f5 Rg8 Qxe6+ Kd8 Qd6+ Ke8 g3 Qh3 f6 Rxg3+ Kf2 Rg2+ Ke1 Qe3+ Kd1 Qd2#',\n",
       "       'e4 e6 Nf3 d5 exd5 exd5 d4 Nf6 Bg5 Be7 Qd3 O-O Nc3 c6 O-O-O Bg4 h3 Bh5 g4 Bg6 Qd2 Be4 Nxe4 Nxe4 Bxe7 Qxe7 Qd3 Nxf2 Qf5 Nxh1 Bd3 Nf2 Qxh7#',\n",
       "       'e4 e5 Nf3 Nf6 d3 d5 exd5 Nxd5 Be2 Bd6 c4 Nf4 Bxf4 exf4 O-O O-O Nc3 Be6 Re1 Nc6 d4 b6 d5 Bxd5 cxd5 Nb4 a3 Nxd5 Nxd5 c6 Nc3 Be5 Nxe5 Re8 Bd3 f6 Qb3+ Kh8 Nf7+ Kg8 Nh6+ Kh8 Qg8+ Rxg8 Nf7#',\n",
       "       'e4 e5 Nf3 Nc6 Bb5 d6 O-O a6 Ba4 b5 Bb3 Nf6 Re1 Be7 d3 O-O a4 b4 a5 Bb7 c3 bxc3 bxc3 Rb8 Nbd2 d5 exd5 Nxd5 Bxd5 Qxd5 c4 Qd7 Nxe5 Nxe5 Rxe5 Rfe8 Rh5 Qc6 Qg4 Qg6 Qxg6 hxg6 Rh3 Bc8 Re3 Bd7 h3 g5 Ne4 g6 Ba3 g4 Bxe7 Rxe7 Nf6+ Kf8 hxg4 Rxe3 Nxd7+ Ke8 Nxb8 Rxd3 Nxa6 Rd4 Nxc7+ Kd7 Na8 Rxg4 Nb6+ Kc7 c5 Kc6 a6 Rd4 a7 Rd8 a8=Q+ Rxa8 Nxa8 Kxc5 Ra7 f5 Rg7 f4 Rxg6 Kd4 Nc7 Ke4 Rc6 f3 gxf3+ Kxf3 Ne6 Ke2 Rc4 Ke1 Nd4 Kd1 Rc2 Ke1 Kg2 Kd1 Kf3 Ke1 Ke3 Kf1 f3 Ke1 Rc1#',\n",
       "       'e4 g6 d4 Nf6 Bd3 Nc6 c3 h5 Qc2 h4 e5 Nd5 Bxg6 e6 Be4 d6 Nf3 Rg8 g3 h3 Bxd5 exd5 Bf4 dxe5 dxe5 Bg4 Nbd2 Qd7 O-O-O O-O-O Rde1 Be7 Re3 Bf5 Qa4 Bc5 Nd4 Nxd4 Qxd7+ Rxd7 cxd4 Bxd4 Ree1 Bxf2 Ref1 Bb6 Be3 Bd3 Rf3 Be4 Bxb6 Bxf3 Nxf3 axb6 Kd2 Re7 Kd3 Kd7 Rd1 Ke6 a3 c5 b4 Ra8 Ra1 cxb4 a4 Rc7 Nd4+ Kxe5 Re1+ Kf6 Rf1+ Kg6 Nb5 Rc5 Nd6 Rxa4 Nxf7 Ra2 Ne5+ Kg7 Rf7+ Kg8 Rxb7 Rc3+ Kd4 Rd2+ Nd3 Rcxd3+ Ke5 Rxh2 Kf6 Rf2+ Kg5 Rxg3+ Kh4 Rg6 Kh5 Rg1 Rb8+ Kg7 Rb7+ Rf7 Rxb6 h2 Rxb4 h1=Q+ Rh4 Rf5#',\n",
       "       'e4 c6 d4 d5 exd5 cxd5 Nc3 Nc6 Nf3 Nf6 Bd3 Bg4 Be3 e6 Qd2 Bd6 O-O-O a6 h3 Bh5 g4 Bg6 Bxg6 hxg6 Ng5 b5 f4 Na5 f5 Nc4 Qe2 Qc7 fxe6 Nxe3 exf7+ Kd7 Qxe3 Bf4 Nxd5 Bxe3+ Nxe3 Qf4 Kb1 Qxg5 Ng2 Qd5 Nf4 Qxf7 d5 g5 Ne6 Nxd5 Rhe1 Kd6 Nxg5 Qf4 Re6+ Kc7 Rg6 Rad8 Ne6+ Kb7 Rxg7+ Kb8 Nxf4 Nxf4 Rxd8+ Rxd8 b3 Nxh3 Kb2 Rd4 g5 Rg4 g6 Nf4 Rg8+ Kb7 g7 Ne6 Re8 Nxg7 Rg8 Rg3 a4 b4 Rf8 Ne6 Rf7+ Kb6 Rf6 Re3 Kc1 a5 Kd2 Re5 Kd3 Kc5 Rf7 Nd4 Rc7+ Nc6 Rc8 Rd5+ Ke4 Rd1 Rh8 Rd2 Rh5+ Kd6 Rh6+ Kc7 Rh7+ Kb6 Rh6 Rxc2 Kd5 Rc5+ Ke4 Re5+ Kd3 Kc5 Rh4 Rg5 Rc4+ Kd5 Rh4 Rg3+ Kc2 Nd4+ Kb2 Rg2+ Kc1 Nxb3+ Kd1 Nc5 Kc1 b3 Kb1 Nd3 Rh1 Kc4 Ka1 Kb4 Rd1 Nb2 Rb1 Nc4 Rf1 Ra2+ Kb1 Nd2+ Kc1 Nxf1 Kb1 Kc3 Kc1 Ra1#',\n",
       "       'e4 c5 b4 cxb4 a3 d5 exd5 Nf6 axb4 Nxd5 Nf3 Nxb4 Ba3 N4c6 Bc4 e6 Bxf8 Kxf8 O-O b6 Nc3 Bb7 Re1 Nd7 Bb5 h5 Ne4 h4 Nd6 Qc7 Nxb7 Qxb7 c3 h3 g3 Nce5 Re3 Ng4 Re1 Nde5 Be2 Rh6 d4 Rd8 Ra2 Rf6 Nh4 Nxf2 Qc1 Qh1#',\n",
       "       'e4 e6 d4 d5 Nc3 Bb4 e5 c5 a3 cxd4 axb4 dxc3 Qg4 cxb2 Bxb2 g6 Nf3 Nh6 Qf4 Nf5 Bd3 Nc6 b5 Nce7 g4 g5 Qxg5 Rg8 Qh5 Ng7 Qh6 Ng6 Qxh7 Kd7 b6 Qf8 Ba3 Rh8 Bxf8 Rxh7 Rxa7 Nxf8 Rxa8 Rh3 Nd4 Ng6 Bb5+ Kd8 Nc6+ bxc6 b7 cxb5 bxc8=Q+ Ke7 Ra7#',\n",
       "       'd4 d5 c4 Nf6 cxd5 Nxd5 e4 Nf6 Nc3 Nc6 d5 e5 dxc6 Qxd1+ Kxd1 Bb4 Bb5 O-O cxb7 Bxb7 f3 Rad8+ Kc2 a6 Bc4 Rd4 b3 Bxc3 Kxc3 a5 Be3 Nxe4+ fxe4 Rxe4 Bc5 Rd8 Nf3 Re3+ Bxe3 Bxf3 gxf3 Rd6 f4 exf4 Bxf4 Rc6 Rhe1 g5 Bxg5 h6 Be3 Re6 Bxe6 fxe6 Rad1 c5 Rd7 Kf8 Bxh6+ Ke8 Ra7 Kd8 Rf1 Kc8 Rf8#',\n",
       "       'e4 d6 d4 e6 c4 g5 Nc3 c6 Bd3 f6 Qh5+ Kd7 f4 gxf4 Bxf4 h6 Nf3 Ne7 e5 fxe5 dxe5 dxe5 Nxe5+ Kc7 Nf7+ Kd7 Nxd8 Rg8 O-O-O Bg7 Bh7+ Nd5 Bxg8 Kxd8 cxd5 Bh8 dxc6+ Ke7 Qf7#',\n",
       "       'Nf3 Nf6 c4 g6 Nc3 Bg7 d4 d6 e3 O-O Bd3 c5 O-O a6 Re1 e6 b3 b6 Bb2 Bb7 Rb1 Nbd7 e4 cxd4 Nxd4 d5 exd5 exd5 Na4 Nc5 Bc2 Nxa4 bxa4 dxc4 Nf3 Qxd1 Rbxd1 Bxf3 gxf3 b5 Ba3 Rfe8 Be7 Nh5 Be4 Ra7 Bc6 Rexe7 Rxe7 Rxe7 axb5 axb5 Bxb5 c3 Rd8+ Bf8 Bd3 Nf4 Bc2 Re1#',\n",
       "       'Nf3 d5 c4 d4 e3 dxe3 fxe3 b6 d4 Bb7 Nc3 e6 Bd3 Bb4 Qa4+ Nc6 O-O Bxc3 bxc3 Ne7 Ne5 O-O Ba3 Nxe5 Bxh7+ Kxh7 dxe5 Rh8 Qb4 Nc6 Qb1+ g6 Rxf7+ Kh6 Qe4 Qg5 h4 Qg3 Rxc7 Nd8 Rxb7 Nxb7 Qxb7 Qxe3+ Kh1 g5 Bc1 Qe1+ Kh2 Qxh4+ Kg1 Qe1+ Kh2 Kg6+ Qh7+ Rxh7#',\n",
       "       'Nf3 c5 c4 Nc6 Nc3 g6 e3 Bg7 d4 cxd4 exd4 d6 Bd3 Nf6 O-O O-O Bg5 a6 a3 Qb6 Bxf6 Bxf6 Nd5 Qxb2 Nxf6+ exf6 d5 Ne5 Nxe5 fxe5 Qf3 Kg7 h4 f5 h5 e4 h6+ Kg8 Bxe4 fxe4 Qg3 Qe5 Qb3 Rf5 Rfe1 Rh5 f3 Qh2+ Kf2 Bh3 Rg1 Rf8 Qxb7 e3+ Ke2 Rxh6 Qc6 Qg3 gxh3 Qf2+ Kd3 Rh4 Qxd6 Qd2#',\n",
       "       'Nf3 d5 c4 d4 e3 dxe3 fxe3 c5 d4 cxd4 exd4 Nf6 Nc3 e6 a3 Nc6 Be2 Be7 O-O O-O Bg5 h6 Bh4 Ng4 Bxe7 Nxe7 Qd3 Nf5 d5 Qb6+ Nd4 Ne5 Qd2 Nxd4 Kh1 Nb3 Qf4 Ng6 Qf3 Nxa1 Rxa1 Qxb2 Rf1 Qxa3 Bd1 Bd7 Bc2 Rac8 dxe6 fxe6 Qxb7 Rxf1#',\n",
       "       'e4 e6 Nf3 Nc6 Nc3 d6 Bc4 e5 a3 Bg4 d3 Bxf3 Qxf3 Nd4 Qxf7#',\n",
       "       'e4 e5 Bc4 Be7 Qf3 Nh6 d3 O-O Bxh6 Bb4+ c3 gxh6 cxb4 Qe7 a3 Qg5 Nh3 Qh4 Nc3 Nc6 Nd5 Nd4 Qd1 Qf4 Nhxf4 Nb3 Bxb3 c6 Ne7+ Kg7 Nh5+ Kh8 Qf3 Re8 Qf6#',\n",
       "       'e4 e5 Nf3 Nc6 Bb5 Nce7 Nxe5 Nf6 Nc3 b6 d4 Bb7 d5 a5 O-O c5 dxc6 d6 cxb7+ Qd7 Nxd7 Rb8 Nxb8+ Kd8 Nc6+ Kc7 b8=Q+ Kd7 Nd4+ Nc6 Qb7+ Ke8 Qxc6+ Ke7 Qc7+ Nd7 Qxd7+ Kf6 Qf3+ Kg6 Qdg4#',\n",
       "       'e4 e5 Nf3 Nc6 Bb5 Nce7 d4 b6 Nxe5 f6 Nf3 Bb7 d5 Nxd5 exd5 Bxd5 Qxd5 Bb4+ c3 Ke7 cxb4 d6 Bc6 Qf8 Bxa8 Nh6 O-O Ng4 Re1+ Kd7 Qc6+ Kc8 Bb7+ Kd8 Nc3 Ne5 Nxe5 f5 Qd7#',\n",
       "       'e4 e5 Nf3 Nc6 d4 exd4 Nxd4 Nxd4 Qxd4 Ne7 Bc4 Nc6 Qe3 Bb4+ c3 Be7 Qf3 Na5 Qxf7#',\n",
       "       'e4 e5 Nf3 f6 Nc3 d6 d4 Nc6 d5 Bg4 dxc6 bxc6 Be2 Be7 Qd3 c5 Qb5+ Kf7 Qc4+ Ke8 h3 Qd7 hxg4 Qc6 Qe6 Qd5 Nxd5 Kf8 Nxc7 Rc8 Qxc8+ Kf7 Qe6+ Kg6 Nh4#',\n",
       "       'e4 e5 Nf3 Nf6 Nxe5 Nxe4 Qf3 Be7 Qxf7#',\n",
       "       'e4 d6 Nf3 g5 Nxg5 Bg4 Be2 Bd7 Bh5 Nf6 Bxf7#',\n",
       "       'h4 d5 d4 c6 Nc3 e6 e4 dxe4 Nxe4 Nf6 Nxf6+ Qxf6 Bg5 Qf5 Bd3 Qa5+ c3 Qb6 Qc2 g6 Nf3 Nd7 h5 Qc7 hxg6 fxg6 Bxg6+ hxg6 Qxg6#',\n",
       "       'e4 e5 Nf3 Nc6 d4 exd4 Nxd4 Bc5 Nxc6 bxc6 Bc4 d6 O-O Nf6 Nc3 h6 Na4 Bb6 e5 dxe5 Qxd8+ Kxd8 Bxf7 Ke7 Bg6 Rf8 b3 Ng4 Nxb6 cxb6 Re1 Nxf2 Bb2 Ng4 h3 Nf6 Rxe5+ Kd6 Rd1+ Kc7 Re7+ Kb8 Be5#',\n",
       "       'e4 c5 Nf3 d6 d4 cxd4 Nxd4 Nf6 Nc3 g6 Be2 Bg7 O-O O-O Be3 Bd7 Nb3 Nc6 f4 Qc8 Qd2 Ng4 Bxg4 Bxg4 f5 Ne5 Nd5 Re8 h3 gxf5 hxg4 fxg4 Bh6 f6 Nd4 Bh8 c3 g3 b4 Qg4 Nf3 Qh5 Nxe5 Qh2#',\n",
       "       'e4 c5 Nf3 Nc6 Bb5 d6 O-O Bd7 d3 a6 Bxc6 Bxc6 Nc3 e6 Bf4 e5 Bd2 Nf6 Qe2 Be7 Nd1 b5 a4 b4 Ne3 O-O h3 Qc7 Nf5 Bd8 Bg5 g6 Bxf6 Bxf6 Ne3 Rab8 Nd2 Bg5 Qg4 Qd8 Ndc4 Kh8 Qe2 f5 Nd5 Re8 a5 Bxd5 exd5 Qd7 Rfe1 Kg8 Qf3 Rf8 Nb6 Qf7 Rad1 Rb7 Nc4 Qe7 g3 Bh6 h4 Rd7 h5 g5 Nb6 g4 Qg2 Rdd8 d4 cxd4 Rxd4 Bc1 Rc4 Bxb2 Na4 Ba3 Qh1 Qg5 Nb6 Qd2 Rf1 Bb2 h6 Kh8 Qh4 e4 Rc7 Bf6 Nc4 Qxc2 Qh5 Bd4 Qg5 Qc3 Kh2 f4 Rf7 Bf6 Rxf8+ Rxf8 Qxf4 Qxc4 Qxd6 Qc8 Qxb4 Bc3 Qxe4 Qf5 Qe3 Qf3 Qe6 Bxa5 Qxa6 Qxd5 Kg1 Qc5 Kg2 Bc3 Qe6 Qd4 f4 Rg8 Rf2 Qd3 Re2 Qf3+ Kh2 Qf1 Rg2 Qb5 f5 Re8 Qf7 Bd4 Rf2 Rg8 Qe6 Qc5 Rg2 Rf8 Re2 Qc1 Re1 Qg5 Kg2 Rb8 Kf1 Qh5 Qe4 Qh3+ Qg2 Qxh6 Qe4 Qh3+ Ke2 Qh2+ Kd3 Qxg3+ Kxd4 Rd8+ Kc4 Qc7+ Kb3 Rb8+ Qb4 Qg3+ Re3 Qxe3+ Ka4 Rxb4+ Kxb4 Qe4+ Kc5 g3 f6 g2 f7 g1=Q+ Kb5 Qgb1+ Ka6 Qa4#',\n",
       "       'd4 d5 Nf3 f6 Bf4 Bf5 e3 Nc6 Be2 e6 Nh4 g5 Nxf5 exf5 Bh5+ Kd7 Bg3 f4 exf4 gxf4 Qg4+ Kd6 Qxf4+ Ke6 O-O Bd6 Re1+ Kd7 Qf5#',\n",
       "       'e4 e6 c4 d6 d4 Nf6 Nc3 c6 d5 cxd5 exd5 exd5 Nxd5 Nxd5 Qxd5 Qe7+ Be3 Be6 Qb5+ Qd7 Qg5 f6 Qh5+ g6 Qd1 d5 cxd5 Bb4+ Bd2 Bxd2+ Qxd2 Qxd5 Qxd5 Bxd5 O-O-O Bxa2 Bb5+ Kf7 Ne2 a6 Bd3 Bb3 Rd2 Rc8+ Nc3 Nd7 Kb1 Ne5 Be4 Rd8 Rxd8 Rxd8 Bxb7 Bc4 f4 Bd3+ Ka2 Bc4+ Ka3 Rb8 Bd5+ Bxd5 Nxd5 Nc4+ Ka4 Rb5 Nc7 Rxb2 g3 Ra2+ Kb4 Nd2 Rd1 a5+ Kc3 Nf3 Rd7+ Kg8 Ne6 a4 Rg7+ Kh8 Rf7 Kg8 Rf8#',\n",
       "       'd4 d5 c4 e6 Nf3 Nc6 g3 Nf6 Bg2 dxc4 Qc2 Nxd4 Nxd4 Qxd4 O-O Qc5 Nd2 Nd5 Ne4 Qb5 Nc3 Nxc3 Qxc3 f6 b3 cxb3 Rb1 Bd6 Rxb3 Qa6 Ba3 O-O Bxd6 cxd6 Qd2 Rd8 Rc1 d5 e4 Qd6 exd5 b6 Rbc3 Bb7 Rc7 Bxd5 Bxd5 exd5 R1c6 Qe5 Rc1 Qf5 Qc2 Qxc2 R1xc2 a5 R2c6 Rab8 Re6 Rdc8 Rxc8+ Rxc8 Rxb6 Rc2 Rb5 Rxa2 Rxd5 Kf7 Rd7+ Kg6 Kg2 a4 Rd4 Kf5 Rf4+ Ke5 Rf3 a3 Re3+ Kd4 Re1 Rb2 Kf1 a2 h4 Rb1 Rxb1 axb1=Q+ Kg2 Qe4+ Kg1 Kd3 Kh2 Ke2 f3 Qxf3 Kh3 Kf2 Kh2 Qxg3+ Kh1 Qg2#',\n",
       "       'e4 b6 Nf3 Ba6 Bxa6 Nxa6 Qe2 Nc5 d4 Ne6 d5 Nc5 O-O g6 Nc3 Nf6 b4 Nb7 e5 Ng4 Qc4 h5 h3 Nh6 Nb5 c6 dxc6 dxc6 Qxc6+ Qd7 Nc7+ Kd8 Qxd7+ Kxd7 Nxa8 Nf5 Rd1+ Kc8 Bb2 h4 e6 fxe6 Bxh8 e5 Bxe5 Bg7 Bxg7 Nxg7 Ne5 g5 Rd7 Kb8 Rxe7 Nf5 Nc6+ Kxa8 Re8+ Nd8 Rxd8+ Kb7 b5 a6 Rb8+ Kc7 a4 axb5 axb5 Kd6 Rd1+ Kc5 Rf8 Kxb5 Na7+ Kc5 Rxf5+ Kb4 Rb1+ Kc3 Rxg5 Kxc2 Ra1 Kd2 Ra3 Ke2 Rd5 b5 Re3#',\n",
       "       'c3 d5 d4 Nf6 Nf3 Bf5 h3 e6 g4 Bg6 Ne5 Nbd7 Nxg6 hxg6 Bg2 Bd6 Qb3 Rb8 c4 c6 Nc3 a6 Bg5 Qc7 cxd5 exd5 Rc1 Qb6 Qxb6 Nxb6 b3 O-O O-O Rfe8 Bf3 Nbd7 Rfd1 Nf8 Rc2 Ne6 Bc1 Bf4 e3 Bd6 h4 Kh7 g5 Ng8 e4 dxe4 Nxe4 Bf4 d5 cxd5 Bxf4 Nxf4 Nd6 Re7 Rd4 Ne6 Rxd5 Rd7 Nc4 Rxd5 Bxd5 b5 Ne5 Ne7 Bxe6 fxe6 Rc7 Nf5 Ra7 Rb6 Nd7 Rd6 Nc5 Nxh4 Ne4 Rd1+ Kh2 Kg8 Rxa6 e5 Kh3 Rh1+ Kg4 Kf7 Nd6+ Ke6 Nxb5+ Kd5 Nc3+ Kd4 Ne2+ Kd3 Ng3 Rh2 Rd6+ Kc3 Ne4+ Kb4 a4 Nf5 Rxg6 Nd4 Rxg7 Nxb3 Rb7+ Kxa4 g6 Rg2+ Ng3 Rxf2 g7 Rf4+ Kh3 Nc5 Ra7+ Kb5 g8=Q Kb6 Qb8+ Kc6 Rc7+ Kd5 Qb5 Rc4 Rd7+ Ke6 Qc6#',\n",
       "       'c3 Nf6 d4 e6 Bf4 Nh5 Be3 Be7 Nf3 b6 g4 Nf6 g5 Nd5 Bc1 Bd6 e4 Bb7 exd5 Bxd5 c4 Be4 Nc3 Bg6 Bg2 c6 Qe2 O-O Nh4 Bf5 O-O Qc7 f4 f6 Nxf5 exf5 gxf6 Rxf6 Nd5 cxd5 Bxd5+ Kf8 Bxa8 Nc6 Bxc6 Qxc6 d5 Qc7 Re1 g5 Qe8+ Kg7 b3 gxf4 Bb2 Qc5+ Kh1 Qf2 Bxf6+ Kh6 Rg1 f3 Bg7#',\n",
       "       'a3 d5 c3 e5 d4 e4 e3 f5 c4 c6 Nc3 Nf6 Qb3 Be7 Nh3 b6 cxd5 Nxd5 Nxd5 cxd5 Nf4 Bb7 Ne6 Qd7 Nxg7+ Kf7 Nh5 Nc6 Nf4 Na5 Qd1 Bc6 Qh5+ Kg7 g4 Nb3 gxf5 Rhg8 Rg1+ Kh8 Ng6+ Rxg6 fxg6 Bh4 Qxh4 Nxa1 Qf6+ Kg8 gxh7+ Kxh7 Qh4#',\n",
       "       'e4 e6 d4 d5 Nc3 Nf6 Bg5 Bb4 exd5 Qxd5 Bxf6 Bxc3+ bxc3 gxf6 Nf3 b6 Be2 Bb7 O-O Rg8 Qd3 f5 Rfe1 Nd7 c4 Qe4 Qc3 O-O-O a4 a5 g3 c5 Rad1 cxd4 Rxd4 Qc6 Red1 Qxa4 Rd6 Nc5 Rxd8+ Rxd8 Rxd8+ Kxd8 Qf6+ Kc7 Qxf7+ Nd7 Ng5 Qa1+ Bf1 Qf6 Qg8 Nc5 Nxh7 Qd4 Ng5 a4 Qf8 Bc6 c3 Qd7 Qh8 a3 Qe5+ Kc8 Qe2 Qa7 Nxe6 Nxe6 Qxe6+ Qd7 Qe1 Qe8 Qd2 Qe4 f3 Qxf3 Qh6 Kb7 c5 b5 Qe6 Qh1+ Kf2 Qxh2+ Ke3 Qxg3+ Kd2 Qf4+ Kc2 Qxf1 Qf7+ Ka6 Qg6 Qf3 Qf6 Qg2+ Kd3 a2 c4 bxc4+ Ke3 c3 Qxc3 Qf3+ Kd2 Qxc3+ Kxc3 Kb5 Kb2 Bd5 c6 Kxc6 Ka1 f4 Kb2 f3 Ka1 f2 Kb2 f1=N Ka1 Ne3 Kb2 Nc4+ Kxa2 Kc5 Ka1 Kd4 Kb1 Kc3 Ka1 Ne3 Kb1 Nc2 Kc1 Ba2 Kd1 Nd4 Ke1 Kd3 Kf1 Ke3 Kg2 Bd5+ Kg3 Bf3 Kh4 Kf4 Kh3 Nc2 Kh4 Ne3 Kh3 Bg4+ Kh2 Kf3 Kg1 Kg3 Kh1 Kf2 Kh2 Nf1+ Kh1 Bf3#',\n",
       "       'Nf3 e6 g3 d5 Bg2 Nf6 c4 c5 cxd5 Nxd5 O-O Nc6 Nc3 Nxc3 dxc3 Be7 Bf4 O-O Qb3 Qb6 Qxb6 axb6 Rfd1 f6 Bc7 b5 Nd2 e5 Bd5+ Kh8 e3 Bf5 Ne4 Bxe4 Bxe4 Bd8 Bd6 Re8 Bxc5 Be7 Rd5 g6 Bxe7 Rxe7 Rxb5 Nd8 Bd5 Rd7 Kg2 f5 e4 fxe4 Bxe4 Ra6 Rxe5 Kg7 Kf3 Rf6+ Ke3 Ne6 Re1 h6 h4 g5 Rh1 g4 Bf5 Re7 Bxg4 Kg6 Re1 Kf7 f3 Ng7 Rxe7+ Kxe7 Kd4+ Kd6 Re5 b6 Rd5+ Kc6 Ke5 Rf8 Rd6+ Kc5 Bd7 b5 Rc6#',\n",
       "       'Nf3 d5 d4 Nc6 g3 Nf6 Bg2 e5 dxe5 Ng4 Bg5 f6 exf6 Nxf6 O-O Bc5 Nc3 O-O Bxf6 Rxf6 Qxd5+ Qxd5 Nxd5 Rf7 Ng5 Rf5 Nxc7 Rxg5 Nxa8 Bd6 Rfd1 Bb8 Bxc6 bxc6 Rd8+ Kf7 Rxc8 Be5 Rxc6 Bxb2 Rb1 Bf6 Rb7+ Kg6 Rxa7 Rd5 Nc7 Rd2 Ne8 Kg5 Nxg7 Bxg7 Ra5+ Kg4 f3+ Kh3 Rh5#',\n",
       "       'e4 e5 Nf3 d6 d4 f5 dxe5 fxe4 Ng5 h6 Qh5+ Kd7 Bb5+ c6 e6+ Kc7 Qf7+ Qe7 Qxe7+ Bxe7 Nf7 Rh7 Bc4 d5 Bb3 Bxe6 Bf4+ Kd7 Ne5+ Ke8 Ng6 Bf7 Nxe7 Kxe7 O-O Nd7 Nc3 Ngf6 f3 g5 Bg3 exf3 Rae1+ Kf8 Rxf3 Bh5 Bd6+ Kf7 Rf2 Re8 Ref1 Rhh8 Bxd5+ cxd5 Nxd5 Re6 Bb4 Kg7 Bc3 Rf8 h3 Be2 Re1 Bc4 Rxe6 Bxd5 Re7+ Rf7 Re1 Bxa2 b3 Kg6 Ra1 Ne4 Rxf7 Kxf7 Be1 Bxb3 cxb3 a6 Rd1 Ndc5 b4 Nb3 Rd7+ Ke6 Rxb7 Kf5 Rb6 Nd4 Rxa6 Ne2+ Kf1 N4g3+ Bxg3 Nxg3+ Kf2 g4 hxg4+ Kxg4 Rxh6 Nf5 Rh8 Nd4 Rd8 Nc2 b5 Nb4 b6 Nc6 Rg8+ Kf5 b7 Ke6 b8=Q Nxb8 Rxb8 Kf5 Kf3 Kg5 Rg8+ Kh4 g4 Kh3 g5 Kh4 g6 Kh5 g7 Kh6 Kf4 Kh7 Ra8 Kxg7 Kg5 Kf7 Kf5 Ke7 Ra6 Kd7 Ke5 Kc7 Kd5 Kd7 Ra7+ Ke8 Kd6 Kd8 Ra8#',\n",
       "       'e4 e5 Nf3 d6 Bc4 Qe7 c3 f6 O-O Nc6 d4 g6 b4 b6 a4 a5 b5 Na7 dxe5 fxe5 Bxg8 Rxg8 Bg5 Qe6 Qd5 Qxd5 exd5 Bf5 Nbd2 Bc2 Ra2 Bd3 Re1 Be7 Bxe7 Kxe7 Ng5 h6 Ne6 Kd7 f4 Rae8 fxe5 dxe5 Rxe5 Kd6 Nf3 Bf5 Rd2 Bxe6 dxe6+ Ke7 Rd7+ Kf6 Rf7#',\n",
       "       'e4 c5 Nf3 d6 d4 cxd4 Nxd4 Nf6 Nc3 g6 Be3 Bg7 f3 Nc6 Qd2 O-O O-O-O d5 exd5 Nxd5 Nxc6 bxc6 Bd4 e5 Bc5 Re8 Ne4 Qc7 Bc4 Be6 h4 Rad8 Qf2 Ra8 h5 Nf4 Bxe6 Nxe6 hxg6 fxg6 Qh4 h5 Bd6 Qf7 g4 Qxf3 gxh5 Qf4+ Qxf4 Nxf4 hxg6 Nxg6 Rhg1 Re6 Rg4 Bh6+ Kb1 Bf4 Nc5 Rf6 Be7 Kf7 Bxf6 Kxf6 Rdg1 Ne7 c3 Rd8 R4g2 Rd5 Ne4+ Kf5 Ng3+ Ke6 Re1 Ng6 Ne4 Nh4 Rf2 Kf5 Kc2 Kg4 Rg1+ Kf5 Ng3+ Ke6 Nh5 Be3 Rgf1 Bxf2 Rxf2 Nf5 Re2 Kd6 Kb3 Rb5+ Kc2 Rb8 Rf2 Ne3+ Kd3 Nd5 Ng3 Rg8 Ne4+ Ke6 Nc5+ Kd6 Kc2 Kxc5 Re2 Re8 Re4 Nf6 Re2 e4 Re3 Ng4 Rg3 e3 Rxg4 e2 b4+ Kb6 Rg1 e1=Q Rxe1 Rxe1 Kb3 Re8 a4 c5 Kc4 cxb4 cxb4 a5 b5 Re4+ Kb3 Rb4+ Ka3 Kc5 Ka2 Rxa4+ Kb3 Rb4+ Ka3 Kxb5 Ka2 a4 Ka3 Rb3+ Ka2 Kb4 Ka1 a3 Ka2 Rb2+ Ka1 Rh2 Kb1 Kb3 Ka1 Rh1#',\n",
       "       'e4 Nc6 Nf3 b6 d4 Ba6 Bxa6 Nf6 Nbd2 e5 dxe5 Nxe5 Nxe5 Bb4 c3 O-O cxb4 Ng4 Nxg4 Qg5 O-O Rfe8 Nc4 Rxe4 Bxg5 f6 Bxf6 Rf8 Qd5+ Re6 Nce5 gxf6 Nxd7 c5 Qxe6+ Rf7 Nh6+ Kg7 Qxf7+ Kxh6 Qxf6+ Kh5 Be2#',\n",
       "       'd4 d5 c4 e6 Nf3 Nf6 g3 Be7 Bg2 c6 O-O O-O Nbd2 b6 Qc2 Bb7 e4 dxe4 Nxe4 Nxe4 Qxe4 Qc7 Bf4 Bd6 Ng5 Bxf4 Qxh7#',\n",
       "       'e4 e5 Nf3 Nc6 Bb5 Nf6 O-O Nxe4 d4 Nd6 Bxc6 dxc6 dxe5 Nf5 Qxd8+ Kxd8 Nbd2 h6 b3 Ne7 Rd1 Ng6 Bb2 Ke8 h3 Bd7 Nf1 a5 a4 Nf4 Ng3 Bb4 Bd4 Rd8 Kh2 Be6 Rab1 b6 Bb2 Bd5 Nf5 Rg8 N3d4 Nxg2 f3 Nf4 c4 Be6 Nxc6 Rd3 Nfd4 Bd2 Bc1 Bxc1 Rbxc1 Bd7 Kg3 Rxd1 Rxd1 g5 Nb8 Bxh3 Nb5 Kf8 Rd8+ Kg7 Rxg8+ Kxg8 Nxc7 Be6 c5 bxc5 Nxe6 Nxe6 Nc6 c4 bxc4 Nc5 Nxa5 Nxa4 Nb7 Kg7 c5 Nc3 c6 Nd5 Nd6 Nc7 Nf5+ Kg6 Ne7+ Kg7 Kg4 Kf8 Nf5 Kg8 Nxh6+ Kg7 Nf5+ Kg6 Ne7+ Kg7 Kxg5 Kf8 Nf5 Ke8 Nd6+ Ke7 Kf5 Kf8 Ke4 Ke7 Kd4 f6 f4 fxe5+ Kxe5 Kd8 f5 Ke7 f6+ Kf8 Kf5 Kg8 Kg6 Kf8 Nf5 Ke8 Ng7+ Kf8 Ne6+ Nxe6 Kf5 Nc7 Ke5 Kf7 Kd6 Ke8 Kxc7 Kf7 Kd8 Kxf6 c7 Ke5 c8=Q Ke4 Qc5 Kf3 Qd4 Kg3 Qe4 Kf2 Qd3 Kg2 Qe3 Kf1 Qd2 Kg1 Qe2 Kh1 Ke7 Kg1 Kf6 Kh1 Kf5 Kg1 Kf4 Kh1 Kg3 Kg1 Qg2#',\n",
       "       'e4 e5 Nf3 Nc6 Bb5 Nf6 O-O Nd4 Nxd4 exd4 e5 Nd5 Qg4 c6 Qxd4 d6 Qxd5 cxb5 Re1 dxe5 Qxe5+ Be7 Qxg7 Rf8 d4 Qd5 Nc3 Qf5 Rxe7+ Kxe7 Bg5+ Ke8 Bh6 Kd7 Qxf8 b6 Re1 Qxc2 Qe7+ Kc6 d5#',\n",
       "       'e4 e6 d4 c5 d5 Nf6 d6 Nxe4 Bf4 Qa5+ c3 Qb6 Nd2 Nxd6 Ngf3 Nf5 Nc4 Qd8 Nd6+ Nxd6 Bxd6 Be7 Bc4 a6 a4 Nc6 O-O O-O Qd3 Bxd6 Qxd6 Ne7 Bd3 b6 Be4 Ra7 Ng5 Bb7 Bxh7+ Kh8 Qf4 g6 Qf6#',\n",
       "       'e4 e5 Nf3 Nc6 Nc3 Bc5 Bb5 d6 d3 h6 h3 Nf6 Be3 Bb6 Qd2 Bd7 Bxc6 Bxc6 g4 Qd7 Rg1 Bxe3 Qxe3 b6 a3 O-O-O b4 Rhe8 a4 d5 exd5 Nxd5 Nxd5 Qxd5 Nd2 Qd6 b5 e4 d4 Bb7 c3 Qh2 Qg3 Qxg3 Rxg3 Kb8 Re3 Rd6 f3 Rde6 fxe4 Bxe4 Nxe4 Rxe4 Rxe4 Rxe4+ Kd2 Rf4 Ke3 g5 Ra2 Kb7 Rf2 Rxf2 Kxf2 c6 Ke3 cxb5 axb5 Kc7 Ke4 Kd6 Kf5 Ke7 c4 f6 c5 a5 bxa6 b5 a7 b4 a8=Q b3 Qb7+ Kd8 Ke6 b2 Qd7#',\n",
       "       'e4 c5 d3 Nc6 Nf3 e5 Nbd2 Nf6 g3 Be7 Bg2 d6 O-O O-O c3 Bg4 h3 Be6 Re1 h6 a3 Qd7 b4 cxb4 axb4 Bxh3 Nc4 Bxg2 Kxg2 b5 Ne3 Bd8 Nd5 Nxd5 exd5 Ne7 c4 f5 Qb3 f4 c5 Qg4 Re4 Rf5 cxd6 Rh5 Nh2 Qh3+ Kg1 Qxh2+ Kf1 fxg3 Be3 g2+ Ke2 g1=Q Rxg1 Qxg1 dxe7 Bxe7 d6+ Kh8 dxe7 Rc8 e8=Q+ Rxe8 Qf7 Rc8 Qxh5 Rc2+ Bd2 Qc1 Rxe5 Qxd2+ Kf3 Qxf2+ Ke4 Qe2+ Kd4 Qxh5 Rxh5 a6 Rc5 Rb2 Kc3 Rb1 Rc8+ Kh7 Ra8 Ra1 Kd4 h5 Kc5 h4 Rd8 h3 Rd4 g5 Rd7+ Kh6 Rd8 g4 Rh8+ Kg5 Kd4 Kf4 Rf8+ Kg3 Ke3 h2 Rf4 h1=Q Rf3+ Qxf3+ Kd2 Ra2+ Ke1 Qh1#',\n",
       "       'e4 e5 Nf3 d6 d4 exd4 Nxd4 Nf6 Nc3 Bd7 f3 Nc6 Be3 a6 Be2 Nxd4 Bxd4 Be7 O-O O-O Qd2 Bc6 Rad1 Qd7 Qf4 d5 e5 Nh5 Qe3 h6 f4 Qf5 g4 Qxc2 gxh5 Qxb2 Nxd5 Qxa2 Nxe7+ Kh8 f5 Rfe8 f6 gxf6 Qxh6#',\n",
       "       'e4 e6 d4 d5 Nc3 Bb4 e5 c5 a3 Bxc3+ bxc3 Ne7 Bb5+ Bd7 Rb1 Bxb5 Rxb5 Qd7 Rb1 Nbc6 Nf3 Rc8 O-O O-O Qe2 Nf5 Qb5 cxd4 cxd4 Qc7 c3 b6 Bd2 Nce7 g4 Nh6 h3 Qc6 Qxc6 Nxc6 Nh2 f6 Bxh6 gxh6 exf6 Rxf6 Rfe1 Na5 Rbc1 Nb3 Rc2 Nxd4 Rd2 Nb3 Rde2 Kf7 Re3 Nd2 Rd3 Ne4 f3 Nxc3 Kg2 Nb5 Rb1 Nd6 Nf1 Rc2+ Kg3 Ke7 Ne3 Rc7 Rxd5 Rc3 Re5 Kd7 Rd1 Kc7 Rxe6 Rxe6 Nd5+ Kb7 Nxc3 Nc4 Rd7+ Ka6 a4 Re3 Nb5 Ne5 Rxa7#',\n",
       "       'e4 e5 Nf3 d6 Bc4 h6 d4 exd4 c3 Nf6 e5 Ne4 cxd4 d5 Be2 Bb4+ Bd2 Bxd2+ Nbxd2 Nxd2 Qxd2 O-O O-O Nc6 h3 f6 Rae1 Qd7 exf6 Rxf6 Ne5 Nxe5 dxe5 Rg6 Bg4 Qf7 Bh5 Rxg2+ Kxg2 Qxh5 Qxd5+ Kh7 Re3 c6 Qf3 Qg6+ Qg3 Qxg3+ Kxg3 Be6 b3 Rd8 f4 Rd2 f5 Bd5 Rf2 Rxf2 Kxf2 Kg8 e6 Kf8 e7+ Ke8 Kg3 a5 Kf4 a4 bxa4 Bxa2 f6 gxf6 Kf5 c5 Kxf6 Bd5 Rd3 c4 Rxd5 c3 Rd8#',\n",
       "       'd4 Nf6 Bg5 d5 e3 c5 c3 Qb6 Qb3 Nc6 Nd2 c4 Qc2 g6 Bxf6 exf6 Ngf3 Bf5 Qc1 O-O-O Nh4 Be6 g3 f5 Bg2 Be7 Nhf3 h5 h4 Bf6 b3 Qc7 bxc4 dxc4 Rb1 Ne7 Ne5 Nd5 Nexc4 g5 hxg5 Bxg5 Ne5 h4 c4 Nb6 gxh4 Rxh4 Rxh4 Bxh4 Ndf3 Bf6 c5 Nd5 Qd2 Rg8 Bf1 Be7 Nc4 Nf6 Rc1 Ne4 Qb4 f4 Bd3 Bd5 Ke2 fxe3 Nxe3 Nxf2 Nxd5 Nxd3 Kxd3 Qd7 Nxe7+ Qxe7 Re1 Qf6 Ne5 Rg3+ Kc2 Qf2+ Kb1 Rg2 Nd3 Qc2+ Ka1 Qxa2#',\n",
       "       'c4 e6 Nc3 Nf6 e4 d6 d4 Be7 Nf3 O-O Be2 Nbd7 h3 c5 d5 e5 O-O a6 Ne1 Re8 a4 Nf8 Nd3 Bd7 f4 exf4 Bxf4 Ng6 Bh2 Bf8 Bh5 Nxe4 Nxe4 Rxe4 Qf3 Qe8 Rae1 Rxe1 Rxe1 Qd8 b3 Qf6 Qxf6 gxf6 Nf2 f5 g4 Nh4 gxf5 Bxf5 Ne4 Rd8 Bf4 Ng6 Bg5 Rb8 Nf6+ Kg7 Ne8+ Kg8 Nf6+ Kg7 Ne8+ Rxe8 Rxe8 Bc2 Bxg6 hxg6 Be7 Bxe7 Rxe7 Bxb3 Rxb7 Bxc4 Rd7 Bxd5 Rxd6 Bb3 Rxa6 c4 a5 c3 Rc6 c2 a6 g5 a7 Bd5 Rxc2 Kf6 Rc8 Ke5 a8=Q Bxa8 Rxa8 f5 Ra3 Kf4 Kg2 Ke5 Kf3 Kf6 Ra5 Kg6 h4 g4+ Kf4 Kf6 Rxf5+ Kg6 Kxg4 Kg7 Kg5 Kh7 Rf7+ Kg8 Kg6 Kh8 Rf8#',\n",
       "       'e4 e5 f4 Nc6 Nf3 exf4 d4 d5 e5 Bg4 Bxf4 h6 c3 g5 Bg3 Bg7 Nbd2 Nge7 Be2 Nf5 Bf2 f6 h3 Bxf3 Nxf3 fxe5 dxe5 Nxe5 Nxe5 Bxe5 Bh5+ Kd7 Qxd5+ Nd6 Qxe5 Rh7 Bg4+ Kc6 Qc5#',\n",
       "       'e4 c6 d4 d5 f3 dxe4 fxe4 e5 c3 Qh4+ Kd2 Qxe4 Nf3 exd4 Bd3 dxc3+ Nxc3 Qf4+ Kc2 Qg4 Re1+ Be7 Qe2 Bf5 Bg5 Bxd3+ Qxd3 Qd7 Qe4 Nf6 Bxf6 gxf6 Rad1 Qc7 Nh4 Nd7 Qxe7#',\n",
       "       'd4 d5 Bf4 e6 Nf3 c5 e3 c4 c3 a6 Nbd2 b5 a3 Bd6 Bg3 a5 Be2 a4 O-O Qc7 Bxd6 Qxd6 Ne5 Nf6 f4 Nc6 Ndf3 Ne4 Nxc6 Qxc6 Ne5 Qc7 Bh5 O-O Bf3 Nd6 Qe1 f6 Ng4 Bb7 Qh4 Nf5 Qe1 Rae8 Bd1 Nd6 h3 Bc6 Nh2 Re7 g4 Ne4 Rc1 Qb8 Rc2 e5 dxe5 fxe5 f5 Ng5 Qh4 h6 Nf3 Nxf3+ Bxf3 Ref7 Rd2 e4 Bd1 Qc7 Rdf2 Qb6 Qg3 Rf6 h4 Bd7 Qe5 Qxe3 Qxd5+ R6f7 Qe5 Qh3 Rh2 Qe3+ Kh1 Qd3 Re1 Bc6 g5 hxg5 hxg5 Re8 Rh8+ Kxh8 Qh2+ Kg8 g6 e3+ Kg1 Kf8 gxf7 Kxf7 Qc7+ Bd7 Bh5+ Kf8 Qc5+ Kg8 Bxe8 Bxe8 Qxe3 Qxe3+ Rxe3 Kf7 Kf2 Bd7 Kf3 Bxf5 Re5 Bd7 Kf4 g6 Rd5 Ke7 Kg5 Ke6 Rd4 Ke5 Kxg6 Ke6 Kg5 Bc6 Kf4 Ke7 Ke5 Bb7 Rd2 Bc6 Kd4 Bb7 Rh2 Kd6 Rh6+ Kc7 Kc5 Be4 Kxb5 Bd3 Kxa4 Be2 Kb4 Bd3 a4 Kb7 a5 Ka7 a6 Kb8 Kb5 Ka7 Rh7+ Kb8 Kb6 Be4 Rh8#',\n",
       "       'd4 Nf6 c4 g6 Nc3 d5 cxd5 Nxd5 e4 Nf6 Bc4 Bg7 e5 Nfd7 f4 Nc6 Nf3 e6 d5 exd5 Qxd5 Nb4 Qxf7#',\n",
       "       'c4 e5 Nc3 Nc6 g3 Nf6 Bg2 Bb4 e3 Bxc3 bxc3 e4 Qc2 d5 cxd5 Qxd5 Ne2 Ne5 Nf4 Qa5 Bxe4 g5 Nd3 Nxe4 Nxe5 Qxe5 f4 gxf4 gxf4 Qe7 a4 Qh4+ Ke2 Bg4+ Kd3 Qd8+ Kxe4 f5+ Ke5 Qd6#',\n",
       "       'd4 Nf6 Bg5 e6 e4 Be7 e5 Nd5 Bd2 d6 Qg4 g6 Nf3 h5 Qg3 Nc6 Bd3 Ndb4 Bxg6 fxg6 Qxg6+ Kd7 c3 Rg8 Qh7 Rh8 Qg6 Nd5 O-O Qe8 Qe4 b5 Na3 a6 Nc2 Bb7 Rfe1 Na5 a4 Nxc3 Qd3 Nxa4 Bxa5 Nxb2 Qc3 Nc4 Nd2 Qg6 g3 Nxa5 Rxa5 h4 Raa1 hxg3 fxg3 Qh5 Nf1 Raf8 Nce3 Qf3 Rac1 Qh1#',\n",
       "       'c4 c5 Nc3 Nf6 g3 e6 Bg2 d5 cxd5 exd5 d4 Nc6 Nf3 cxd4 Nxd4 Bc5 Be3 Nxd4 Bxd4 Bxd4 Qxd4 Be6 O-O O-O Rfd1 Qa5 Nxd5 Nxd5 Bxd5 Rad8 e4 Rd7 Qc4 Rfd8 b4 Qa3 Qb3 Qxb3 Bxb3 Rxd1+ Bxd1 Rd2 a3 Kf8 Bf3 b6 Kg2 Ke7 Rc1 Kd7 Rd1 Rxd1 Bxd1 Kd6 f4 Bc4 Kf3 f6 Ke3 Ba6 Kd4 Bf1 h4 h6 Bb3 Bg2 e5+ fxe5+ fxe5+ Ke7 Bd5 Bf1 a4 Be2 a5 Bf1 axb6 axb6 Bb3 Be2 Ke4 Bg4 Kf4 Bd7 g4 Bc8 h5 Bd7 g5 Bc8 gxh6 gxh6 Bd1 Be6 Bg4 Bb3 Kf5 Bc2+ Kf4 Bb3 Ke4 Ba2 Kd4 Bb3 Kc3 Ba2 Kb2 Bf7 Ka3 Be8 Kb3 Bf7+ e6 Bxe6+ Bxe6 Kxe6 Kc4 Kd6 Kb5 Kc7 Ka6 Kc6 b5+ Kc5 Kb7 Kxb5 Kc7 Kc5 Kd7 b5 Ke7 b4 Kf7 b3 Kg7 b2 Kxh6 b1=Q Kg7 Qg1+ Kh7 Kd6 h6 Ke7 Kh8 Kf7 h7 Qg7#',\n",
       "       'd4 Nf6 Nf3 e6 Bg5 h6 Bxf6 Qxf6 e4 Nc6 a3 d6 Bb5 Bd7 c3 a6 Ba4 Be7 O-O O-O d5 exd5 exd5 Ne5 Bxd7 Nxd7 Nbd2 Qg6 Nb3 Rfe8 Re1 Bf6 Qd2 Ne5 Nxe5 Rxe5 Rxe5 Bxe5 g3 f5 f4 Bf6 Re1 Re8 Rxe8+ Qxe8 Nd4 Qe4 Ne6 c6 dxc6 bxc6 Qxd6 Qe1+ Kg2 Qe2+ Kh3 Qf1#',\n",
       "       'd4 d6 e4 e6 f4 h6 Nf3 Qf6 Bd3 Nd7 e5 Qe7 O-O f6 Bg6+ Kd8 c4 fxe5 dxe5 d5 cxd5 Qc5+ Kh1 exd5 b4 Qc6 Bf7 Ne7 Nd4 Qc4 Ne6#',\n",
       "       'f4 e6 e4 d6 d4 h6 Nf3 c6 c4 Qa5+ Nc3 Qh5 Be2 Qg6 O-O Qf6 e5 dxe5 fxe5 Qd8 Be3 Be7 Qe1 Bg5 Qf2 a6 Nxg5 hxg5 Qxf7#',\n",
       "       'e4 d6 d4 c6 a4 g6 f4 Bg7 Nf3 Bg4 c3 Nf6 e5 Ne4 Bd3 d5 Nbd2 Nxd2 Bxd2 Bxf3 Qxf3 e6 O-O Nd7 b4 a6 Rf2 a5 b5 O-O g4 cxb5 f5 Qh4 Bxb5 Nb6 Rg2 exf5 gxf5 f6 e6 Bh6 Bxh6 Qxh6 Re1 Nc8 e7 Nxe7 Rxe7 Qc1+ Kf2 Rac8 Re3 Rc7 fxg6 Rg7 gxh7+ Kxh7 Qh5+ Kg8 Rxg7+ Kxg7 Re7+ Rf7 Rxf7+ Kg8 Qh7#',\n",
       "       'Nf3 Nf6 c4 b6 g3 c5 Bg2 Bb7 O-O g6 Nc3 Bg7 Rb1 O-O a3 d5 Ne5 Nc6 Nxc6 Bxc6 b4 Qd6 bxc5 Qxc5 cxd5 Bxd5 Rb5 Bxg2 Rxc5 Bxf1 Rc7 Bh3 Rxe7 Rfd8 d4 Be6 a4 Nd5 Nxd5 Bxd5 Rc7 Re8 f3 a6 e4 Bxe4 fxe4 Rxe4 Qf3 Bxd4+ Kg2 f5 Qb3+ Kh8 Qf7 Re2+ Kh3 Re7 Rxe7 Be5 Qxh7#',\n",
       "       'f4 d5 d4 Nc6 Nf3 Bf5 a3 e6 e3 Nf6 c4 Be7 Nc3 a6 cxd5 Nxd5 Qb3 Rb8 Nxd5 Qxd5 Bc4 Qd7 O-O O-O Ne5 Nxe5 fxe5 Bg5 Qc3 b5 Bd3 Bxd3 Qxd3 Rfd8 Bd2 c5 Bc3 c4 Qe2 Qd5 Rf3 h6 Raf1 Rb7 e4 Qc6 g3 Ra7 h4 Be7 Rxf7 Rf8 Qf3 Qa8 Rxf8+ Qxf8 Qg4 Qc8 d5 Qc5+ Kh1 exd5 Qe6+ Kh8 exd5 Qe3 Qg4 Bc5 e6 Re7 Rf8+ Kh7 Qf5+ g6 Rf7+ Rxf7 Qxf7#',\n",
       "       'e4 e5 Nf3 Nc6 d4 Nxd4 Nxd4 exd4 Bd3 c5 c3 Qa5 Bd2 Qb6 Qc2 g6 O-O Bg7 Na3 Qd6 Nc4 Qe6 e5 Ne7 Nd6+ Kd8 f4 g5 b3 Nd5 Bc4 a6 Qe4 dxc3 Bxd5 Qg6 Nxf7+ Kc7 Nxh8 Qxe4 Bxe4 cxd2 Nf7 d5 exd6+ Kd7 Ne5+ Ke8 Rad1 gxf4 Nc4 Bd4+ Kh1 Ra7 Rxf4 b5 Bc6+ Kd8 Nxd2 Be5 Rf8#',\n",
       "       'e4 e5 f4 f6 fxe5 d6 Nf3 fxe5 Bc4 Nf6 O-O Nxe4 Nxe5 dxe5 Qh5+ Kd7 d3 Nd2 Qxe5 Nxf1 Qe6#',\n",
       "       'e4 c5 Nf3 Nc6 d4 cxd4 Nxd4 Qb6 Nxc6 dxc6 Nc3 g6 Bc4 Bg7 O-O Bd7 Bb3 Rd8 Be3 Qc7 Qe2 Nf6 f3 O-O Rad1 b5 a4 b4 Na2 a5 c3 bxc3 bxc3 Rb8 Rb1 Ne8 Bd4 e5 Bc5 Nf6 Bxf8 Bxf8 Bc4 Nh5 Rxb8 Qxb8 Qd3 Be8 Rb1 Qc7 h3 Nf4 Qd2 h5 Kh2 Bc5 Nc1 Qc8 Ne2 Nxe2 Bxe2 Bd7 Bc4 Be6 Bxe6 Qxe6 Rb8+ Kg7 Qd8 Be3 Qh8#',\n",
       "       'e4 e5 Nf3 Nc6 Nc3 Bc5 Nxe5 Nxe5 d4 Bd6 dxe5 Bxe5 Bc4 Qf6 Nd5 Qd8 Qh5 Bf6 Nxc7+ Qxc7 Qxf7+ Kd8 Qf8#',\n",
       "       'Nf3 e6 g3 Nf6 Bg2 Be7 O-O O-O c4 d5 cxd5 Nxd5 Nc3 Nxc3 bxc3 Nc6 d4 b6 Ne5 Nxe5 Bxa8 Ng6 Bg2 e5 e4 exd4 cxd4 Bb7 Be3 Bf6 Qa4 c6 Qxa7 Qc7 Bf4 Qd7 e5 Ra8 Qxb6 Ra6 Qb2 Be7 Rab1 Bc8 Be3 Nf8 Rfd1 Qf5 Qb3 Ra3 Qb8 Be6 Rb7 Bg5 Bxg5 Qxg5 Bxc6 Qf5 Bg2 Rxa2 Rb2 Ra3 d5 Bd7 e6 fxe6 dxe6 Bxe6 Re2 Rb3 Qd8 Rb1 Rde1 Rxe1+ Rxe1 Kf7 Qc7+ Kf6 h4 h5 Qd8+ Kf7 Be4 Qf6 Qc7+ Qe7 Qf4+ Kg8 Bf5 Kh8 Qf3 Qb4 Qxh5+ Kg8 Bxe6+ Nxe6 Rxe6 Qb1+ Kh2 Qb7 Re8#',\n",
       "       'e4 c5 Nc3 a6 Nf3 d6 g3 e5 Bc4 Be7 d3 Nf6 O-O O-O Re1 Nc6 a3 Bg4 h3 Bxh3 Ng5 Bg4 f3 Bc8 Kg2 Nd4 Rh1 h6 Nh3 Be6 Bxe6 fxe6 f4 Qe8 fxe5 dxe5 Nf2 Qg6 Be3 Nd7 Rh3 Bg5 Bxg5 Qxg5 Ng4 Rf7 Ra2 Raf8 Nh2 Rf2+ Kh1 Nf3 Ra1 Qxg3 Qg1 Qxg1+ Rxg1 Nxg1 Kxg1 Rxc2 Ng4 Rxb2 Nd1 Rb3 a4 c4 Kg2 Rxd3 Ngf2 Rxh3 Nxh3 b5 Ne3 Nc5 axb5 axb5 Nf2 c3 Nc2 Rf4 Kg1 Nxe4 Nd3 Rg4+ Kf1 Nd2+ Kf2 e4 Ndb4 h5 Ne3 Rf4+ Ke2 Rf3 Na2 Nc4 Nc2 h4 Nd4 Re3+ Kf2 Rd3 Nxc3 Rxc3 Nxb5 Rc2+ Kg1 e3 Nd4 Rd2 Nf3 Ra2 Ne1 Kf7 Nf3 h3 Ne1 Ra1 Kh2 Rxe1 Kxh3 Rf1 Kg2 Rf5 Kg1 e2 Kg2 e1=Q Kh2 Qe4 Kh3 Rg5 Kh2 Qh4#',\n",
       "       'd4 Nf6 c4 g6 Nc3 d5 Nf3 Bg7 b3 c5 e3 cxd4 exd4 Nc6 Be2 dxc4 bxc4 Ng4 Be3 Qa5 Qd2 O-O O-O Nxe3 fxe3 b6 Rad1 Bb7 Qb2 Rac8 Nd5 e6 Nf4 Rfd8 Nd3 Bh6 Kf2 Qf5 a4 Na5 Ne5 f6 g4 Qe4 g5 Bxg5 Nxg5 Qh4+ Kg1 Qxg5+ Ng4 f5 d5 fxg4 Rf4 exd5 cxd5 Bxd5 Rxd5 Rxd5 Qa2 Rc3 Kf2 Nb3 Bc4 Qh4+ Ke2 Qxh2+ Rf2 Rxe3+ Kxe3 Qe5#',\n",
       "       'b4 e5 Bb2 d6 e3 Be6 Nf3 Nf6 Nc3 Be7 Be2 h6 O-O Nbd7 d4 e4 d5 exf3 dxe6 fxe2 exd7+ Qxd7 Nxe2 O-O Qd3 Qg4 Nd4 Qh5 Nf5 Rae8 Nxe7+ Rxe7 Bxf6 gxf6 Qd4 Qg6 Qxa7 Kh8 Qxb7 Rg8 c3 Re5 g3 Rh5 Qxc7 Qe4 Qxf7 Qg4 Qxf6+ Kh7 Qxd6 Qh3 Qe7+ Rg7 Qe4+ Kh8 Qa8+ Kh7 Qg2 Qe6 a4 Rc7 Rfd1 Rxc3 Qb7+ Kg6 Rd7 Rc2 Rad1 Qh3 R7d6+ Kf5 Qf3+ Kg5 Qf4#',\n",
       "       'd4 e6 c4 d5 Nf3 Nf6 g3 Nbd7 Bg2 Nb6 c5 Nc4 b3 Na5 b4 Nc4 Nbd2 Nxd2 Bxd2 Be7 Qc2 Bd7 Ne5 Bb5 a4 Bc4 Nxc4 dxc4 Bxb7 O-O Bxa8 Qxa8 f3 Qd5 Bf4 c6 e4 Qh5 O-O Qh3 b5 Rc8 b6 axb6 cxb6 Nh5 b7 Rd8 Bc7 Rf8 Rfb1 h6 b8=Q Rxb8 Rxb8+ Kh7 Qxc4 e5 Qxf7 Qd7 Bxe5 c5 g4 cxd4 gxh5 d3 Qxg7#',\n",
       "       'e4 c5 d4 cxd4 Nf3 Nc6 Nxd4 d6 c4 Nf6 Nc3 g6 Nc2 Bg7 Be2 a6 O-O O-O Be3 Qc7 Nd5 Nxd5 cxd5 Nb8 Nd4 Bd7 Rc1 Qd8 f4 e5 dxe6 fxe6 Qb3 Re8 Qxb7 Bxd4 Bxd4 Nc6 Rxc6 Bxc6 Qg7#',\n",
       "       'd4 g6 c4 Bg7 Nc3 c6 e4 e6 Nf3 h6 Bf4 Nf6 Bd6 a6 Bd3 b5 O-O Bb7 Qb3 Nh5 a4 Nf4 Bxf4 d5 cxd5 cxd5 exd5 O-O dxe6 fxe6 Qxe6+ Kh8 Qxg6 Rxf4 Qh7#',\n",
       "       'e4 c5 b4 cxb4 a3 bxa3 Nxa3 Nc6 d4 d5 exd5 Qxd5 Nf3 Bg4 Be2 Nf6 c4 Qh5 d5 Ne5 Nb5 Rc8 Nxa7 Nxf3+ gxf3 Bf5 Nxc8 Bxc8 Ra8 Kd8 Be3 g6 Bb6+ Kd7 Qa4+ Kd6 Rxc8 Qe5 Qb4+ Kd7 Rd8#',\n",
       "       'e4 e6 Qe2 c5 Nf3 Nc6 g3 d5 exd5 Qxd5 Nc3 Qd8 Bg2 Nf6 O-O Be7 d4 cxd4 Nb5 a6 Na3 O-O Rd1 Bc5 c3 Qe7 cxd4 Bxa3 bxa3 Rd8 Rb1 Nd5 Qc2 Qd6 Ng5 Nf6 d5 exd5 Rxd5 Nxd5 Qxh7+ Kf8 Qh8+ Ke7 Qxg7 Qg6 Qb2 Nc3 Ra1 Rd1+ Bf1 Qd3 Kg2 Qxf1+ Kf3 Qh1+ Ke3 Qe1+ Kf3 Nd4+ Kf4 Nd5#',\n",
       "       'e4 Nf6 Nc3 e5 Nf3 Nc6 d4 exd4 Nxd4 Bb4 Nxc6 bxc6 Bd3 d5 exd5 cxd5 O-O O-O Nb5 c5 c3 Ba5 Bg5 h6 Bh4 Qb6 b4 cxb4 cxb4 Bxb4 Rb1 a5 Bxf6 Qxf6 Nc7 Bb7 a3 Rac8 axb4 Rxc7 bxa5 Ra8 Ra1 Rc5 Qe2 d4 Ra3 Re5 Qb2 Bxg2 Kxg2 Rg5+ Kh1 Qf3#',\n",
       "       'e4 c5 Nf3 d6 d4 cxd4 Nxd4 Nf6 Nc3 g6 Bb5+ Nbd7 O-O Bg7 Re1 O-O Nd5 a6 Bc4 e5 Nf3 Nb6 Nxb6 Qxb6 Bb3 Be6 h3 Bxb3 axb3 Qc6 Qd3 d5 Nxe5 dxe4 Nxc6 exd3 Ne7+ Kh8 cxd3 Rad8 Bd2 Rfe8 Bc3 Rxd3 Bxf6 Bxf6 Nxg6+ hxg6 Rxe8+ Kg7 Rb8 Rxb3 Rxa6 Rxb2 Ra5 Bd4 Rd5 Bxf2+ Kh2 b6 Rb7 Bc5 Rxc5 Rf2 Rxb6 Kh6 Kg3 Rf1 Rcc6 Kg7 Kg4 Rf2 g3 Rf1 h4 Rf5 Rc4 Rf1 Rf4 f5+ Kg5 Rg1 Rb7+ Kf8 Rf3 Ke8 Kxg6 f4 Rxf4 Rxg3+ Kf6 Kd8 h5 Kc8 Ra7 Kb8 Rh7 Rg8 h6 Rf8+ Kg5 Rg8+ Kh5 Rd8 Rff7 Rd5+ Kg6 Rd6+ Kg7 Rd1 Rh8+ Rd8 Rxd8#',\n",
       "       'd4 d5 Nf3 Nf6 c4 Nc6 e3 Bg4 Qb3 Bxf3 gxf3 Na5 Qa4+ c6 cxd5 Nxd5 b4 b5 Qxa5 Qxa5 bxa5 e6 Bd2 Nb4 Kd1 Be7 a3 Nd5 e4 Nc7 Ke1 O-O Be2 Rfd8 Be3 Bf6 Nc3 Bxd4 Bxd4 Rxd4 Rad1 Rad8 f4 Rd4xd1+ Nxd1 Rd4 Nc3 Na6 h4 Nc5 Rh3 Nxe4 Nxe4 Rxe4 Rc3 Ra4 Rxc6 g6 Ra6 Rxa3 Bxb5 Rb3 Bc4 Rb7 Rc6 Kg7 a6 Rb1+ Kd2 Rb2+ Ke3 Rc2 Rc7 Kf6 Kd4 Rxf2 Rxa7 Rxf4+ Kc5 Rxh4 Rb7 Rh1 Rb2 Ra1 Ra2 Rd1 a7 Rd8 a8=Q Rxa8 Rxa8 h5 Kd4 Kf5 Ke3 f6 Bd3+ Kg5 Rg8 f5 Re8 Kg4 Rxe6 f4+ Kf2 g5 Re5 Kh4 Kf3 g4+ Kxf4 g3 Be4 g2 Rg5 Kh3 Rxh5#',\n",
       "       'e4 Nf6 e5 Nd5 d4 d6 c4 Nb6 f4 e6 Nc3 Bd7 Nf3 Na6 Be3 Be7 Be2 dxe5 fxe5 c5 d5 Bf8 O-O h6 a3 g5 Ne4 Qb8 Nf6+ Kd8 d6 Qc8 Nd2 Bg7 Bd3 Be8 Qh5 Nd7 Nxe8 Bxe5 Qxf7 Rhxe8 Bg6 Nc7 Ne4 Bxb2 Nxc5 Bxa1 Qxe8+ Nxe8 Nxe6#',\n",
       "       'd4 e6 c3 d5 Nf3 Nf6 g3 Bd6 Bg2 c6 Qb3 Nbd7 Bg5 O-O Nbd2 h6 Bh4 g5 Nxg5 hxg5 Bxg5 Kg7 h4 Rh8 e4 Be7 e5 Ng4 Bxe7 Qxe7 Bf3 Nh6 g4 f6 exf6+ Nxf6 g5 Ne4 gxh6+ Rxh6 Nxe4 dxe4 Bxe4 Rxh4 O-O Rxe4 Rfe1 Qg5+ Kf1 Qg4 Rxe4 Qxe4 Qd1 Bd7 Qh5 Rf8 Qg5+ Qg6 Qe5+ Rf6 Rd1 Qg4 Ke1 Kf7 Qd6 Qg1+ Kd2 Qxf2+ Kc1 Qf4+ Qxf4 Rxf4 Kc2 b5 Rh1 Kg6 Rh2 b4 Kb3 bxc3 bxc3 c5 dxc5 Ba4+ Ka3 Bb5 Kb3 a5 Rg2+ Kf5 Rh2 e5 Rh5+ Ke4 c4 a4+ Kb4 Bd7 Rh6 Kd3 Rd6+ Rd4 a3 e4 Ka5 Rxd6 cxd6 e3 c5 e2 Kb6 e1=Q c6 Qb1+ Kc7 Bxc6 Kxc6 Qc2+ Kd7 Qc5 Ke6 Qxa3 d7 Qf8 Kd5 a3 Kc6 a2 Kc7 a1=Q d8=Q+ Qxd8+ Kxd8 Qg7 Ke8 Kd4 Kd8 Kd5 Ke8 Kd6 Kd8 Qd7#',\n",
       "       'e4 e6 d4 d5 Nc3 c6 Bd3 a6 Nf3 Ne7 O-O Ng6 Re1 Be7 Ne2 Nh4 Nxh4 Bxh4 c3 dxe4 Bxe4 Nd7 Bf4 Be7 Bc2 Nf6 Bg3 h6 Nf4 O-O Qe2 Nd5 Nxd5 cxd5 Qd3 f5 Rad1 Qe8 Be5 Qh5 Re3 Bf6 Rde1 Bxe5 Rxe5 Rf6 R5e3 Bd7 Rh3 Qf7 f4 Rg6 Rg3 Rxg3 Qxg3 Rc8 Qe3 b5 a3 a5 Bd3 b4 axb4 axb4 cxb4 Qe7 Bxf5 Qxb4 Bxe6+ Kh8 Bxd7 Rf8 b3 Rxf4 Qe8+ Kh7 Qe5 Qd2 Bf5+ Rxf5 Qxf5+ g6 Qf7+ Kh8 Re8#',\n",
       "       'e4 Nf6 Nc3 e5 Nf3 Nc6 d4 exd4 Nxd4 Bb4 Nxc6 bxc6 Bd3 d5 exd5 cxd5 O-O O-O Nb5 c5 c3 Ba5 Bg5 h6 Bh4 Qb6 b4 cxb4 cxb4 Bxb4 Rb1 a5 Bxf6 Qxf6 Nc7 Bb7 a3 Rac8 axb4 Rxc7 bxa5 Ra8 Ra1 Rc5 Qe2 d4 Ra3 Re5 Qb2 Bxg2 Kxg2 Rg5+ Kh1 Qf3#',\n",
       "       'e4 c5 Nf3 d6 d4 cxd4 Nxd4 Nf6 Nc3 g6 Bb5+ Nbd7 O-O Bg7 Re1 O-O Nd5 a6 Bc4 e5 Nf3 Nb6 Nxb6 Qxb6 Bb3 Be6 h3 Bxb3 axb3 Qc6 Qd3 d5 Nxe5 dxe4 Nxc6 exd3 Ne7+ Kh8 cxd3 Rad8 Bd2 Rfe8 Bc3 Rxd3 Bxf6 Bxf6 Nxg6+ hxg6 Rxe8+ Kg7 Rb8 Rxb3 Rxa6 Rxb2 Ra5 Bd4 Rd5 Bxf2+ Kh2 b6 Rb7 Bc5 Rxc5 Rf2 Rxb6 Kh6 Kg3 Rf1 Rcc6 Kg7 Kg4 Rf2 g3 Rf1 h4 Rf5 Rc4 Rf1 Rf4 f5+ Kg5 Rg1 Rb7+ Kf8 Rf3 Ke8 Kxg6 f4 Rxf4 Rxg3+ Kf6 Kd8 h5 Kc8 Ra7 Kb8 Rh7 Rg8 h6 Rf8+ Kg5 Rg8+ Kh5 Rd8 Rff7 Rd5+ Kg6 Rd6+ Kg7 Rd1 Rh8+ Rd8 Rxd8#',\n",
       "       'd4 d5 Nf3 Nf6 c4 Nc6 e3 Bg4 Qb3 Bxf3 gxf3 Na5 Qa4+ c6 cxd5 Nxd5 b4 b5 Qxa5 Qxa5 bxa5 e6 Bd2 Nb4 Kd1 Be7 a3 Nd5 e4 Nc7 Ke1 O-O Be2 Rfd8 Be3 Bf6 Nc3 Bxd4 Bxd4 Rxd4 Rad1 Rad8 f4 Rd4xd1+ Nxd1 Rd4 Nc3 Na6 h4 Nc5 Rh3 Nxe4 Nxe4 Rxe4 Rc3 Ra4 Rxc6 g6 Ra6 Rxa3 Bxb5 Rb3 Bc4 Rb7 Rc6 Kg7 a6 Rb1+ Kd2 Rb2+ Ke3 Rc2 Rc7 Kf6 Kd4 Rxf2 Rxa7 Rxf4+ Kc5 Rxh4 Rb7 Rh1 Rb2 Ra1 Ra2 Rd1 a7 Rd8 a8=Q Rxa8 Rxa8 h5 Kd4 Kf5 Ke3 f6 Bd3+ Kg5 Rg8 f5 Re8 Kg4 Rxe6 f4+ Kf2 g5 Re5 Kh4 Kf3 g4+ Kxf4 g3 Be4 g2 Rg5 Kh3 Rxh5#',\n",
       "       'e4 c5 Nc3 Nc6 g3 g6 Bg2 Bg7 d3 e6 Be3 a6 Bxc5 d6 Be3 Nge7 Qd2 d5 Bh6 Bf6 Nge2 dxe4 Nxe4 Bxb2 Rb1 Be5 f4 Bc7 Nf6#',\n",
       "       'e4 e5 Nf3 Nc6 c3 Nf6 d4 exd4 e5 Nd5 cxd4 d6 Bc4 dxe5 dxe5 Bb4+ Bd2 Be6 O-O h6 Bb5 a6 Bxc6+ bxc6 Qc2 Qd7 Nd4 Bxd2 Nxd2 c5 Nxe6 fxe6 Qxc5 Rd8 Nf3 Ne7 Qc2 O-O Rfd1 Nd5 h3 Rf7 Rac1 Rdf8 Qc6 Qxc6 Rxc6 Nf4 Nd4 Rd8 Rcc1 Rfd7 Rc4 Ne2+ Nxe2 Rxd1+ Kh2 R1d2 Nf4 Rxf2 Kg3 Rdd2 Rxc7 Rxb2 a4 Rfd2 Nxe6 Rxg2+ Kh4 Rb4+ Kh5 g6+ Kxh6 Rh4#',\n",
       "       'e4 e6 d4 d5 Nc3 c5 exd5 exd5 dxc5 Be6 Be3 Nf6 Bb5+ Nc6 Nge2 Be7 Nd4 Rc8 Qd3 O-O Bxc6 bxc6 b4 Qd7 Bf4 h6 O-O Ne4 Nxe4 dxe4 Qxe4 Bd5 Qf5 Qb7 a3 Bf6 Be5 Bxe5 Qxe5 Rce8 Qd6 Rd8 Qg3 Qe7 Rfe1 Qf6 c3 Rfe8 Rad1 Re4 Rxe4 Bxe4 Qc7 Re8 Re1 Qg5 f3 Qd2 Rxe4 Rxe4 Qc8+ Kh7 Qf5+ Kg8 Qxe4 Qxc3 Nxc6 Qxa3 Qe7 Qc3 Qxa7 Qe1#',\n",
       "       'e4 c5 Nf3 d6 d4 cxd4 Nxd4 a6 Nc3 g6 Bc4 Bg7 O-O Nf6 Be3 O-O f3 b5 Bb3 Bb7 Qd2 Nbd7 Nde2 Rc8 Rfd1 Nb6 e5 Ne8 Bf4 Nc4 Bxc4 Rxc4 exd6 Nxd6 Bg3 Qb6+ Bf2 Qc7 a3 a5 Be3 b4 axb4 axb4 Nd5 Bxd5 Qxd5 Bxb2 Ra7 Qc6 Qxc6 Rxc6 Nd4 Bxd4 Bxd4 Nb5 Rb7 Nxd4 Rxd4 Rxc2 Rdxb4 e6 Rb2 Rfc8 Rxc2 Rxc2 h4 h5 f4 Kg7 Kh2 Kf6 Kg3 Rc3+ Kf2 Rc5 Kf3 e5 fxe5+ Rxe5 Rc7 g5 hxg5+ Rxg5 Rc6+ Kg7 Rc7 Ra5 Kf4 Kg6 Rc6+ f6 Rc2 Ra4+ Kf3 Kg5 Rc5+ f5 Rc3 Rf4+ Kg3 h4+ Kh3 Rg4 g3 Ra4 gxh4+ Rxh4+ Kg3 f4+ Kg2 Kg4 Rf3 Rh2+ Kxh2 Kxf3 Kg1 Ke2 Kg2 f3+ Kg1 f2+ Kh2 f1=Q Kg3 Qf3+ Kh2 Qg4 Kh1 Kf2 Kh2 Qh4#',\n",
       "       'd4 Nf6 c4 e6 Nf3 b6 g3 Bb7 Bg2 h6 Nc3 Bb4 O-O Bxc3 bxc3 O-O Bf4 d6 Qb3 c5 Rad1 Nh5 Bc1 Qc7 Ba3 Nd7 Nh4 g5 Nf3 f5 Qb5 Bc6 Qb1 Qb7 dxc5 dxc5 Rd6 Rae8 Rfd1 Nhf6 Qb3 Ne4 R6d3 g4 Nd2 Ne5 Nxe4 Bxe4 Bxe4 fxe4 Re3 Rd8 Rxd8 Rxd8 Bc1 Kf7 Kg2 Kf6 Qa4 Kf5 Qb3 Qa6 Qc2 Qxc4 f3 gxf3+ exf3 Rd3 Rxe4 Qxc3 Qxc3 Rxc3 Bxh6 Rc2+ Kh3 Rxa2 g4+ Kg6 Rxe5 Kxh6 Rxe6+ Kg5 Kg3 Rxh2 f4#',\n",
       "       'e4 c6 Nc3 d5 d4 dxe4 Nxe4 Bf5 Ng3 Bg6 Nf3 Nd7 h4 h6 h5 Bh7 Bd3 Bxd3 Qxd3 Qc7 Be3 Ngf6 O-O-O e6 Ne4 Nxe4 Qxe4 Bd6 Qg4 Kf8 Kb1 a5 Nd2 a4 Ne4 a3 Nxd6 Qxd6 b3 b5 Qg3 Qxg3 fxg3 Nf6 Rh4 Ke7 Rf1 Rhd8 Rf3 Rd5 g4 b4 g3 Rad8 Rf4 e5 Rf1 exd4 Bf4 c5 Kc1 R8d7 Bd2 R7d6 Kb1 Ne4 Bf4 Re6 Ka1 Nf6 Rg1 Re2 Rc1 Kf8 Bc7 Ne4 Bf4 Nc3 Rhh1 d3 g5 hxg5 h6 gxh6 Be3 d2 Rcd1 Rxe3 Rdg1 Rde5 Rb1 Re1 g4 Nxb1 Rxe1 dxe1=Q c4 Nd2#',\n",
       "       'e4 e5 Nf3 Nc6 Nc3 Nf6 Bb5 d6 d4 exd4 Nxd4 Bd7 Bg5 Be7 Qd2 Nxd4 Qxd4 Bxb5 Nxb5 O-O Be3 b6 O-O-O Qd7 Qc4 Nxe4 Qxe4 Qxb5 Qxe7 Rac8 Qe4 Rfe8 Qd5 Qe2 Rd2 Qa6 Kb1 Re5 Qc6 Ra5 a3 Re8 Qxe8#',\n",
       "       'd4 Nf6 c4 g6 Nc3 Bg7 e3 O-O Nf3 d6 Bd3 Nbd7 O-O e5 Ne4 exd4 exd4 Nxe4 Bxe4 Nf6 Bc2 Re8 Bg5 h6 Bh4 g5 Bg3 Ne4 Qd3 Bf5 Qb3 Nxg3 fxg3 Bxc2 Qxc2 c5 d5 Qf6 Rab1 Re7 b3 Rae8 Kh1 Re2 Qd1 Rxa2 Nh4 Qc3 Nf5 Ree2 Rg1 Be5 Nxh6+ Kh7 Nf5 Rad2 Qf1 Rf2 Qe1 Rxf5 g4 Rff2 Qe4+ Kg7 Rbf1 Qh3 Qxe5+ dxe5 Rxf2 Qe3 Rff1 Qxb3 Rb1 Qxc4 Rxb7 Qxd5 Rxa7 c4 Raa1 c3 Rac1 c2 h3 Qd4 Rgf1 Qd3 Rg1 Qe3 Rgf1 Qe2 Rg1 Rd1 Rxc2 Rxg1+ Kxg1 Qxc2 Kh2 e4 Kg1 e3 Kf1 e2+ Kf2 Qd2 h4 e1=Q+ Kf3 Qde3#',\n",
       "       'e4 c5 Nf3 Nc6 d3 Nf6 Nbd2 g6 g3 Bg7 Bg2 O-O O-O d5 e5 Ng4 Re1 Ngxe5 Nxe5 Nxe5 Nf3 Bg4 h3 Nxf3+ Bxf3 Bxh3 g4 f5 Kh2 fxg4 Bxg4 Bxg4 Qxg4 Rxf2+ Kg1 Rf8 Bg5 Bf6 Bh6 Bg7 Qe6+ Kh8 Bg5 Qb6 Qxe7 c4+ Be3 Bd4 Kg2 Rae8 Qxe8 Rxe8 Bxd4+ Qxd4 Rxe8+ Kg7 Rae1 cxd3 cxd3 Qxb2+ R1e2 Qc3 R8e7+ Kh6 Rxb7 Qxd3 Ree7 g5 Rxa7 d4 Red7 Qe4+ Kg3 d3 Ra6+ Kh5 Rad6 h6 Rxd3 Qe1+ Kh3 Qf2 a3 g4#',\n",
       "       'e4 e5 Nf3 Nc6 Bc4 h6 c3 Bc5 d4 exd4 cxd4 Bb4+ Nc3 Bxc3+ bxc3 d6 Qb3 Qe7 O-O Nf6 e5 dxe5 dxe5 Nd7 Ba3 Qd8 Bxf7#',\n",
       "       'e4 b6 d4 Bb7 Nc3 e6 a3 d6 Nf3 Nf6 Bd3 d5 e5 Nh5 O-O Nf4 Bxf4 g6 Qd2 Qe7 Bh6 Bxh6 Qxh6 Nc6 b4 a5 bxa5 bxa5 a4 Nb4 Nb5 Ba6 Rfd1 Bxb5 axb5 Nxd3 Rxd3 Qb4 Rb3 Qc4 Qd2 a4 Rb4 Qxb4 Qxb4 h5 Ng5 h4 b6 Rb8 Qb5+ Kf8 Qc5+ Kg7 Qxc7 Rbc8 Qxf7+ Kh6 Nxe6 Rxc2 Qf4+ Kh7 Qxh4+ Kg8 Qd8+ Kh7 Qe7+ Kh6 Qg7+ Kh5 Qxh8+ Kg4 Qh3#',\n",
       "       'e4 c6 d4 d5 exd5 cxd5 Bd3 Nf6 Bf4 Nc6 Nf3 e6 O-O Be7 c3 Nh5 Be5 Nxe5 Nxe5 Nf4 Qf3 f6 Qxf4 fxe5 Qxe5 Bd6 Qh5+ Kf8 Nd2 Qf6 f4 g6 Qh6+ Qg7 Qh4 Be7 Qg3 Bd7 Nf3 Qh6 Ne5 Be8 Rf2 Bh4 Qg4 Bxf2+ Kxf2 Bf7 Kg1 Kg7 Rf1 Rhf8 Nd7 Rfd8 Ne5 Rf8 Kh1 Qh5 Qg3 Kh8 Qe3 Rae8 Rf3 a6 Be2 Qf5 Bd3 Qh5 Qd2 Qh4 Rh3 Qxf4 Qxf4 Bg8 Qh6 Rf1+ Bxf1 Rf8 Nxg6#',\n",
       "       'e4 e5 Nf3 d6 Bc4 Be7 c3 Nf6 d3 O-O Nbd2 Nc6 Bb3 a5 Nf1 Be6 Bc2 d5 Qe2 d4 Ng3 Bg4 h3 Bxf3 Qxf3 b5 Nf5 b4 Qg3 g6 c4 Kh8 Nxe7 Qxe7 Bg5 Kg7 Qf3 Qe6 h4 Nh5 g4 Nf6 h5 Nxg4 h6+ Kg8 Rg1 f6 Bd2 f5 c5 Qf6 Bb3+ Kh8 Bd5 Ra6 O-O-O Ne7 Bc4 Rc6 exf5 gxf5 Kb1 Rxc5 Rg2 Ng6 Rdg1 Rxc4 dxc4 e4 Qg3 Rf7 Rh1 Re7 Rh5 e3 fxe3 dxe3 Bc1 N6e5 Bxe3 Nxe3 Qg8#',\n",
       "       'e4 c5 Nf3 d6 d4 cxd4 Nxd4 Nf6 Nc3 g6 Be3 Bg7 f3 O-O Qd2 Nc6 Bc4 Bd7 O-O-O Rc8 Bb3 Nxd4 Bxd4 b5 Kb1 b4 Bxf6 Bxf6 Nd5 e6 Nxf6+ Qxf6 Qxd6 Rfd8 Qxb4 Rb8 Qd4 e5 Qxa7 Qe7 Ba4 Bxa4 Qxe7 Re8 Qa3 Ra8 Qe3 Rec8 b3 Bb5 c4 Be8 Rd5 f6 h4 Kg7 h5 g5 g3 h6 f4 g4 fxe5 fxe5 Rxe5 Bf7 Qd4 Rd8 Rd5+ Kh7 Rxd8 Rxd8 Qxd8 Be6 Qe7+ Kh8 Qxe6 Kg7 Rd1 Kf8 Rf1+ Kg7 Rf7+ Kg8 Qe8#',\n",
       "       'd4 d5 f4 Nf6 Nf3 g6 e3 Bg7 Be2 O-O O-O Ne4 Nc3 c6 Nxe4 dxe4 Ng5 f5 Bc4+ Kh8 c3 Na6 Nf7+ Rxf7 Bxf7 e6 g4 Qf8 Bxg6 hxg6 gxf5 exf5 Bd2 Be6 Kf2 Nc7 h4 Qf6 Rh1 Bf7 c4 Bxc4 h5 Kg8 hxg6 Qxg6 Qc2 Bd3 Qc5 Ne6 Qa3 Qg4 Rh2 Qf3+ Kg1 Kf7 Qb3 Bf6 Qxb7+ Nc7 Qxc7+ Be7 Rh7+ Kg6 Qxe7 Qg3+ Kh1 Qf3+ Kh2 Qf2+ Kh3 Qf3+ Kh2 Qf2+ Kh3 Qf3+ Kh2 Qf2+ Kh1 Qf3+ Kh2 Qf2+ Kh3 Bf1+ Rxf1 Qxf1+ Kh2 Qf2+ Kh3 Qf3+ Kh2 Qf2+ Kh3 Qf1+ Kh2 Qf2+ Kh3 Qf3+ Kh2 Qe2+ Kg1 Qd1+ Be1 Qxe1+ Kg2 Qe2+ Kh1 Qf3+ Kh2 Qf2+ Kh1 Qe1+ Kh2 Qe2+ Kh1 Qf3+ Kh2 Qf2+ Kh1 Qe1+ Kh2 Qd2+ Kh1 Qd1+ Kh2 Qc2+ Kh3 Qc4 Qg7#',\n",
       "       'd4 d5 c4 dxc4 Nc3 c6 Nf3 b5 a4 b4 Na2 b3 Nc3 Ba6 e4 e6 Ne5 Nd7 Nxc4 Bxc4 Bxc4 e5 Qxb3 Qf6 dxe5 Nxe5 Ba6 Ng4 O-O Bc5 Qb7 Bxf2+ Kh1 Qd8 Qxc6+ Kf8 Be2 Rc8 Qd5 Ne3 Bxe3 Bxe3 Qxf7#',\n",
       "       'd4 Nf6 c4 g6 Nc3 Bg7 e4 d6 Be2 O-O Nf3 e5 O-O Nc6 d5 Ne7 h3 Ne8 Be3 f5 Bd3 Bd7 Qb3 Qc8 c5 f4 Bd2 Bxh3 gxh3 Qxh3 cxd6 Nf5 Be2 Qg4+ Kh1 Ng3+ fxg3 Qh3+ Kg1 fxg3 Be3 Bh6 Bc5 cxd6 Na4 Rxf3 Rxf3 Qh2+ Kf1 g2+ Ke1 dxc5 d6+ Kh8 Rf8+ Bxf8 Kd2 Nxd6 Kc2 c4 Qe3 Nb5 Rd1 Nd4+ Kb1 Nxe2 Nc3 g1=Q Rxg1 Nxc3+ bxc3 Ba3 Qc1 Bxc1 Rxc1 Rf8 Rc2 Qg1+ Kb2 Rf1 Ka3 Rb1 Rd2 Qc1+ Ka4 Qxd2 a3 Qd7+ Ka5 Qb5#',\n",
       "       'd4 Nf6 c4 e6 Nc3 d5 Bg5 c6 e3 h6 Bf4 Bd6 Bg3 Bb4 Qb3 Bxc3+ bxc3 Ne4 Bd3 Nxg3 hxg3 O-O Nf3 a6 c5 Nd7 Ke2 b6 cxb6 Qxb6 Qc2 Nf6 Ne5 g5 Rxh6 Kg7 Rah1 Rg8 Kd2 c5 Be2 cxd4 exd4 Ne4+ Ke1 Rb8 f3 Qb1+ Qxb1 Rxb1+ Bd1 Nxc3 Kd2 Nxa2 Rh7+ Kf8 Rxf7+ Ke8 Ba4+ Kd8 Rxb1 Rh8 Rg7 Rh2 Nf7+ Kc7 Ne5+ Kd6 Rb6#',\n",
       "       'd4 d5 c4 Nc6 Nc3 Nf6 g3 e6 e3 Bb4 Bd2 O-O Nf3 dxc4 Bxc4 a6 O-O b5 a3 Ba5 Bd3 Bb7 b4 Bb6 Ne2 Qd7 Nf4 Nd5 Bxh7+ Kh8 Ng5 Nxf4 gxf4 Qd5 Qh5 Ne5 Be4+ Kg8 Qh7#',\n",
       "       'e4 e6 d4 d5 Nd2 Nf6 e5 Nfd7 Bd3 c5 c3 Nc6 Ne2 cxd4 cxd4 f6 Nf4 Nxd4 Qh5+ Ke7 Ng6+ hxg6 exf6+ Nxf6 Qxh8 Nf5 Nf3 Bd7 O-O Qc7 Bg5 Re8 Qh3 Kd8 Rac1 Qb6 Ne5 Ne7 Nf7#',\n",
       "       'e4 e5 Nf3 Nc6 Bb5 d6 d4 Bd7 Nc3 Nf6 d5 Na5 Be2 b6 b4 Nb7 Ba6 Bc8 O-O Be7 Qe2 O-O Bb2 Qe8 Bb5 Bd7 a4 Nd8 Bxd7 Nxd7 Nb5 c6 Nc7 f5 Nxe8 fxe4 Qxe4 Rxe8 Nd2 Nf7 f3 Rf8 Qd3 Ng5 Ne4 Nf7 dxc6 Nb8 b5 Bd8 Ba3 Bc7 Rad1 a6 Qb3 axb5 axb5 Ra5 Nc3 Kh8 Bb2 Nd8 Nd5 Ne6 Nxc7 Nxc7 Bc3 Nxb5 Bxa5 Nd4 Rxd4 Nxc6 Rxd6 Nxa5 Qxb6 Nc4 Qc5 Nxd6 Qxd6 e4 fxe4 Kg8 Rxf8#',\n",
       "       'd4 d5 Nf3 Bf5 e3 a6 c4 e6 Nc3 Bb4 Qa4+ Nc6 c5 Bxc3+ bxc3 Ne7 Nh4 O-O f3 e5 Nxf5 Nxf5 g3 exd4 exd4 Qf6 Kf2 Rfe8 Bd3 Nfxd4 cxd4 Nxd4 f4 Nf5 Bd2 b5 cxb6 Qxb6+ Kg2 d4 Rab1 Qe6 Qc2 Qd5+ Kh3 Ne3 Bxh7+ Kh8 Bxe3 Qh5+ Kg2 Rxe3 Be4 Re2+ Kf1 Rxc2 Bxa8 Qe2+ Kg1 Qf2#',\n",
       "       'd4 d5 c4 e6 Nf3 Nd7 g3 Bd6 Bg2 h6 O-O Ngf6 Qc2 c6 Nbd2 b6 e4 dxe4 Nxe4 Nxe4 Qxe4 Bb7 Ne5 Bxe5 dxe5 Nc5 Qe2 Qd3 Qxd3 Nxd3 f4 Nxc1 Raxc1 Rd8 Rfd1 Ke7 Kf2 Rd7 Rxd7+ Kxd7 c5 Kc7 b4 b5 Rd1 a5 Rd4 axb4 Rxb4 Ra8 Rb2 Ra4 Bf1 Ra3 Rc2 b4 Bc4 Ba6 Bb3 Bb5 Ke3 Ra8 Rd2 Rd8 Rd6 g6 Ke4 h5 Kf3 Rh8 Kg2 Rd8 Kh3 Bf1+ Kh4 Rb8 Kg5 Rb5 Rd1 Be2 Rc1 Rb8 Kf6 h4 Kxf7 Bd3 Bxe6 hxg3 hxg3 Bf5 Bxf5 gxf5 e6 b3 axb3 Rxb3 e7 Rxg3 e8=Q Kb7 Rb1+ Ka6 Qa8#',\n",
       "       'e4 e5 Nf3 Nc6 Bb5 a6 Bxc6 dxc6 O-O f6 d4 Be6 dxe5 fxe5 Nxe5 Qf6 Nf3 Bd6 e5 Bxe5 Nxe5 Qxe5 Re1 Qf6 Qe2 Kf7 Bg5 Qf5 Qe4 Re8 Qxf5+ Bxf5 Rxe8 Kxe8 Na3 b5 c3 h6 Re1+ Kf8 Bf4 c5 Bxc7 b4 cxb4 cxb4 Bd6+ Kf7 Bxb4 Nf6 Re7+ Kg6 Nc4 Rd8 Ne5+ Kh5 h3 Nd5 g4+ Bxg4 hxg4+ Kh4 Rb7 Kh3 f3 Kg3 Be1+ Kf4 Ng6+ Kxf3 Rxg7 Ne3 Nh4+ Kf4 Ng2+ Nxg2 Kxg2 Rd1 Bg3+ Ke4 Re7+ Kd3 Rd7+ Kc2 Rxd1 Kxd1 b4 Kc2 a4 Kc3 b5 axb5 axb5 Kc4 b6 Kc5 b7 Kc6 b8=Q Kd7 Qb7+ Ke6 Qe4+ Kf6 Bh4+ Kf7 Qe5 Kg6 Qf6+ Kh7 Qf7+ Kh8 Bf6#',\n",
       "       'd4 g6 c4 e6 Nc3 Ne7 d5 Bg7 e4 O-O Bd3 f5 Nf3 fxe4 Bxe4 Nf5 O-O exd5 cxd5 d6 Bg5 Qd7 Qd2 c6 dxc6 Nxc6 Bxf5 Qxf5 Bh6 Bxh6 Qxh6 Ne5 Nxe5 dxe5 Rfe1 b6 Qe3 Re8 Nd5 Bb7 Nc7 Qg4 f3 Qh4 Nxa8 Bxa8 Qf2 Qb4 Rad1 Bc6 a3 Qc5 Qxc5 bxc5 Rc1 e4 fxe4 Rxe4 Rxe4 Bxe4 Rxc5 Kf7 Rc7+ Ke6 Rxa7 Kd5 Kf2 Kc4 Rxh7 Kb3 Re7 Bb1 Rb7+ Ka4 Ke3 Ka5 Kd4 Ka6 Rb4 Bf5 a4 Bd7 b3 Ka5 Rc4 Be6 Rc5+ Kb6 b4 Bd7 a5+ Ka6 Rc7 Bb5 Kc5 Bf1 g3 Bg2 Rg7 Be4 h4 Bf5 b5+ Kxa5 Ra7#',\n",
       "       'Nf3 e6 g3 d5 Bg2 c5 O-O Nc6 c3 Qb6 d4 Nf6 dxc5 Bxc5 e3 O-O Nd4 Ne4 Nxc6 bxc6 Nd2 Nxd2 Qxd2 e5 e4 dxe4 Bxe4 Bg4 Qg5 Bh3 Qh4 Bxf1 Qxh7#',\n",
       "       'd4 e6 Bf4 h6 e4 d6 Nf3 a6 c4 b6 Nc3 Nd7 Be2 Bb7 Qd2 Ngf6 d5 exd5 exd5 Qe7 O-O Nh5 Be3 Qf6 Nd4 g6 Rfe1 O-O-O b4 Ne5 a4 Ng7 a5 Nf5 Nxf5 gxf5 axb6 cxb6 Bxb6 Rd7 b5 axb5 Nxb5 Ng4 Bxg4 fxg4 Bd4 Qf5 Bxh8 f6 Re8+ Rd8 Nxd6+ Kd7 Rxd8+ Kxd8 Nxf5 Bc5 Bxf6+ Kd7 Qe2 Kc7 Qe6 g3 Be5+ Kd8 Qg8+ Kd7 Qg7+ Kd8 Qc7+ Ke8 Qxb7 Kf8 Ra8#',\n",
       "       'd4 d5 Bf4 f6 e3 e5 dxe5 fxe5 Qh5+ g6 Qxe5+ Qe7 Qxh8 Nf6 Bg5 Qe5 Qxf6 Qxf6 Bxf6 Be7 Bxe7 Kxe7 Nc3 b6 Nxd5+ Kd7 O-O-O c6 Nxb6+ Kc7 Nxa8+ Kb7 Rd8 Nd7 Ba6+ Kxa6 Rxc8 Kb7 Rd8 Nb6 Nxb6 Kxb6 Nf3 Kc7 Rhd1 a6 R1d7+ Kb6 b4 Kb5 a3 Ka4 Kb2 a5 Ra8 Kb5 Rxa5+ Kc4 Rd4#',\n",
       "       'Nf3 Nc6 c4 e5 Nc3 Nf6 a3 Be7 d4 d6 d5 Nb8 e4 Nbd7 Bd3 Nf8 c5 Ng6 cxd6 cxd6 O-O O-O Re1 Nh5 Be3 Nhf4 Bf1 h6 Rc1 b6 Ne2 Bg4 Nxf4 exf4 Bd4 Bf6 Be2 Bxf3 Bxf3 Bxd4 Qxd4 Ne5 Be2 Rc8 Rxc8 Qxc8 Qd2 g5 Rc1 Qd7 Qb4 Kg7 b3 Kf6 h4 Ke7 Bb5 Qd8 Qc3 Qb8 hxg5 hxg5 Qh3 g4 Qh4+ f6 Qh7+ Rf7 Qf5 Qb7 Rc8 f3 Re8#',\n",
       "       'e4 e5 Nf3 Nc6 Bc4 Nf6 Ng5 d5 exd5 b5 Nxf7 Kxf7 dxc6+ bxc4 O-O Qd5 Re1 Qxc6 Rxe5 Bd6 Re1 Bb7 f3 Ng4 h3 Bc5+ Kf1 Nh2+ Ke2 Rae8#',\n",
       "       'e4 c6 d4 d5 Nc3 dxe4 Nxe4 Nf6 Nxf6+ exf6 c3 Bd6 Bd3 O-O Qc2 Re8+ Ne2 g6 h4 Nd7 h5 Nf8 Bh6 Qe7 hxg6 fxg6 O-O-O Bf5 Bxf5 Qxe2 Qb3+ Kh8 Qf7 Re7 Bg7#',\n",
       "       'd4 Nf6 a3 d5 e3 Nc6 Nf3 e6 Nbd2 Bd6 c4 O-O c5 Be7 b4 e5 dxe5 Ng4 Bb2 f6 exf6 Bxf6 Bxf6 Qxf6 h3 Nge5 Be2 Qg6 Kf1 Qf6 Nb3 Be6 Nbd4 a6 Nxc6 Nxc6 Kg1 d4 exd4 Rad8 Kh2 Nxd4 Nxd4 Qf4+ Kg1 Qxf2+ Kh2 Qf4+ Kg1 Qe3+ Kh2 Qe5+ Kg1 Rxd4 Qc2 Qe3+ Kh2 Rf2 Rhf1 Qxh3+ Kg1 Rxg2#',\n",
       "       'g3 d5 Bg2 Nf6 d3 e6 Nd2 Be7 Ngf3 b6 O-O Bb7 Ne1 c5 f4 Nbd7 e4 dxe4 Nxe4 Nxe4 dxe4 O-O e5 Bxg2 Nxg2 Qc7 Qg4 g6 Be3 Rfe8 Rad1 Rad8 h4 Nb8 Rxd8 Rxd8 h5 Nc6 hxg6 hxg6 Kf2 Kg7 Rh1 Rh8 Rxh8 Kxh8 Qh3+ Kg7 f5 exf5 Bh6+ Kg8 Nf4 Nxe5 Kf1 Qc6 Qg2 Qxg2+ Nxg2 Nc4 Bc1 Bd6 b3 Na5 Kf2 Nc6 Ne3 Nb4 a3 Nc6 Nd5 Kg7 Bb2+ Kf8 Nf6 Ke7 Ng8+ Kd7 Nf6+ Kd8 Nd5 Be5 Bxe5 Nxe5 Ke3 Kd7 Kf4 Ng4 Nc3 a6 Kg5 Ke6 Ne2 Ne3 Nf4+ Ke7 c3 Kd6 Kf6 Nd5+ Nxd5 Kxd5 Kxf7 g5 Kf6 f4 gxf4 gxf4 Ke7 Kc6 Ke6 f3 Ke5 f2 Ke4 f1=Q Ke3 Kd6 Kd2 Qf2+ Kc1 Kd5 Kd1 b5 Kc1 c4 Kd1 cxb3 Kc1 Qc2#',\n",
       "       'e4 e6 Nc3 d5 Nf3 c6 exd5 exd5 d4 Nf6 Bg5 Be7 Bd3 O-O O-O h6 Bf4 Bg4 h3 Bxf3 Qxf3 Nbd7 Be5 Re8 Rfe1 Qb6 Na4 Qa5 b3 b5 Nb2 Bb4 Re2 Bc3 Rd1 Bxb2 g4 Qb6 h4 Bxd4 Bxd4 Qxd4 Bh7+ Kxh7 Rxd4 Rxe2 Qxe2 Re8 Qd3+ g6 Rf4 Kg7 g5 hxg5 hxg5 Ne4 Qd4+ Kf8 Qh8+ Ke7 Qh6 Rf8 f3 Nc3 Kg2 a5 Qg7 Ne2 Rg4 b4 Qb2 Nc3 a3 Ne5 Rg3 c5 axb4 axb4 Qa1 Nd7 Qa7 d4 Rg4 Rh8 Kg3 Rh1 Rh4 Ne2+ Kg4 Rg1+ Kh3 Rg3+ Kh2 Rxf3 Re4+ Kd6 Rxe2 Re3 Qa6+ Kd5 Rf2 Ne5 Qb7+ Kd6 Rf6#',\n",
       "       'e4 e6 d4 c6 Nc3 d5 exd5 exd5 Bd3 Be6 Nf3 Bb4 Bd2 Nf6 Qe2 O-O O-O Nbd7 Ne5 Nxe5 dxe5 Nd7 f4 g6 f5 Bxf5 Bxf5 gxf5 Rxf5 Kh8 Raf1 Qe8 Rh5 Rg8 Rxh7+ Kxh7 Qh5+ Kg7 Qh6#',\n",
       "       'e4 c6 d4 d5 Nc3 dxe4 Nxe4 Bf5 Ng3 Bg6 Nh3 Nf6 Nf4 Be4 Nxe4 Nxe4 Qd3 Nd6 Bd2 e6 O-O-O Be7 h4 Nd7 h5 Qb6 h6 Bf6 hxg7 Bxg7 Nh5 Bxd4 Bc3 Bxc3 bxc3 O-O-O Qxd6 Qxf2 Ba6 Qe3+ Rd2 Qxc3 Rd3 Qa1+ Kd2 Qxh1 Qxc6+ Kb8 Qxb7#',\n",
       "       'Nf3 Nf6 Nc3 Nc6 e4 e5 Nd5 Nxe4 Qe2 Nf6 Nxe5 Nxe5 Qxe5+ Be7 Nxc7+ Kf8 Nxa8 d6 Qc3 Bf5 Nc7 Ne4 Qc4 g6 d3 Nc5 Nd5 Kg7 Be2 Re8 O-O Bg5 Bxg5 Qxg5 Qd4+ f6 Bf3 Ne6 Qe3 Qh4 g3 Qa4 b3 Qd7 Rfe1 g5 Bh5 Rd8 g4 Nf4 Nxf4 gxf4 Qe7+ Qxe7 Rxe7+ Kh6 gxf5 Kxh5 Rae1 Kg4 Rxh7 Rg8 Kf1 Kf3 Rh3+ Kg4 Rh6 Kxf5 Re7 f3 Rf7 Rc8 Rfxf6+ Kg5 Rhg6+ Kh5 c4 b5 Rg3 bxc4 dxc4 d5 Rf7 Kh6 Rfxf3 dxc4 bxc4 Rxc4 Rf8 Kh7 Rf7+ Kh8 Rxa7 Rc1+ Kg2 Rg1+ Kh3 Rd1 Ra4 Rd7 Rh4+ Rh7 Rxh7+ Kxh7 a4 Kh6 a5 Kh5 a6 Kh6 a7 Kh5 a8=Q Kh6 Qc6+ Kh5 Qd5+ Kh6 Qe6+ Kh7 Qg6+ Kh8 Qg7#',\n",
       "       'e4 c5 Nf3 e6 d4 cxd4 Nxd4 Nc6 Nc3 Nxd4 Qxd4 Nf6 e5 Ng8 Be3 Ne7 O-O-O Nf5 Qd3 Nxe3 Qxe3 Be7 Bd3 Bg5 f4 Bh6 g4 g6 Kb1 Bg7 Ne4 b6 Nd6+ Ke7 Be4 Rb8 Qa3 Qc7 Nxc8+ Kd8 Nd6 Rf8 Rhe1 f5 exf6 Bxf6 Nb7+ Rxb7 Qxf8#',\n",
       "       'd4 Nf6 Bg5 g6 Bxf6 exf6 e3 Bg7 g3 O-O Bg2 d5 Nd2 f5 c4 c5 cxd5 cxd4 exd4 Re8+ Ne2 Qe7 Kf1 Bd7 d6 Qxd6 Bxb7 Bb5 Bxa8 Nc6 Bxc6 Qxc6 Kg1 Bxe2 Qxe2 Rxe2 Nb3 Bh6 Na5 Qf3 Rf1 Be3 Nc4 Bxf2+ Rxf2 Qxf2#',\n",
       "       'e4 e5 d4 exd4 c3 d5 exd5 Qxd5 cxd4 Bb4+ Nc3 Nc6 Nf3 Bg4 Be2 Bxf3 Bxf3 Qc4 Bxc6+ bxc6 Qe2+ Qxe2+ Kxe2 Nf6 Be3 O-O f3 Rfe8 Rhe1 Bd6 g3 Rab8 Rab1 c5 Kf2 c4 Rec1 g6 Bg5 Be7 Bf4 Bd6 Bd2 c5 dxc5 Bxc5+ Kg2 Kg7 Bg5 Bd4 Bxf6+ Bxf6 Ne4 Rxb2+ Rxb2 Bxb2 Rxc4 f5 Nd6 Re2+ Kh3 Rd2 Rc7+ Kf8 Nc8 a5 Rxh7 Bg7 Rh4 Bd4 Rh7 Bg1 Kh4 Rxh2+ Kg5 Rxh7 Nd6 Rd7 Nc4 Rd4 Ne5 Kg7 f4 Bf2 Nf3 Rd3 Nh4 Rxg3#',\n",
       "       'd4 Nf6 c4 e6 Nc3 Bb4 Qc2 d5 Bd2 Bxc3 bxc3 O-O e3 Nc6 Nf3 Qd6 cxd5 exd5 c4 Bg4 c5 Qe7 Be2 Bxf3 Bxf3 Nxd4 Qc3 Nxf3+ gxf3 Rfe8 Qd4 Qd7 Rg1 Qf5 f4 c6 Bc3 Re6 O-O-O Qh3 Rg3 Qxh2 Rdg1 Ne8 Rxg7+ Kf8 Rg8+ Ke7 R8g2 Qh4 Kc2 Re4 Qd3 Nc7 Rb1 Qh3 Rg3 Qc8 f3 Rc4 Kd2 Nb5 Bb2 Rxc5 Qxh7 Nd6 Ke2 Qf5 Qxf5 Nxf5 Rg5 Ke6 Bd4 Rc4 Rxb7 Nxd4+ exd4 Rxd4 Re5+ Kf6 Ke3 Ra4 Ree7 Kg6 Rxf7 Re8+ Kf2 Rxa2+ Kg3 d4 f5+ Kg5 f4+ Kh5 Rh7#',\n",
       "       'd4 c5 d5 Nf6 c4 e5 dxe6 fxe6 Nf3 d5 e3 Be7 Be2 O-O O-O Nc6 a3 Re8 Qc2 d4 exd4 cxd4 Bd3 e5 Re1 Bd6 Bg5 h6 Bxf6 Qxf6 Nbd2 Bg4 Ne4 Qe7 Nxd6 Qxd6 Qb3 Kh8 Be4 Re7 Bd5 Rf8 Rad1 Na5 Qc2 b5 b4 bxc4 bxa5 Qxd5 Rxd4 exd4 Rxe7 Bxf3 Qg6 Qg5 Qxg5 hxg5 gxf3 Rxf3 Re4 Rd3 Re2 c3 Kf1 Rd1+ Re1 Rxe1+ Kxe1 d3 Kd1 Kh7 h3 Kh6 f3 Kh5 a6 Kh4 a4 Kxh3 a5 Kg3 Ke1 Kxf3 Kd1 g4 Ke1 g3 Kd1 g2 Kc1 g1=Q#',\n",
       "       'e4 c5 Nf3 e6 c3 Nc6 d4 d5 e5 Bd7 Be2 Qb6 a3 a5 O-O Rc8 Ra2 Nge7 dxc5 Qc7 b4 Nxe5 Nxe5 Qxe5 Bf3 Nf5 Re2 Qc7 Bb2 Be7 Bg4 Bb5 Bxf5 Bxe2 Qxe2 exf5 Nd2 O-O Qf3 g6 Nb3 Rcd8 Nxa5 Bxc5 Nb3 Be7 Rd1 Bf6 g3 Rfe8 Rxd5 Rxd5 Qxd5 Bxc3 Bxc3 Qxc3 Nc5 b6 Nd7 Re6 Qa8+ Kg7 Qf8#',\n",
       "       'e4 c5 Nf3 d6 d4 cxd4 Nxd4 Nf6 Bd3 e5 Nb3 Nc6 c4 Be7 Nc3 O-O Qe2 a5 Nd5 a4 Nd2 Nd4 Qe3 Ng4 Nxe7+ Qxe7 Qg3 h5 Nf3 Ne6 h3 Nf6 Ng5 Nc5 Qf3 Bd7 Bd2 Rfb8 O-O b5 cxb5 Nxd3 Qxd3 Bxb5 Qa3 Bxf1 Rxf1 Rc8 Bb4 Nd7 Nf3 Nc5 Nd2 g5 Nc4 Ra6 Rd1 Nxe4 Nxd6 Nxd6 Rxd6 Rxd6 Bxd6 Rc1+ Kh2 Qf6 Qe3 Qf4+ Qxf4 exf4 Be5 Kh7 Bd4 f5 f3 g4 hxg4 fxg4 fxg4 hxg4 Be5 Rf1 b3 axb3 axb3 Kg6 g3 f3 b4 Rb1 Bd4 Rxb4 Bf2 Rb1 Bg1 Kf5 Bf2 Ke4 Bg1 Kd3 Bf2 Ke2 Be3 Kf1 Bf2 Rb5 Bd4 Rh5#',\n",
       "       'e4 c5 Nf3 d6 d4 cxd4 Nxd4 Nf6 Nc3 e5 Ndb5 a6 Na3 Be6 Bg5 Be7 Bxf6 Bxf6 Nd5 Bxd5 Qxd5 Nc6 c3 O-O Be2 Re8 O-O Qe7 Rad1 Rad8 Nc4 Qe6 Qxe6 Rxe6 Rd3 b5 Nb6 Rde8 Nd5 Rc8 Rfd1 Be7 Nxe7+ Rxe7 Rxd6 Rec7 h3 h6 a4 bxa4 Bxa6 Nb8 Bxc8 Rxc8 Rd8+ Rxd8 Rxd8+ Kh7 Rxb8 Kg6 Ra8 Kg5 Rxa4 Kf4 c4 Kxe4 c5+ Kd5 b4 Kc6 Ra6+ Kb5 Rb6+ Kc4 c6 f6 c7 g5 c8=Q+ Kd4 Rd6+ Ke4 Qg4#',\n",
       "       'e4 e5 Nf3 Nc6 d4 exd4 Nxd4 Bc5 Nb3 Qf6 Nxc5 Qd4 Qxd4 Nxd4 Bd3 b6 Nb3 Bb7 Nc3 Nxb3 axb3 Nf6 O-O c5 Bg5 b5 Bxf6 gxf6 Nxb5 Ba6 Nc7+ Kd8 Nxa8 Bb7 Rxa7 Bxa8 Rxa8+ Ke7 Rxh8 Ke6 Rxh7 d5 exd5+ Kxd5 Bc4+ Kd4 Rd1+ Ke5 Rxf7 Kf5 Rd6 Ke5 Rdxf6 Kd4 Rd6+ Ke4 Re6+ Kd4 Rd7#',\n",
       "       'f4 d5 d4 Nf6 e3 Bg4 Nf3 e6 Bd3 c5 c3 Nc6 O-O Bd6 Qa4 O-O Ne5 Qc7 Nxg4 Nxg4 Qd1 f5 Qe2 a6 Nd2 b5 Nf3 c4 Bc2 Nf6 Ng5 Qe7 Nf3 b4 Ne5 Bxe5 fxe5 Ne4 Bxe4 fxe4 Bd2 a5 a3 Rxf1+ Qxf1 Rf8 Qe2 Qb7 axb4 axb4 Qg4 Re8 h4 bxc3 Bxc3 Nd8 Rf1 Nf7 Qh3 Nh6 g4 Qe7 Kh2 Rf8 g5 Rxf1 Qxf1 Nf5 Qe1 Qf7 Qf2 Qh5 Kh3 Qf3+ Qxf3 exf3 Bd2 Kf7 h5 g6 h6 Ke7 Kh2 Kd7 Kg1 Ng3 Be1 Ne4 Bh4 Kc6 Kf1 Kb5 Be1 Ka4 Bc3 Kb3 Ke1 Kc2 Kf1 Kd3 Ke1 Nxc3 bxc3 Kxe3 Kf1 f2 Kg2 Ke2 Kg3 f1=N+ Kg2 Ne3+ Kg3 Nf1+ Kg2 Nd2 Kg3 Ne4+ Kg2 Nxc3 Kg3 Ne4+ Kf4 c3 Kg4 c2 Kh4 c1=Q Kh3 Qe3+ Kg2 Qg3+ Kh1 Nf2#',\n",
       "       'd4 Nf6 c4 e6 Nf3 b6 Nc3 Bb7 Qc2 Bb4 e3 Ne4 Bd3 Bxc3+ bxc3 f5 O-O O-O Rb1 d6 Nd2 Nf6 c5 Nbd7 cxd6 cxd6 Ba3 Qc7 Bc4 Kh8 Bxe6 g6 c4 Rfe8 Bxd7 Nxd7 Bb2 d5 Rfc1 Rec8 Qb3 dxc4 Rxc4 Qd6 d5+ Kg8 Qc3 Nc5 Qg7#',\n",
       "       'd4 b6 e4 Bb7 Nc3 e6 f3 Bb4 Ne2 d5 e5 Qh4+ g3 Qh5 Bg2 Ne7 a3 Bxc3+ Nxc3 O-O O-O c5 f4 Qg6 Ne2 Ba6 Re1 Bxe2 Rxe2 Nbc6 c3 Rac8 Be3 c4 Rf2 Nf5 Qf3 h5 Raf1 b5 Rd2 a5 Bf2 b4 axb4 axb4 h3 Rb8 g4 hxg4 hxg4 Nh6 Bh3 bxc3 bxc3 Rb3 Kh2 Ra8 f5 Qg5 Be3 Qh4 Bf2 Nxg4+ Qxg4 Qxg4 Bxg4 Rxc3 fxe6 f6 exf6 gxf6 Rg1 Raa3 Bf5+ Kf8 Rg6 Ke7 Bg3 Rf3 Rg7+ Kf8 Rf7+ Ke8 Bd6 Ne7 Rxe7+ Kd8 Rd7+ Kc8 Bxa3 Rxf5 Bd6 c3 Ra2 Rh5+ Kg3 Rg5+ Kf4 c2 Ra8#',\n",
       "       'e4 e5 Nf3 d6 d4 Bg4 dxe5 Nd7 Bf4 Bxf3 Qxf3 dxe5 Be3 Ngf6 Nc3 Bb4 O-O-O Bd6 Bc4 O-O g4 h6 h4 Nb6 Bb3 Nbd7 g5 Nh7 g6 Kh8 gxf7 Qf6 Qg3 Nc5 Bxc5 Bxc5 Rhf1 Bd4 Nd5 Qd8 Rg1 Rxf7 c3 Bxf2 Qg6 Bxg1 Qxf7 Bh2 Ne7 Bf4+ Kc2 Nf8 Qg8#',\n",
       "       'f4 d6 e4 e6 d4 Bd7 Nf3 Be7 Bd3 Nc6 O-O Nf6 c3 O-O Kh1 Rb8 Be3 a6 Nbd2 h6 Qc2 d5 e5 Ne8 f5 f6 fxe6 Bxe6 Nh4 Bg4 Bh7+ Kf7 Qg6+ Ke6 Qxg4+ Kf7 e6#',\n",
       "       'Nf3 c5 g3 Nc6 Bg2 g6 O-O Bg7 c4 Nf6 Nc3 O-O d3 d6 a3 Bd7 Rb1 a5 Bd2 e6 Ng5 h6 Nge4 Nxe4 Nxe4 Qc7 b3 Rad8 Qc1 Kh7 Nc3 Nd4 e3 Nf5 b4 axb4 axb4 Bc6 Ne4 b6 Bc3 e5 f4 d5 cxd5 Bxd5 bxc5 bxc5 fxe5 Bxe5 Rb5 Bxc3 Rxc5 Qb7 Qxc3 Bxe4 dxe4 Ng7 Rc7 Rc8 Qxg7+ Kxg7 Rxb7 Rc3 e5 Rxe3 Re7 h5 Bd5 Rb8 Bxf7 Rb2 Bxg6+ Kxg6 Rf6+ Kg5 Rg7#',\n",
       "       'Nf3 d5 g3 c5 Bg2 Nc6 O-O Nf6 d4 b6 c4 Be6 cxd5 Bxd5 Nc3 e6 Qa4 Qd7 dxc5 Bxc5 e4 O-O exd5 exd5 Bg5 Be7 Rfd1 h6 Bxf6 Bxf6 Nxd5 Qe6 Nc7 Qe2 Nxa8 Na5 Nc7 Bxb2 Rab1 Rc8 Qd7 Rf8 Rd2 Qe4 Rdxb2 Nc4 Nh4 Qh7 Ne6 Ra8 Bxa8 Nxb2 Qe8#',\n",
       "       'e4 e5 Nf3 d6 Nc3 Bg4 Be2 Nf6 O-O h6 d4 exd4 Nxd4 Bxe2 Qxe2 Be7 Bf4 O-O Rad1 a6 a4 c5 Nf3 Nh5 Be3 Bf6 e5 Bxe5 Nxe5 Qf6 Qxh5 dxe5 Bxc5 Rc8 Ne4 Qf4 Qf3 Qxf3 gxf3 f5 Nd6 Rxc5 Nxb7 Nc6 Nxc5 Nd4 Rd3 Rc8 Nxa6 Rxc2 b4 Ne2+ Kh1 Nf4 Rd8+ Kh7 b5 Ne6 Re8 Nc7 Rc8 Ra2 Nxc7 Rxa4 b6 Rb4 Rb8 e4 fxe4 fxe4 b7 Rb3 Ra1 e3 fxe3 Rxe3 Rh8+ Kxh8 b8=Q+ Kh7 Qf8 Re5 Rg1 g5 Qf7+ Kh8 Qf6+ Kg8 Qxe5 Kf7 Rf1+ Kg6 Qe8+ Kg7 Ne6+ Kh7 Qf7+ Kh8 Qg7#',\n",
       "       'e4 c5 Nc3 Nc6 g3 g6 Bg2 Bg7 d3 e6 Be3 a6 Bxc5 d6 Be3 Nge7 Qd2 d5 Bh6 Bf6 Nge2 dxe4 Nxe4 Bxb2 Rb1 Be5 f4 Bc7 Nf6#',\n",
       "       'e4 c5 Nf3 d6 Bc4 Nf6 Nc3 Nc6 d3 e6 a3 Be7 g4 Nxg4 Rg1 Nge5 Rxg7 Nxc4 dxc4 Bf6 Rg3 Bxc3+ bxc3 Qe7 Qd3 e5 Be3 Be6 Rd1 O-O-O Rb1 Na5 Nd2 h5 Rb5 b6 Qe2 h4 Rg7 Qf6 Rg1 Rdg8 Rf1 Rg2 Qd3 Qd8 f4 Rxh2 f5 Bd7 Rxa5 bxa5 Qxd6 Qc7 Qd5 Ba4 Bxc5 Rd8 Qa8+ Kd7 Qd5+ Ke8 Bd6 Qxd6 Qxd6 Rxd6 Nf3 Rxc2 Nxe5 Rc1+ Ke2 Rxf1 Kxf1 Rd2 Ke1 Ra2 Nf3 h3 Kf1 h2 Nxh2 Rxh2 Kg1 Ra2 Kf1 Ke7 e5 Bd7 c5 Bxf5 c6 Bc8 c4 Ke6 c5 Kxe5 Ke1 Ke4 Kd1 Kd3 Kc1 Rh2 Kb1 Kc3 a4 Bf5+ Ka1 Kb3 c7 Rh1#',\n",
       "       'e4 c5 Nf3 d6 d4 cxd4 Nxd4 Nf6 Nc3 e5 Bb5+ Bd7 Bxd7+ Qxd7 Nf5 g6 Ne3 Bg7 Ned5 Nxd5 Nxd5 Nc6 h4 Ne7 Bh6 Nxd5 Bxg7 Rg8 Bxe5 dxe5 Qxd5 Qxd5 exd5 O-O-O c4 b5 b3 a6 O-O-O bxc4 bxc4 Kb7 Kc2 Rc8 Kd3 Rgd8 Rb1+ Ka7 Rb4 f5 f3 a5 Rb5 Ka6 Rhb1 e4+ fxe4 fxe4+ Kd4 e3 Rb6+ Ka7 Rb7+ Ka8 Re7 Rf8 g3 Rf3 Rbb7 Rd8 Ra7+ Kb8 Reb7+ Kc8 Rxh7 Rxg3 Ra8#',\n",
       "       'e4 h6 d4 g6 Nf3 Bg7 Be3 Nf6 e5 Nh5 g4 O-O gxh5 gxh5 Bg2 Bh8 Qd3 Nc6 Bxh6 Na5 Ng5 f6 Qh7#',\n",
       "       'd4 d5 c4 c6 Nc3 Bf5 Qb3 Qb6 Qxb6 axb6 cxd5 Nf6 dxc6 bxc6 Nf3 e6 e3 Bb4 Be2 Ne4 Bd2 Nxd2 Nxd2 O-O O-O Nd7 a3 Be7 Bf3 Rac8 Rac1 c5 d5 exd5 Nxd5 Bf6 Nxf6+ Nxf6 Nc4 Rb8 Nd6 Bd7 e4 Rfd8 e5 Ne8 Rfd1 Ba4 Rd2 f6 Bd5+ Kf8 Nxe8 Kxe8 exf6 gxf6 Re1+ Kf8 Re3 Bc6 Red3 Bb5 Rg3 Bc4 Bxc4 Rxd2 Rg8+ Ke7 Rxb8 Rxb2 Rb7+ Kd6 Rxh7 b5 Bf1 c4 Rh3 Ke5 a4 Kd4 axb5 c3 Rh4+ Kc5 Rc4+ Kxb5 Rxc3+ Kb6 Rf3 Kc7 Rxf6 Kd7 h4 Ke7 Rg6 Kf7 h5 Rb4 g4 Rb8 Bc4+ Ke7 Kg2 Rb4 Bg8 Rf4 Kg3 Rf8 f4 Rf6 Rxf6 Kxf6 Bd5 Kg7 g5 Kh8 Kg4 Kh7 Kf5 Kg7 Ke6 Kh7 Kf7 Kh8 Bb3 Kh7 g6+ Kh8 g7+ Kh7 g8=Q+ Kh6 Qg6#',\n",
       "       'c4 d5 d4 Nc6 Nf3 Nf6 Nc3 Bg4 Bf4 e6 e3 Bb4 a3 Bxc3+ bxc3 Bxf3 gxf3 O-O Rg1 g6 Bg5 Qd6 Bxf6 Qxh2 Rg2 Qh1 f4 Rae8 Qf3 dxc4 O-O-O Na5 Bxc4 Qh6 Ba2 b5 Rg3 g5 Rxg5+ Qxg5 fxg5 Rd8 Qh5 Rb8 Qh6 Rfc8 Qg7#',\n",
       "       'd4 Nf6 Nf3 c5 d5 e6 Nc3 a6 Bg5 h6 Bh4 g5 Bg3 Bg7 Bd6 Qb6 dxe6 dxe6 Rb1 Nc6 e4 Ng4 Be2 Qb4 O-O Nge5 a3 Nxf3+ Bxf3 Qd4 Qe2 Qxd6 Rfd1 Nd4 Qd3 Nxf3+ Qxf3 Qf4 Qd3 Bd4 Ne2 Qxf2+ Kh1 O-O Nxd4 Qxd4 Qh3 Qg7 e5 Kh7 Re1 f6 Qc3 fxe5 Qxc5 Bd7 Rxe5 Bc6 Rbe1 Qf7 Rxe6 Qf1+ Qg1 Bxg2#',\n",
       "       'e4 d5 exd5 Nf6 Nc3 a6 d4 c6 dxc6 Nxc6 Be3 e6 Nf3 Bb4 Be2 Bxc3+ bxc3 h6 O-O O-O Bd3 Ng4 Bf4 e5 Nxe5 Ngxe5 dxe5 Qh4 Bg3 Qg5 f4 Qe7 Qh5 Qc5+ Bf2 Qxc3 g4 f5 g5 Nd4 gxh6 gxh6 Qg6+ Kh8 Qxh6+ Kg8 Qg6+ Kh8 Qh5+ Kg7 Bh4 Nf3+ Qxf3 Rg8 Kh1 Kf7 Qd5+ Be6 Qxb7+ Kg6 Rg1+ Kh5 Qh7#',\n",
       "       'd4 Nf6 Nf3 e6 e3 c5 c4 cxd4 exd4 d5 Nc3 Be7 Be2 O-O O-O b6 h3 Bb7 Be3 Na6 a3 dxc4 Bxc4 Nc7 Re1 Ncd5 Bd2 Rc8 Nxd5 Nxd5 Bxd5 Qxd5 Bc3 Bf6 Qe2 Rfd8 Rad1 Rc7 Rd2 Rcd7 Red1 h6 Kh1 g6 Rg1 Qf5 Qd3 Bxf3 Qxf3 Qxf3 gxf3 Bxd4 Rgd1 e5 f4 f6 fxe5 fxe5 f4 Rd6 fxe5 Bxe5 Rxd6 Rxd6 Rxd6 Bxd6 Kg2 Kf7 Kf3 Ke6 Ke4 b5 Bd4 a6 b4 Be7 Bg7 h5 Bh6 Bf6 Bc1 Bg7 h4 Bf6 Bg5 Bxg5 hxg5 h4 Kf4 h3 Kg3 h2 Kxh2 Kf5 Kg3 Kxg5 Kg2 Kg4 Kf2 Kf4 Ke2 Ke4 Kf2 Kd4 Kf3 Kc3 Kf4 Kb3 Kg5 Kxa3 Kxg6 Kxb4 Kf5 a5 Ke4 a4 Kd3 Kb3 Kd2 a3 Kc1 a2 Kd2 a1=Q Ke3 Qe5+ Kf3 Kc3 Kg2 Kd3 Kg1 Qe2 Kh1 Ke3 Kg1 Kf3 Kh1 Qg2#',\n",
       "       'd4 d5 Nf3 Nf6 e3 Bg4 c4 c6 Nc3 e6 Bd3 Nbd7 cxd5 cxd5 h3 Bh5 O-O Be7 Bd2 O-O Rc1 Rc8 Qe2 Nb6 Rc2 a6 Rfc1 Nc4 Be1 b5 a3 Qb6 g4 Bg6 Bxg6 hxg6 Nb1 Qb7 Bb4 Rfe8 Bxe7 Rxe7 b3 Nb6 Rxc8+ Nxc8 Qc2 Nb6 Qc6 Ne4 Ne5 Qb8 f3 f6 fxe4 fxe5 dxe5 Qxe5 Qxb6 Qg3+ Kf1 Rf7+ Ke2 Qg2+ Kd3 Qxe4+ Kc3 Rf3 Kd2 Rxh3 Qd4 Rh2+ Kc3 Qg2 Kb4 Rh4 Ka5 Rxg4 Qc5 Qb2 Qc8+ Kf7 Rf1+ Ke7 Qf8+ Kd7 Rf7+ Kc6 Qc8+ Kd6 Qc7#',\n",
       "       'd4 d5 c4 e6 Nc3 Nf6 Nf3 c6 g3 dxc4 Bg2 b5 Ne5 Nd5 O-O Bd6 Ng4 Bb7 e4 Nxc3 bxc3 Nd7 a4 a6 h4 Qc7 f4 f6 h5 h6 Qc2 O-O Ne3 e5 Nf5 exd4 cxd4 Nb6 a5 Na4 Bh3 Bc8 e5 fxe5 fxe5 Be7 Bxh6 Bxf5 Rxf5 Rxf5 Qxf5 Qd8 Qe6+ Kh8 Bxg7+ Kxg7 Qg6+ Kh8 Qh6+ Kg8 Be6#',\n",
       "       'e4 e5 Nf3 Nc6 Bc4 Nf6 d3 Bc5 Nc3 O-O O-O d6 h3 h6 Be3 Bxe3 fxe3 Be6 Bb3 a6 Qe1 Qd7 Nh4 b5 Nf5 Nb4 Nxh6+ gxh6 Rxf6 Bxb3 Rxh6 Nxc2 Qg3+ Qg4 Qxg4#',\n",
       "       'e4 c6 d4 d5 Nd2 e5 dxe5 dxe4 Qe2 Qd4 Qxe4 Qxe4+ Nxe4 Be6 Nf3 Nd7 Bf4 f6 O-O-O Bxa2 Nd6+ Bxd6 exd6 Bd5 Nd4 O-O-O c4 Be4 b4 Nb6 f3 Bg6 g3 Bf7 Bh3+ Kb8 d7+ Ka8 Bc7 Rxd7 Bxb6 Re7 Bc5 Re5 Nxc6 bxc6 Rd8+ Kb7 Rhd1 Bxc4 Bc8+ Kb8 Ba6+ Kc7 R1d7#',\n",
       "       'Nf3 e6 g3 d5 Bg2 c5 O-O Nc6 c3 Qb6 d4 Nf6 dxc5 Bxc5 e3 O-O Nd4 Ne4 Nxc6 bxc6 Nd2 Nxd2 Qxd2 e5 e4 dxe4 Bxe4 Bg4 Qg5 Bh3 Qh4 Bxf1 Qxh7#',\n",
       "       'e4 e5 Nf3 Nc6 d4 exd4 Nxd4 Nxd4 Qxd4 Bd6 Qxg7 Qf6 Qxf6 Nxf6 Bd3 Be5 f4 Bd4 Nc3 d6 Bd2 Bg4 h3 Bxc3 Bxc3 Bh5 g4 Bg6 Bxf6 Rf8 f5 Bxf5 exf5 d5 O-O-O c5 Rhe1+ Kd7 Bb5+ Kc7 Rxd5 Rae8 Bxe8 Rxe8 Rxe8 Kc6 Red8 Kc7 R8d6 Kc8 Rd7 Kb8 Rxf7 Kc8 Rd8#',\n",
       "       'd4 c5 d5 Nf6 c4 e5 dxe6 fxe6 Nf3 d5 e3 Be7 Be2 O-O O-O Nc6 a3 Re8 Qc2 d4 exd4 cxd4 Bd3 e5 Re1 Bd6 Bg5 h6 Bxf6 Qxf6 Nbd2 Bg4 Ne4 Qe7 Nxd6 Qxd6 Qb3 Kh8 Be4 Re7 Bd5 Rf8 Rad1 Na5 Qc2 b5 b4 bxc4 bxa5 Qxd5 Rxd4 exd4 Rxe7 Bxf3 Qg6 Qg5 Qxg5 hxg5 gxf3 Rxf3 Re4 Rd3 Re2 c3 Kf1 Rd1+ Re1 Rxe1+ Kxe1 d3 Kd1 Kh7 h3 Kh6 f3 Kh5 a6 Kh4 a4 Kxh3 a5 Kg3 Ke1 Kxf3 Kd1 g4 Ke1 g3 Kd1 g2 Kc1 g1=Q#',\n",
       "       'e4 c5 Nf3 e6 c3 Nc6 d4 d5 e5 Bd7 Be2 Qb6 a3 a5 O-O Rc8 Ra2 Nge7 dxc5 Qc7 b4 Nxe5 Nxe5 Qxe5 Bf3 Nf5 Re2 Qc7 Bb2 Be7 Bg4 Bb5 Bxf5 Bxe2 Qxe2 exf5 Nd2 O-O Qf3 g6 Nb3 Rcd8 Nxa5 Bxc5 Nb3 Be7 Rd1 Bf6 g3 Rfe8 Rxd5 Rxd5 Qxd5 Bxc3 Bxc3 Qxc3 Nc5 b6 Nd7 Re6 Qa8+ Kg7 Qf8#',\n",
       "       'e4 e5 Nf3 Nc6 Bc4 Nf6 Nc3 Bc5 O-O O-O d3 h6 a3 a6 b4 Ba7 Be3 d6 Bxa7 Rxa7 Qd2 Bg4 Qe3 Ra8 h3 Bd7 Nd5 Rb8 c3 Nxd5 Bxd5 Ne7 Bb3 c6 Rad1 Qc7 d4 Ng6 dxe5 dxe5 Rd2 Rbd8 Rfd1 Bc8 Qc5 Rd7 Rxd7 Bxd7 Rd6 Be6 Bxe6 fxe6 Rxe6 Qf7 Qd6 Nf4 Rxe5 Nxh3+ Kf1 Qc4+ Ke1 Qxc3+ Kf1 Qc1+ Ke2 Nf4#',\n",
       "       'e4 e5 Nc3 Nf6 f4 Nc6 Nf3 d6 Bb5 Bd7 d3 a6 Bxc6 Bxc6 fxe5 dxe5 Nxe5 Nxe4 Nxe4 Bxe4 dxe4 Qe7 Qd5 c6 Qd4 Rd8 Qc3 f6 Nf3 Qxe4+ Kf2 Bb4 Qb3 Bc5+ Be3 Be7 Rhe1 g5 Bxg5 Qf5 Be3 Kf8 Rad1 Rc8 Rd4 Rg8 Rf4 Qg6 Nh4 Qg7 Qxb7 Re8 g3 h6 Nf5 Qf7 Nxh6 Qg7 Nxg8 Kxg8 Qxc6 Qf7 Rg4+ Kf8 Bh6+ Qg7 Bxg7+ Kf7 Bh6 f5 Rg7+ Kf8 Rexe7 Rxe7 Qf6+ Ke8 Qxe7#',\n",
       "       'd4 d5 e3 Nc6 c3 Nf6 f4 e6 Bd3 Bd6 Nf3 Bd7 Nbd2 b6 Ne5 Nxe5 fxe5 Bxe5 dxe5 Ng8 O-O f6 Qh5+ g6 Bxg6+ Ke7 Bxh7 fxe5 Rf7+ Kd6 Nf3 Nf6 Qxe5+ Kc6 Nd4+ Kb7 Rxf6 Rxh7 Nxe6 Qh8 Qxc7+ Ka6 Nc5+ Kb5 a4+ Kc4 Nxd7+ Kd3 Ne5+ Ke4 Rf4#',\n",
       "       'g3 e5 Bg2 Nf6 d3 Bc5 Nf3 d6 O-O O-O c3 Nc6 a4 a5 Nbd2 Re8 Nc4 Be6 b3 Bxc4 dxc4 d5 cxd5 Qxd5 Qc2 Qe4 Qb2 Qg6 Nh4 Qg4 h3 Qd7 Bg5 Re6 Rad1 Qe7 Nf5 Qe8 e4 h6 Bc1 Rd8 Kh2 Rxd1 Rxd1 Ne7 Nh4 g5 Nf3 Nxe4 Rd5 Bxf2 Nxe5 Bxg3+ Kh1 Rxe5 Rxe5 Bxe5 Bxe4 Nc6 Qe2 Bxc3 Bh7+ Kf8 Ba3+ Bb4 Qxe8+ Kxe8 Bb2 Ne7 Be4 c6 Kg2 f5 Bd3 Nd5 Kf3 Bc3 Bc1 f4 Bf5 Bg7 Bc8 b6 h4 gxh4 Kg4 Bf6 Be6 Bg5 Bb2 Ke7 Bf5 Ne3+ Kf3 Nxf5 Bc3 Nd6 Kg4 Ne4 Be1 f3 b4 f2 Bxf2 Nxf2+ Kf3 Nd3 bxa5 bxa5 Ke4 Nb2 Kd4 Nxa4 Kc4 h3 Kb3 h2 Kxa4 h1=Q Kxa5 c5 Kb6 c4 Kb5 c3 Kb4 c2 Kb3 c1=Q Ka2 Qa8+ Kb3 Qb7+ Ka4 Qa1#',\n",
       "       'e4 e6 d4 d5 Nd2 Nf6 e5 Nfd7 Bd3 c5 c3 Nc6 Ne2 c4 Bc2 Qg5 Nf3 Qxg2 Ng3 Qh3 Ng5 Qh4 Qf3 f6 Nxe6 Ke7 Nf5+ Kxe6 Nxh4 fxe5 Qf5+ Ke7 Bg5+ Nf6 dxe5 Bxf5 Nxf5+ Ke6 exf6 gxf6 Bf4 Rg8 Ke2 Bc5 Rad1 Rad8 Nh6 Rge8 Bf5+ Ke7 Kf3 d4 Rhg1 dxc3 Rg7+ Kf8 Rf7#',\n",
       "       'e4 e6 d4 d5 Nd2 Nf6 e5 Nfd7 Bd3 c5 c3 Nc6 Ne2 Qb6 Nf3 cxd4 cxd4 Bb4+ Bd2 Bxd2+ Qxd2 O-O O-O f6 Nf4 fxe5 Nxe6 Re8 Nfg5 e4 Qf4 Re7 Qd6 exd3 Qxd5 Qxb2 Nd8+ Kf8 Nxh7+ Ke8 Qg8+ Nf8 Qxf8+ Kd7 Nxc6 bxc6 Rae1 Rxe1 Rxe1 Ba6 Qxa8 d2 Qxa7+ Kd6 Qc5+ Kc7 Re7+ Kd8 Qd6+ Kc8 Qc7#',\n",
       "       'e4 c5 Nf3 d6 d4 cxd4 Nxd4 Nf6 Nc3 a6 h4 e5 Nb3 Be6 f3 Nh5 Be3 Ng3 Rh2 Be7 h5 Nd7 Bf2 Nxf1 Kxf1 h6 Kg1 Rc8 Nd5 Bxd5 Qxd5 Rxc2 Qxb7 O-O Qxa6 Qa8 Qd3 Rxb2 a4 Rb8 Nd2 d5 exd5 Nc5 Bxc5 Bxc5+ Kh1 Bd4 Rh4 Rxd2 Qxd2 Bxa1 Rg4 Qa6 d6 Bd4 Qxh6 Qf1+ Kh2 Qg1+ Kh3 Qh1+ Kg3 Bf2+ Kxf2 Rb2+ Ke3 Qe1+ Kd3 Qe2+ Kc3 Qc2#',\n",
       "       'e4 e5 Nf3 Nc6 Bc4 Be7 d4 d6 Nc3 Nf6 h3 O-O Be3 Nd7 Qd2 Kh8 O-O-O Na5 Be2 Bf6 g4 exd4 Nxd4 Ne5 b3 c5 Nf5 Bxf5 exf5 Qb6 Nd5 Qc6 Nxf6 gxf6 f4 c4 Qxa5 cxb3 axb3 Rfc8 Rd2 Qxh1+ Kb2 b6 Qb5 a6 Qa4 b5 Qd4 Nc4+ bxc4 bxc4 Qxf6+ Kg8 Bxc4 Rxc4 Qg5+ Kf8 Qh6+ Ke8 Qxd6 Qb7+ Kc1 Qe7 Qd5 Rac8 Bd4 Qe1+ Kb2 Qxd2 Qe5+ Kd7 Qd5+ Ke7 Bf6+ Kxf6 Qe5#',\n",
       "       'e4 c5 Nf3 d6 c3 Nf6 Be2 Bd7 Qc2 Nc6 O-O e6 Rd1 Be7 d4 cxd4 cxd4 Rc8 Nc3 O-O Bg5 h6 Bf4 Qa5 d5 Nb4 Qd2 e5 Be3 Qc7 Rac1 Qb8 a3 Na6 b4 Nc7 Nxe5 dxe5 d6 Rfe8 dxe7 Rxe7 Bc5 Ree8 Bd6 Qa8 Qe3 b6 f3 Bc6 b5 Bd7 a4 Qb7 Na2 Red8 Nb4 Re8 Nc6 Bxc6 Rxc6 Na8 Rdc1 Rxc6 bxc6 Qc8 c7 Re6 Qd2 Ne8 Bb4 Naxc7 Bc4 Rg6 Rd1 Ne6 Bd5 Nd4 Kh1 Nc7 Rc1 Qd7 Bc4 Nce6 Qa2 Kh7 Rd1 Qd8 Bc3 Qg5 Qf2 Nf4 g3 Nh3 Qf1 Rc6 Bd2 Qh5 Be2 Rf6 Kg2 Nxe2 Qxe2 Ng5 Rf1 Qh3+ Kg1 Ne6 Bc3 Nd4 Bxd4 exd4 e5 Re6 Qe4+ g6 f4 Qf5 Qxd4 Qc2 Qf2 Qc5 Qxc5 bxc5 Rc1 Ra6 Rc4 Kg7 Kf2 Kf8 Ke3 Ke7 Ke4 Ke6 g4 Rb6 f5+ gxf5+ gxf5+ Ke7 Kd5 Rb4 Kxc5 Rb2 h4 Re2 Kd5 Rd2+ Rd4 Rf2 f6+ Ke8 Kd6 Ra2 e6 Rc2 e7 Rb2 Ke5 Rb6 Rd8#',\n",
       "       'e4 d6 d4 g6 h4 Bg7 h5 Nc6 Be3 e5 d5 Nce7 Nc3 f5 Bb5+ c6 h6 Bf6 Bc4 f4 Bd2 Bg5 g3 Bxh6 Qf3 Bg7 O-O-O fxg3 fxg3 cxd5 exd5 Nf6 Rf1 Bf5 Bb5+ Bd7 Ne4 Rf8 Nxd6#',\n",
       "       'e4 c5 Nf3 g6 d4 cxd4 Nxd4 Bg7 Nc3 Nc6 Be3 d6 Qd2 Nf6 f3 O-O h4 Nh5 g4 Bxd4 Bxd4 e5 Be3 Ng3 Rh2 Nxf1 Kxf1 f5 Bg5 Qb6 gxf5 Nd4 Nd5 Qxb2 Ne7+ Kh8 Qc1 Qxc1+ Rxc1 Nxf3 Rf2 Nxg5 hxg5 gxf5 exf5 Bd7 g6 hxg6 Nxg6+ Kg7 Nxf8 Rxf8 Ke2 Bxf5 Rg1+ Kh8 c3 Bd3+ Ke3 Rxf2 Kxf2 Bf5 Ke3 Be6 a3 b6 Rg6 Bc4 Rxd6 a5 Rxb6 Bf7 Rb5 a4 Rxe5 Bb3 Re7 Kg8 Kd4 Kf8 Ra7 Kg8 c4 Kf8 c5 Kg8 c6 Be6 Re7 Kf8 Rxe6 Kg8 Re7 Kf8 Rd7 Kg8 c7 Kf8 c8=Q#',\n",
       "       'e4 e5 Nf3 Nc6 Bc4 Bc5 c3 Nf6 d4 exd4 cxd4 Bb4+ Nc3 Nxe4 O-O Bxc3 d5 Bf6 dxc6 bxc6 Re1 d5 Qa4 Bd7 Qb3 O-O Bxd5 cxd5 Qxd5 Nd6 Bf4 Be6 Qc6 Rb8 Rad1 Rb6 Qc5 Bxb2 Ng5 Bxa2 Ne4 Re8 Bxd6 cxd6 Qe3 Rb4 Nf6+ gxf6 Qxe8+ Qxe8 Rxe8+ Kg7 h3 Be5 g3 Rb2 f4 Bc3 Rxd6 Bb4 Rdd8 Bc5+ Kf1 Bc4+ Ke1 Bb4+ Kd1 Bb3+ Kc1 Rc2+ Kb1 Ba3 Rg8+ Kh6 Rb8 Rc1#',\n",
       "       'e4 c5 c3 e6 d4 d5 exd5 exd5 Nf3 cxd4 cxd4 Nc6 Bb5 Bd7 O-O Nf6 Bg5 Be7 Nc3 Be6 Ne5 Qc7 Qa4 O-O Bxc6 bxc6 Qxc6 Qxc6 Nxc6 Bd6 Bxf6 gxf6 Nb5 a6 Nxd6 Bd7 Ne7+ Kg7 Rac1 Ra7 Nxd5 Be6 Nc7 Bxa2 Rc6 Rd8 Nce8+ Kf8 Nxf6 Ke7 Nf5+ Kf8 Nxh7+ Kg8 Rh6 Bc4 Nf6+ Kf8 Rh8#',\n",
       "       'e4 e6 d4 d6 Nc3 Nc6 Nf3 Nf6 Bb5 Bd7 O-O a6 Bd3 Nb4 e5 d5 exf6 Nxd3 fxg7 Bxg7 Qxd3 Qe7 Re1 O-O Nxd5 exd5 Rxe7 Bf6 Ng5 Bxg5 Bxg5 Be6 Qg3 Bf5 Bh6+ Kh8 Qg7#',\n",
       "       'e4 e5 Nf3 Nc6 Bc4 Bc5 O-O Nf6 d4 Bxd4 Nxd4 Nxd4 f4 d6 fxe5 dxe5 Bg5 Be6 Na3 O-O c3 Bxc4 Nxc4 Nc6 Bxf6 gxf6 Qg4+ Kh8 Rad1 Qc8 Qh4 Qe6 Rxf6 Qxc4 Rh6 f5 Rxh7+ Kg8 Rh8+ Kf7 Qh7+ Kf6 Qxf5+ Ke7 Rd7+ Ke8 Rxf8#',\n",
       "       'f4 e5 fxe5 d6 Nf3 dxe5 e4 Nf6 d3 Nc6 Be2 Bc5 Nc3 Ng4 Qd2 Be3 Qd1 Nf2 Bxe3 Nxd1 Rxd1 Nd4 Bxd4 exd4 Nd5 c6 Nf4 Qd6 g3 Qb4+ Kf2 Qxb2 Rd2 Qxa2 Nxd4 O-O c4 Qb2 Rxb2 g6 h3 a5 Bg4 Bxg4 hxg4 Rfd8 Ke3 Rab8 Rhb1 a4 c5 Rdc8 Rb4 a3 Ra1 Ra8 Rxb7 a2 Rb2 h5 gxh5 g5 Nfe2 g4 Rbxa2 Rab8 Kf4 Kg7 Nf5+ Kh8 Kxg4 Rb3 Ra3 Rg8+ Kf3 Rb5 d4 Rgb8 Ra8 Rb3+ Ne3 Kg7 Rxb8 Rxb8 Ra6 Kf8 Rxc6 Ke7 h6 f5 Nxf5+ Kd7 Rd6+ Kc7 h7 Rh8 Rh6 Kb8 g4 Ka7 g5 Kb7 g6 Ka8 g7 Rb8 g8=Q Ka7 Qxb8+ Kxb8 h8=Q+ Ka7 Qg7+ Ka8 Rh8#',\n",
       "       'e4 f5 e5 d6 exd6 cxd6 Nc3 Nf6 d4 e6 Bd3 e5 dxe5 dxe5 Bg5 Be7 Qe2 e4 Bb5+ Nc6 Bxc6+ bxc6 f3 O-O Bd2 Be6 fxe4 fxe4 Nxe4 Nxe4 Qxe4 Bd5 Qg4 Re8 O-O-O Qd6 Nf3 Bxa2 b3 Qa3#',\n",
       "       'e4 e5 f4 exf4 Nf3 Nf6 Nc3 Bb4 e5 Ng4 h3 Nxe5 d4 Nxf3+ Qxf3 Qh4+ Ke2 O-O Bxf4 Re8+ Kd3 d6 g3 Bf5+ Kc4 Qe7 Kxb4 Nc6+ Kc4 a6 a4 Na5+ Kd5 c6#',\n",
       "       'Nf3 d5 c4 d4 e3 dxe3 fxe3 Bg4 Qb3 Bxf3 gxf3 b6 d4 e6 Nc3 Qh4+ Ke2 Nd7 Bd2 c6 Be1 Qh5 Bg3 Be7 Ne4 f5 Nd6+ Bxd6 Bxd6 Ngf6 Re1 Ne4 Qa3 c5 Be5 Nxe5 dxe5 Ng3+ hxg3 Qxh1 Qa4+ Ke7 Rd1 Rhd8 Rxd8 Rxd8 Qxa7+ Rd7 Qxb6 Qh2+ Ke1 Qxg3+ Ke2 Qh2+ Ke1 Qd2#',\n",
       "       'e4 e5 f4 exf4 Bc4 Qh4+ Kf1 Nf6 Nf3 Qh5 Nc3 Bb4 d3 O-O Bxf4 d6 Ne2 Bg4 Ng3 Bxf3 Nxh5 Bxd1 Nxf6+ gxf6 Rxd1 Nc6 c3 Bc5 d4 Bb6 Kf2 Ne5 h3 Nxc4 b3 Ne5 g4 Ng6 Bg3 Rfe8 Kf3 Re7 h4 Rae8 Rhe1 c5 h5 cxd4 hxg6 fxg6 cxd4 Bc7 d5 Kf7 Rc1 b6 Rc4 Bb8 Rh1 Kg8 Rhc1 f5 gxf5 gxf5 exf5 Re3+ Kf4 Re2 f6 Rxa2 Rc8 Re2 Kf5 Kf7 Rxe8 Rxe8 Bf4 a5 Rg1 Rg8 Rxg8 Kxg8 Ke6 Kf8 Bh6+ Ke8 f7+ Kd8 f8=Q+ Kc7 Qe7+ Kc8 Qd7#',\n",
       "       'e4 e5 Nf3 Nc6 Bb5 Bc5 O-O Nge7 c3 a6 Bxc6 Nxc6 d4 exd4 cxd4 Bb6 d5 Ne7 d6 cxd6 Nc3 O-O Bg5 h6 Bh4 g5 Qxd6 gxh4 Qxh6 f5 Ng5 Rf7 Nxf7 Kxf7 Rad1 Ng8 Qh7+ Kf8 Rd6 Bc7 Rg6 Nf6 Qg7+ Ke8 Rxf6 Qe7 Qg8+ Qf8 Qxf8#',\n",
       "       'e4 e6 d4 a6 Nf3 Bb4+ c3 Ba5 Bd3 b5 Nbd2 Ne7 a4 c6 e5 O-O Bxh7+ Kxh7 Ng5+ Kg6 Qg4 Kh6 Qh4+ Kg6 Qh7+ Kxg5 Ne4+ Kg4 Qh3#',\n",
       "       'd4 Nc6 d5 Nb4 e4 e6 a3 Na6 dxe6 dxe6 Qxd8+ Kxd8 Nc3 Nc5 Nf3 f5 Bg5+ Be7 O-O-O+ Bd7 exf5 exf5 Bc4 Bxg5+ Nxg5 Nh6 Ne6+ Nxe6 Bxe6 Ke7 Bxd7 Rad8 Rhe1+ Kf6 Nd5+ Kf7 Nxc7 Ng4 Ne6 Nxf2 Nxd8+ Kg6 Rd6+ Kh5 Bxf5 g6 Re5 gxf5 Rxf5+ Kg4 Rxf2 Re8 Rd4+ Kg5 Nf7+ Kg6 Rg4+ Kh5 Rg5+ Kh4 Rf4#',\n",
       "       'e4 f5 exf5 Nf6 d4 d5 Bd3 Nc6 Nf3 Nb4 Nc3 Nxd3+ Qxd3 Qd7 Ne5 Qxf5 Nb5 Ne4 f3 Nc5 Nxc7+ Kd8 Qxf5 Bxf5 Nxa8 Ke8 dxc5 Bxc2 Bg5 e6 Nc7#',\n",
       "       'e4 Nc6 d4 d5 e5 Qd7 Be2 Qe6 c4 dxc4 d5 Qxe5 Nf3 Qd6 dxc6 Qxc6 O-O Bg4 Qd4 Nf6 Ne5 Qe6 Bxc4 Qf5 Bxf7#',\n",
       "       'e4 e5 Nf3 Nc6 Bc4 Nf6 d3 Bc5 Bb3 O-O O-O Na5 Nxe5 Nxb3 axb3 d5 exd5 Qxd5 Nf3 Bg4 Be3 Bd6 Nbd2 c5 h3 Bh5 b4 cxb4 Rxa7 Rac8 Qb1 Bb8 Ra4 Qd6 Re1 Nd5 g4 Bg6 Ra5 Rfe8 Nc4 Qd8 Nfd2 Nxe3 Rxe3 f6 Rxe8+ Bxe8 Qa2 Kh8 Qb3 b6 Qxb4 bxa5 Qf8#',\n",
       "       'c4 f5 g3 g6 Nc3 Bg7 d4 c6 h4 Nh6 h5 O-O hxg6 hxg6 Bxh6 d6 Qd2 e5 Bxg7 Kxg7 Qh6+ Kf6 Qh4+ Kg7 Qh7+ Kf6 dxe5+ dxe5 g4 fxg4 Rd1 Qb6 Ne4+ Kf5 Rh5+ Kxe4 Bg2+ Kf4 Qh6+ g5 Qxg5#',\n",
       "       'e4 e5 Nf3 d6 d4 exd4 Nxd4 Nf6 Nc3 Be7 Be2 O-O O-O Nc6 f4 a6 Be3 Nxd4 Bxd4 c5 Bf2 b5 Bf3 Bb7 e5 Bxf3 Qxf3 dxe5 fxe5 Nd7 Qg3 Re8 Rad1 Qc8 Ne4 Nf8 Nd6 Bxd6 exd6 Nd7 Be3 Re6 Qh3 Rg6 Rfe1 Qc6 Bf4 Rf6 Bg3 Rh6 Qf5 Rf6 Qg4 Rg6 Qe2 Nf6 d7 Rd8 Rd6 Qe4 Qxe4 Nxe4 Rxg6 Nxg3 Re8+ Rxe8 dxe8=R#',\n",
       "       'e4 c5 Nf3 Nc6 d4 cxd4 Nxd4 Nf6 Nc3 g6 Be3 a6 Nxc6 bxc6 e5 Nh5 Qf3 Bg7 g4 Bxe5 gxh5 Bxc3+ bxc3 O-O Bh6 Re8 hxg6 fxg6 h4 d5 h5 Bf5 hxg6 Be4 Qf7+ Kh8 Qxh7#',\n",
       "       'e4 c5 Nf3 Nf6 Nc3 d5 exd5 Nxd5 Bb5+ Nc6 O-O Nxc3 dxc3 Qb6 Bxc6+ Qxc6 Ne5 Qe6 Re1 Qf5 a3 e6 g4 Qf6 Qd3 Qh4 Qb5+ Ke7 Rd1 Kf6 Qd3 c4 Qf3+ Ke7 Qxf7#',\n",
       "       'e4 c6 d4 d5 e5 Bf5 h4 h5 Bg5 Qb6 Bd3 Bxd3 Qxd3 Qxb2 e6 Qxa1 exf7+ Kxf7 Qb3 Nd7 Nf3 a5 O-O a4 Qxb7 Rb8 Qxd7 Nf6 Ne5+ Kg8 Qe6+ Kh7 Qf5+ Kg8 Qe6+ Kh7 Nd2 Qxd4 Ndf3 Qe4 Re1 Qxc2 Qf7 Rb1 Bc1 Rxc1 Ng5+ Kh6 Rxc1 Qxc1+ Kh2 Qf4+ Kg1 Qxe5 Qe8 Qe1+ Kh2 Ng4+ Kh3 Nxf2+ Kh2 Ng4+ Kh3 Qe3+ Nf3 g6 Qf7 Bg7 a3 Rf8 Kg3 Qxf3+ Qxf3 Rxf3+ gxf3 Bb2 f4 Bxa3 f5 gxf5 Kf4 e6 Kf3 e5 Ke2 e4 Kd2 c5 Ke2 c4 Kd2 d4 Ke2 f4 Kd1 d3 Kd2 Bb4+ Kd1 c3 Kc1 f3 Kb1 f2 Ka2 Ne3 Kb1 f1=Q+ Ka2 Qe2+ Kb1 Qb2#',\n",
       "       'd4 d6 e4 e5 dxe5 Nc6 Nf3 dxe5 Qxd8+ Nxd8 Nxe5 g6 Nc3 Nf6 Bd2 Nc6 Nb5 Nxe5 Nxc7+ Kd8 Nxa8 Bg7 Rd1 Nxe4 Bg5+ Ke8 Rd8#',\n",
       "       'd4 d5 Nf3 Nf6 Bf4 Nc6 e3 Nh5 Bb5 Nxf4 exf4 Bg4 Qd3 Qd6 Ne5 Be6 f5 Bd7 Bxc6 bxc6 Nxd7 Qxd7 Nc3 e6 O-O-O exf5 Rde1+ Be7 Qe3 Qe6 Qf4 Qd6 Qg5 f6 Qxg7 O-O-O Qxe7 Rde8 Qxd6 Rxe1+ Rxe1 cxd6 Re7 Kb8 Rd7 Rg8 g3 f4 Rxd6 fxg3 hxg3 Kb7 Rd7+ Kb6 Na4+ Ka6 Nc5+ Kb6 Rb7+ Ka5 b4#',\n",
       "       'd4 Nf6 c4 Nc6 Nf3 Ne4 e3 b6 Bd3 f5 Nbd2 Nb4 Nxe4 Nxd3+ Qxd3 fxe4 Qxe4 Ba6 Ne5 d6 Qc6+ Qd7 Qxd7#',\n",
       "       'd4 Nf6 Nf3 d5 c4 e6 Bg5 Be7 Nc3 h6 Bh4 g5 Bg3 h5 Nxg5 h4 Be5 Ng4 Bxh8 Bxg5 e4 Bf6 Qxg4 Bxh8 exd5 exd5 Qg8+ Ke7 Nxd5+ Kd7 Qxf7+ Kc6 Ne7+ Kd6 c5+ Kd7 Bb5+ c6 Nf5+ Qe7+ Qxe7#',\n",
       "       'd4 d5 Nf3 Nf6 Bf4 e6 e3 c5 Nbd2 Nc6 c3 Bd6 Ne5 O-O Bd3 Ne7 Qf3 Qb6 Rb1 Nf5 g4 Ne7 Qg3 cxd4 exd4 Rd8 h4 h5 g5 Nd7 Nxf7 Nf5 Bxf5 Bxf4 Qxf4 exf5 Nxd8 Qxd8 Nf3 g6 O-O Nf8 Ne5 Be6 Rfe1 Rc8 Nxg6 Nxg6 Qf3 Qd6 Qxh5 Bf7 Qf3 Nxh4 Qh3 Qf4 Re3 Bh5 Qg3 Qxg3+ fxg3 Nf3+ Kf2 Nxg5 Rh1 Ne4+ Rxe4 dxe4 Rxh5 Rf8 Ke3 Kg7 g4 Kg6 Rxf5 Rxf5 gxf5+ Kxf5 b3 b5 a4 b4 c4 a6 a5 Ke6 Kxe4 Kd6 c5+ Kc6 Ke5 Kd7 d5 Kc7 c6 Kd8 Kd6 Kc8 c7 Kb7 Kd7 Ka7 Kd8 Kb7 c8=Q+ Ka7 Qc6 Kb8 Ke7 Ka7 d6 Kb8 d7 Ka7 Ke6 Kb8 d8=Q+ Ka7 Qda8#',\n",
       "       'd4 d5 Nf3 c6 Bf4 e6 e3 f5 Bd3 Nf6 O-O Nbd7 Ne5 Be7 g4 Nxe5 dxe5 Nxg4 h3 O-O hxg4 fxg4 Qxg4 Qb6 Qh5 g6 Bxg6 hxg6 Qxg6+ Kh8 Qh5+ Kg8 Kh1 Rf7 Rg1+ Rg7 Rxg7+ Kxg7 Nd2 Bd7 Rg1+ Kf8 Bh6#',\n",
       "       'd4 d5 c4 dxc4 e3 e5 Bxc4 exd4 exd4 Nf6 Qb3 Qe7+ Ne2 Qb4+ Qxb4 Bxb4+ Bd2 Bxd2+ Nxd2 O-O O-O Nc6 Nf3 Bg4 Ne5 Bxe2 Nxc6 Bxc4 Ne7+ Kh8 Rfc1 Rfe8 Rxc4 Rxe7 g3 c6 Rcc1 Rae8 Kg2 Re2 b4 Ng4 Kf3 h5 Rc5 Rxf2#',\n",
       "       'd4 d5 Bf4 Nf6 e3 c5 c3 Nc6 Nd2 Qb6 Qb3 Bf5 dxc5 Qxb3 axb3 e5 Bg5 Bxc5 b4 Bd6 Ngf3 O-O Bxf6 gxf6 g4 Be6 Be2 d4 Ne4 Be7 b5 Nd8 exd4 Bd5 Bd3 Ne6 dxe5 Nc5 Nxf6+ Bxf6 Be2 Bxe5 O-O-O Be4 Nxe5 Nb3#',\n",
       "       'e4 e5 Nf3 Nc6 Bb5 d6 O-O Nf6 c3 a6 Bxc6+ bxc6 d4 exd4 cxd4 Nxe4 Re1 d5 Ng5 Be7 Nxe4 dxe4 Nc3 O-O Nxe4 f5 Nc3 Bd6 Qf3 Bb7 Bf4 Rb8 Bxd6 cxd6 d5 Qg5 dxc6 Ba8 b3 Rbc8 Nd5 Bxc6 Rac1 Bxd5 Qxd5+ Kh8 Rxc8 Rxc8 Qc6 Rd8 Qe8+ Rxe8 Rxe8#',\n",
       "       'e4 c5 Nf3 d6 b4 cxb4 d4 Nf6 Bd3 Nc6 Bb2 e6 O-O Be7 Nbd2 O-O Ng5 h6 f4 hxg5 fxg5 Nd7 h4 Qb6 Nc4 Qc7 d5 exd5 exd5 Nce5 Nxe5 Nxe5 Qh5 Nxd3 cxd3 Qc5+ Kh1 Qxd5 Rxf7 Rxf7 Rc1 Bh3 Rc2 Raf8 Kh2 Bd7 Qg6 Bf5 Qh5 Qxd3 Rf2 Bg6 Qxg6 Qxg6 Re2 Qd3 Re1 d5 Be5 Rf2 Ba1 Bd6+ Kh1 Rf1+ Rxf1 Rxf1#',\n",
       "       'e4 c5 Nf3 d6 d4 cxd4 Nxd4 Nf6 Nc3 a6 Bg5 e5 Nf5 Bxf5 Bxf6 Qxf6 exf5 Qxf5 Nd5 Qd7 Nb6 Qd8 Nxa8 Nc6 Qd5 Qxa8 Bc4 Nd8 O-O-O Be7 f4 O-O fxe5 dxe5 Qxe5 Bf6 Qf5 b5 Bd3 g6 Qxf6 Qxg2 Qxa6 Ne6 Qxb5 Nd4 Qe5 Rd8 Qf6 Ne6 Bc4 Rc8 Rhf1 Rxc4 Qxf7+ Kh8 Rd8+ Nxd8 Qf8#',\n",
       "       'd4 Nf6 Bf4 d6 Nc3 Nc6 Nf3 Bf5 e3 g6 Bd3 Bxd3 Qxd3 Bg7 O-O O-O d5 Nb4 Qc4 Na6 b4 Rc8 b5 Nc5 Nd4 Nfe4 Nxe4 Nxe4 Rfd1 Qd7 f3 Nf6 e4 Rfe8 Bg5 e6 dxe6 fxe6 e5 d5 Qe2 Nh5 g4 h6 Bd2 Nf6 exf6 Bxf6 Bxh6 Qd6 Rac1 Re7 c4 Rh7 Qxe6+ Qxe6 Nxe6 Rxh6 g5 Bxg5 Nxg5 Rf8 cxd5 Rf5 Ne6 Rxf3 d6 Rfh3 dxc7 Rxh2 c8=Q+ Kh7 Rd7#',\n",
       "       'e4 Nc6 Nf3 b6 d4 Ba6 Bxa6 Nf6 Nbd2 e5 dxe5 Nxe5 Nxe5 Bb4 c3 O-O cxb4 Ng4 Nxg4 Qg5 O-O Rfe8 Nc4 Rxe4 Bxg5 f6 Bxf6 Rf8 Qd5+ Re6 Nce5 gxf6 Nxd7 c5 Qxe6+ Rf7 Nh6+ Kg7 Qxf7+ Kxh6 Qxf6+ Kh5 Be2#',\n",
       "       'e4 e6 d4 d5 Nc3 dxe4 Nxe4 Nc6 Nf3 Nf6 Nxf6+ gxf6 Be2 Qd5 O-O Bd7 c4 Qh5 d5 Ne5 Ng5 Qg6 Bh5 Qg7 Nxe6 Bxe6 dxe6 Rg8 Bxf7+ Nxf7 Qd7#',\n",
       "       'd4 Nf6 c4 e6 Nc3 Bb4 Qc2 d5 Bg5 dxc4 e4 Qxd4 Rd1 Bxc3+ bxc3 Qc5 Be3 Qb5 Nf3 Nc6 Rb1 Qa6 Be2 e5 O-O O-O h3 Rd8 Nd2 b5 a4 Qxa4 Qxa4 bxa4 Bxc4 Na5 Bb5 a3 Ra1 Rb8 Ba4 Rb2 Rxa3 Rbxd2 Bxd2 Rxd2 f3 Nc4 Rb3 c5 Rb8 Nb6 Bc6 g5 Bb7 Rd8 Ra1 Kg7 Rxa7 Rd1+ Kh2 Bd7 Ba6 Na4 Be2 Rd2 Bc4 h6 Rd8 Nb6 Bb5 h5 Rb7 Bc8 Rxd2 Bxb7 Rd6 Nc8 Rd8 h4 Kg1 Ne7 Kf2 Bxe4 fxe4 Nxe4+ Ke3 f5 Bc4 Kf6 Rf8+ Kg6 Rd8 Nf6 Be6 Kh6 Rd6 g4 hxg4 Nxg4+ Kf3 Kg5 Rd7 e4+ Ke2 Ng6 Rd5 Nf4+ Ke1 Nxe6 Rd6 Nf4 Kf1 Ne3+ Kg1 Nexg2 Rd8 Kg4 Rc8 e3 Rxc5 e2 Kf2 e1=Q#',\n",
       "       'e4 e5 Nf3 Nc6 c3 Nf6 d4 d5 Bb5 dxe4 Nxe5 Bd7 Nxd7 Qxd7 O-O O-O-O Bg5 Be7 Nd2 a6 Bc4 Rhf8 Bxf6 Bxf6 Nxe4 Rde8 Nc5 Qd6 Qa4 Bg5 Nxb7 Qf4 Qxa6 Be7 Nc5+ Kd8 Qa8+ Nb8 Qxb8#',\n",
       "       'e4 e5 Bc4 Be7 Qf3 Nh6 d3 O-O Bxh6 Bb4+ c3 gxh6 cxb4 Qe7 a3 Qg5 Nh3 Qh4 Nc3 Nc6 Nd5 Nd4 Qd1 Qf4 Nhxf4 Nb3 Bxb3 c6 Ne7+ Kg7 Nh5+ Kh8 Qf3 Re8 Qf6#',\n",
       "       'e4 e5 Nf3 Nc6 Bb5 Nce7 Nxe5 Nf6 Nc3 b6 d4 Bb7 d5 a5 O-O c5 dxc6 d6 cxb7+ Qd7 Nxd7 Rb8 Nxb8+ Kd8 Nc6+ Kc7 b8=Q+ Kd7 Nd4+ Nc6 Qb7+ Ke8 Qxc6+ Ke7 Qc7+ Nd7 Qxd7+ Kf6 Qf3+ Kg6 Qdg4#',\n",
       "       'e4 e5 Nf3 Nc6 Bb5 Nce7 d4 b6 Nxe5 f6 Nf3 Bb7 d5 Nxd5 exd5 Bxd5 Qxd5 Bb4+ c3 Ke7 cxb4 d6 Bc6 Qf8 Bxa8 Nh6 O-O Ng4 Re1+ Kd7 Qc6+ Kc8 Bb7+ Kd8 Nc3 Ne5 Nxe5 f5 Qd7#',\n",
       "       'e4 e5 Nf3 Nc6 d4 exd4 Nxd4 Nxd4 Qxd4 Ne7 Bc4 Nc6 Qe3 Bb4+ c3 Be7 Qf3 Na5 Qxf7#',\n",
       "       'e4 e5 Nf3 f6 Nc3 d6 d4 Nc6 d5 Bg4 dxc6 bxc6 Be2 Be7 Qd3 c5 Qb5+ Kf7 Qc4+ Ke8 h3 Qd7 hxg4 Qc6 Qe6 Qd5 Nxd5 Kf8 Nxc7 Rc8 Qxc8+ Kf7 Qe6+ Kg6 Nh4#',\n",
       "       'e4 e5 Nf3 Nf6 Nxe5 Nxe4 Qf3 Be7 Qxf7#',\n",
       "       'e4 e5 Nf3 Nc6 Bc4 Nf6 d3 Bc5 c3 d6 Nbd2 Be6 Bb5 a6 Ba4 O-O h3 Ne7 Nh4 Ng6 Nxg6 fxg6 Nf3 Nh5 Bb3 Bxb3 Qxb3+ Kh8 Qxb7 Nf4 Bxf4 Rxf4 Qd5 Rb8 O-O-O Bxf2 d4 exd4 cxd4 Be3+ Kb1 Qe7 e5 dxe5 Nxe5 Rf2 Nd3 Re2 Rhe1 Rxe1 Rxe1 Qg5 Ne5 Qf5+ Ka1 Rf8 a3 Bf4 g4 c6 Qc5 Qg5 Qxf8#',\n",
       "       'e4 c5 Nf3 Nc6 Bb5 Qc7 O-O e6 Re1 Nf6 Nc3 Be7 e5 Ng4 Bxc6 bxc6 h3 Nh6 g4 Ng8 d4 a5 dxc5 Bxc5 Ne4 Be7 Nd6+ Bxd6 exd6 Qb7 g5 h6 g6 f5 c4 Nf6 c5 O-O b3 Ne4 Rxe4 fxe4 Ne5 Rf5 Bb2 Qb5 Qd4 a4 Ng4 axb3 Qxg7#',\n",
       "       'e4 c5 Nf3 d6 d4 Nf6 Nc3 cxd4 Nxd4 a6 Bc4 b5 Bb3 e6 f3 Be7 Be3 O-O Bf2 Qc7 O-O Bb7 Qd2 Nbd7 Rac1 Nc5 Rfd1 Rab8 a3 e5 Nf5 Nxb3 cxb3 Bd8 Nxb5 Qd7 Nbxd6 Ne8 Nxb7 Qxb7 b4 f6 Qd3 Rf7 Rc4 Bb6 Ne3 Rd8 Qb3 Rxd1+ Qxd1 Rd7 Qb3 Kf8 g3 Nd6 Rc2 Nb5 Nd5 Bxf2+ Rxf2 Nc7 Rd2 Nxd5 Rxd5 Rxd5 Qxd5 Qxd5 exd5 Ke7 Kf2 Kd6 Ke3 Kxd5 Kd3 g6 b3 f5 h4 h6 Ke3 h5 a4 Kc6 Kd3 Kd5 Ke3 Kc6 Kd2 Kd6 Kc3 Kc7 Kc4 Kc6 b5+ axb5+ axb5+ Kb6 Kd5 e4 fxe4 fxe4 Kxe4 Kxb5 Kf4 Kc6 Kg5 Kd6 Kxg6 Ke5 Kxh5 Kf6 g4 Kg7 g5 Kh7 g6+ Kg7 Kg5 Kh8 h5 Kg7 h6+ Kh8 Kf6 Kg8 b4 Kh8 b5 Kg8 b6 Kf8 h7 Ke8 g7 Kd7 g8=Q Kc6 Qb3 Kb7 h8=Q Kc6 Qc8+ Kd6 Qc7#',\n",
       "       'd4 Nf6 c4 g6 Nc3 d5 cxd5 Nxd5 e4 Nxc3 bxc3 Bg7 Bc4 O-O Ne2 c5 O-O Bg4 f3 Bd7 Be3 Qc7 f4 Nc6 e5 Na5 Bd5 e6 Bf3 Nc4 Bc1 Bc6 Bxc6 Qxc6 Qd3 b5 Qf3 Qb6 Be3 Nxe3 Qxe3 cxd4 Nxd4 Rfd8 Rfb1 Rd5 a4 Bf8 Rxb5 Rxb5 axb5 Bc5 Qd3 Rd8 Ra6 Bxd4+ cxd4 Rxd4 Rxb6 Rxd3 Rb7 Rb3 Kf2 h5 g3 Kg7 Ke2 g5 fxg5 Kg6 h4 Kf5 Rxf7+ Kxe5 g6 Rxg3 g7 Kd5 Rxa7 e5 b6 Kc6 b7 Kc5 b8=Q Kc4 Rc7+ Kd4 Qb4+ Kd5 Qc4+ Kd6 Rc6+ Kd7 Qd5+ Ke8 Qxe5+ Kd8 Qxg3 Ke8 g8=Q+ Kd7 Qc7#',\n",
       "       'd4 d5 c4 Nc6 cxd5 Qxd5 e3 e5 Nc3 Bb4 Bd2 Bxc3 bxc3 Nf6 c4 Qd6 d5 Nd8 Ne2 b6 Qc2 O-O e4 Nb7 Nc3 Nc5 f3 Bd7 Be3 a6 Be2 Nh5 O-O Nf4 Rfb1 f5 Bf1 fxe4 Nxe4 Nxe4 fxe4 Qg6 Kh1 Rf6 a4 a5 c5 Raf8 cxb6 cxb6 Qd2 Qxe4 Bxb6 Nxd5 Bxa5 Ne3 Bd3 Qf4 Re1 Ng4 Qxf4 exf4 Bc4+ Kh8 h3 Ne3 Be2 Bc6 Rec1 Bxg2+ Kh2 f3 Bb5 h5 Bb6 Nf5 Bf2 g5 a5 g4 hxg4 hxg4 a6 Rh6+ Kg1 Rh1#',\n",
       "       'd4 Nf6 c4 e6 Nf3 b6 Nc3 Bb4 a3 Bxc3+ bxc3 O-O e3 Bb7 Bd3 d5 cxd5 Nxd5 Qc2 Nf6 e4 h6 O-O Nbd7 a4 c5 Ba3 Rc8 Rfd1 Re8 Qe2 c4 Bc2 Qc7 Rdb1 Qc6 e5 Nd5 Qe4 f5 exf6 N7xf6 Qe1 Qc7 Bg6 Ng4 Bxe8 Rxe8 h3 Ngf6 Ne5 Nd7 Nxd7 Qxd7 a5 b5 Bc5 a6 Qd2 Qf7 Re1 Nf4 f3 Nd3 Re3 Rd8 Rxd3 cxd3 Qxd3 Qf5 Qe2 Bd5 Re1 Bc4 Qe5 Qxe5 Rxe5 Rd5 f4 Kf7 g3 g5 h4 gxf4 gxf4 Kf6 Kf2 Rxe5 dxe5+ Kf5 Ke3 Kg4 Be7 Kf5 Bf8 h5 Be7 Bd5 Bg5 Bc4 Kd4 Bd5 Kc5 Ke4 Kb6 Kd3 Kxa6 Bc4 Kb6 Kxc3 a6 b4 a7 Bd5 f5 exf5 e6 b3 e7 b2 Bf6+ Kc2 Bxb2 Kxb2 e8=Q Be4 Qh8+ Kc2 Qxh5 Kd2 Qg5+ Kd3 h5 Kd4 h6 Ke5 h7 Ke6 h8=Q Kf7 Qgf6#',\n",
       "       'e4 e5 Nf3 Nc6 Bc4 Bc5 O-O Nf6 d3 a6 c3 O-O Bg5 h6 Bh4 g5 Bg3 d6 b4 Ba7 Qc1 Nh5 Kh1 Nxg3+ fxg3 Be6 Na3 Qd7 Nxg5 hxg5 Qxg5+ Kh8 Rf6 Bxc4 Rh6#',\n",
       "       'e4 c5 Nf3 Nc6 d4 cxd4 Nxd4 Nf6 Nc3 e5 Ndb5 d6 Bg5 a6 Na3 Be6 Nc4 Rc8 Bxf6 gxf6 Ne3 Nd4 Ne2 Bh6 Nxd4 exd4 Nf5 Bxf5 exf5 Qa5+ Ke2 Qe5+ Kf3 Qxf5+ Kg3 Rg8+ Kh4 Qg5+ Kh3 Qf5+ g4 Qxc2 Qxd4 Qc5 Re1+ Kf8 Qxf6 Bg7 Qe7#',\n",
       "       'd4 Nf6 c4 c5 d5 b5 b3 g6 Bb2 bxc4 bxc4 Na6 a3 Rb8 Qc2 Bg7 Nd2 O-O e4 Rxb2 Qxb2 Nxe4 Qb1 Nxd2 Kxd2 Qa5+ Kd1 Bxa1 Qxa1 e6 d6 Bb7 f3 Bc6 Nh3 Rb8 Nf2 Ba4+ Ke2 Bb3 Ng4 Bxc4+ Kd1 Qa4+ Ke1 Nb4 Nh6+ Kf8 Qh8#',\n",
       "       'd4 d5 c4 e6 Nf3 Nf6 Bg5 dxc4 Nc3 Nbd7 e4 Be7 Bxc4 O-O O-O Ne8 Bxe7 Qxe7 e5 a6 Bd3 f6 h4 c5 exf6 Nexf6 Ne4 cxd4 Nxf6+ Qxf6 Re1 e5 Be4 Rd8 Bd5+ Kh8 Ng5 Rf8 Qh5 Qxf2+ Kh1 h6 Nf7+ Kh7 Be4+ g6 Qxg6#',\n",
       "       'e4 c5 Nf3 d6 Nc3 Nf6 g3 Nc6 Bg2 e6 d3 Be7 O-O O-O Kh1 a6 Ne2 d5 e5 Nd7 Bf4 g5 Bd2 g4 Nh4 Ndxe5 f3 f5 f4 Nf7 h3 Bxh4 gxh4 Qxh4 Be1 Qh6 Kh2 Kh8 Rh1 gxh3 Bxh3 Rg8 Bg3 Qg7 Bh4 Bd7 Rg1 Qh6 Bg5 Nxg5 Rxg5 Rxg5 fxg5 Qxg5 Ng3 Rg8 Nh5 Be8 Qc1 Qxc1 Rxc1 Bxh5 Bg2 Nd4 c3 Ne2 Re1 Nf4 Bh1 Be2 d4 c4 b3 b5 bxc4 Bxc4 Bf3 a5 Ra1 a4 a3 Be2 Bxe2 Nxe2 Re1 Nf4 Rf1 Nd3 Rd1 Nf2 Rf1 Ne4 Rc1 Rc8 Rb1 Nxc3 Rc1 Rc4 Kg2 Ne2 Re1 Nxd4 Kf2 Rc2+ Ke3 Re2+ Rxe2 Nxe2 Kxe2 e5 Kd2 d4 Ke2 e4 Kd2 f4 Ke2 Kg7 Kf2 d3 Ke1 e3 Kf1 f3 Ke1 Kf6 Kf1 d2 Kg1 d1=Q+ Kh2 Qe1 Kh3 Qg1 Kh4 Kf5 Kh3 h5 Kh4 Qg4#',\n",
       "       'd4 Nf6 Bf4 e6 e3 c5 Nf3 b6 Bd3 Bb7 Nbd2 d5 c3 Be7 Ne5 O-O h4 Nfd7 Rh3 Nxe5 Bxe5 Qe8 Bxh7+ Kxh7 Qh5+ Kg8 Bxg7 f5 Qh8+ Kf7 Qh7 Qb5 Bxf8+ Kxf8 Qh8+ Kf7 Rg3 Bf6 Qh7+ Bg7 Rxg7+ Kf6 Qh6#',\n",
       "       'e4 c6 d4 d5 e5 Bf5 Nf3 e6 Be2 Bb4+ c3 Ba5 O-O Ne7 Nh4 h6 Nxf5 Nxf5 f4 Qh4 Rf3 Nd7 Rh3 Qd8 g4 Ne7 a4 Nf8 b4 Bc7 Nd2 Nfg6 Nb3 h5 g5 h4 Bh5 Nf5 Nc5 Qc8 Bxg6 fxg6 Bd2 b6 Nd3 Qd7 Be1 Kf7 Bf2 Bd8 Qg4 Be7 Bxh4 Nxh4 Rxh4 Qb7 a5 Qa6 Rxh8 Rxh8 Nb2 b5 Kg2 Qc8 h4 Rh5 Rh1 Qh8 Nd3 Bf8 Nc1 Be7 Ne2 Bf8 Ng3 Ke7 a6 Qh7 Nxh5 gxh5 g6 Qh8 Qg5+ Kd7 f5 exf5 Qxf5+ Kc7 Qf7+ Kb6 Qb7#',\n",
       "       'b3 d5 Bb2 Nf6 d4 Bf5 e3 e6 c4 c6 Bd3 Bg6 Nf3 Bd6 O-O Nbd7 cxd5 exd5 Nc3 O-O Ne2 Qc7 Bxg6 hxg6 Ng3 Ne4 Nd2 Ndf6 Ndxe4 Nxe4 Nxe4 dxe4 h3 f5 Rc1 Rad8 b4 Qf7 a3 Qd5 Qe2 b5 Rc3 Rf6 Rfc1 Bb8 Rc5 Qd6 g3 Re6 Rxc6 Qxc6 Rxc6 Rxc6 Qd1 Rc4 d5 a6 h4 Kh7 Kg2 Kh6 g4 Bd6 g5+ Kh7 Qa1 Bf8 Bd4 Rxd5 Qd1 Kg8 h5 Kf7 hxg6+ Kxg6 Kh3 Be7 f4 Rd8 Kh4 Rh8+ Kg3 Rc6 Bxg7 Rd8 Bd4 Kf7 Qh5+ Ke6 Qg6+ Kd7 Qxf5+ Kc7 Qxe4 Rd7 g6 Bf8 Qe8 Rd8 Be5+ Kb7 Qxd8 Rxg6+ Kf3 Bd6 Bxd6 Kc6 Qc7+ Kd5 e4+ Ke6 f5+ Kf6 Qe7#',\n",
       "       'e4 Nf6 e5 Nd5 d4 d6 c4 Nb6 f4 g6 Nf3 Bg7 Nc3 c6 Bd3 O-O O-O dxe5 fxe5 Be6 b3 Bg4 Be3 Be6 Qe1 f6 Rd1 Qc7 Qh4 fxe5 Ng5 Rxf1+ Rxf1 h6 Nxe6 Qd7 Nxg7 Kxg7 Qxh6+ Kg8 Rf8#',\n",
       "       'e4 e6 d4 d5 Nc3 c5 exd5 exd5 dxc5 Be6 Be3 Nf6 Bb5+ Nc6 Nge2 Be7 Nd4 Rc8 Qd3 O-O Bxc6 bxc6 b4 Qd7 Bf4 h6 O-O Ne4 Nxe4 dxe4 Qxe4 Bd5 Qf5 Qb7 a3 Bf6 Be5 Bxe5 Qxe5 Rce8 Qd6 Rd8 Qg3 Qe7 Rfe1 Qf6 c3 Rfe8 Rad1 Re4 Rxe4 Bxe4 Qc7 Re8 Re1 Qg5 f3 Qd2 Rxe4 Rxe4 Qc8+ Kh7 Qf5+ Kg8 Qxe4 Qxc3 Nxc6 Qxa3 Qe7 Qc3 Qxa7 Qe1#',\n",
       "       'e4 c5 Nf3 d6 d4 cxd4 Nxd4 a6 Nc3 g6 Bc4 Bg7 O-O Nf6 Be3 O-O f3 b5 Bb3 Bb7 Qd2 Nbd7 Nde2 Rc8 Rfd1 Nb6 e5 Ne8 Bf4 Nc4 Bxc4 Rxc4 exd6 Nxd6 Bg3 Qb6+ Bf2 Qc7 a3 a5 Be3 b4 axb4 axb4 Nd5 Bxd5 Qxd5 Bxb2 Ra7 Qc6 Qxc6 Rxc6 Nd4 Bxd4 Bxd4 Nb5 Rb7 Nxd4 Rxd4 Rxc2 Rdxb4 e6 Rb2 Rfc8 Rxc2 Rxc2 h4 h5 f4 Kg7 Kh2 Kf6 Kg3 Rc3+ Kf2 Rc5 Kf3 e5 fxe5+ Rxe5 Rc7 g5 hxg5+ Rxg5 Rc6+ Kg7 Rc7 Ra5 Kf4 Kg6 Rc6+ f6 Rc2 Ra4+ Kf3 Kg5 Rc5+ f5 Rc3 Rf4+ Kg3 h4+ Kh3 Rg4 g3 Ra4 gxh4+ Rxh4+ Kg3 f4+ Kg2 Kg4 Rf3 Rh2+ Kxh2 Kxf3 Kg1 Ke2 Kg2 f3+ Kg1 f2+ Kh2 f1=Q Kg3 Qf3+ Kh2 Qg4 Kh1 Kf2 Kh2 Qh4#',\n",
       "       'd4 Nf6 c4 e6 Nf3 b6 g3 Bb7 Bg2 h6 Nc3 Bb4 O-O Bxc3 bxc3 O-O Bf4 d6 Qb3 c5 Rad1 Nh5 Bc1 Qc7 Ba3 Nd7 Nh4 g5 Nf3 f5 Qb5 Bc6 Qb1 Qb7 dxc5 dxc5 Rd6 Rae8 Rfd1 Nhf6 Qb3 Ne4 R6d3 g4 Nd2 Ne5 Nxe4 Bxe4 Bxe4 fxe4 Re3 Rd8 Rxd8 Rxd8 Bc1 Kf7 Kg2 Kf6 Qa4 Kf5 Qb3 Qa6 Qc2 Qxc4 f3 gxf3+ exf3 Rd3 Rxe4 Qxc3 Qxc3 Rxc3 Bxh6 Rc2+ Kh3 Rxa2 g4+ Kg6 Rxe5 Kxh6 Rxe6+ Kg5 Kg3 Rxh2 f4#',\n",
       "       'e4 c6 Nc3 d5 d4 dxe4 Nxe4 Bf5 Ng3 Bg6 Nf3 Nd7 h4 h6 h5 Bh7 Bd3 Bxd3 Qxd3 Qc7 Be3 Ngf6 O-O-O e6 Ne4 Nxe4 Qxe4 Bd6 Qg4 Kf8 Kb1 a5 Nd2 a4 Ne4 a3 Nxd6 Qxd6 b3 b5 Qg3 Qxg3 fxg3 Nf6 Rh4 Ke7 Rf1 Rhd8 Rf3 Rd5 g4 b4 g3 Rad8 Rf4 e5 Rf1 exd4 Bf4 c5 Kc1 R8d7 Bd2 R7d6 Kb1 Ne4 Bf4 Re6 Ka1 Nf6 Rg1 Re2 Rc1 Kf8 Bc7 Ne4 Bf4 Nc3 Rhh1 d3 g5 hxg5 h6 gxh6 Be3 d2 Rcd1 Rxe3 Rdg1 Rde5 Rb1 Re1 g4 Nxb1 Rxe1 dxe1=Q c4 Nd2#',\n",
       "       'e4 e5 Nf3 Nc6 Nc3 Nf6 Bb5 d6 d4 exd4 Nxd4 Bd7 Bg5 Be7 Qd2 Nxd4 Qxd4 Bxb5 Nxb5 O-O Be3 b6 O-O-O Qd7 Qc4 Nxe4 Qxe4 Qxb5 Qxe7 Rac8 Qe4 Rfe8 Qd5 Qe2 Rd2 Qa6 Kb1 Re5 Qc6 Ra5 a3 Re8 Qxe8#',\n",
       "       'd4 d5 c4 Nc6 cxd5 Qxd5 e3 e5 Nc3 Bb4 Bd2 Bxc3 bxc3 Nge7 c4 Qd8 d5 Nb8 Bd3 f5 Bc3 Nd7 Nf3 e4 Nd4 Nc5 Bc2 O-O O-O Bd7 Nb3 Na4 Bb4 b6 Nd4 Nc5 Bxc5 bxc5 Nb3 c6 Nxc5 cxd5 cxd5 Bb5 Bb3 Qd6 Nb7 Qb6 d6+ Kh8 dxe7 Rfe8 Nd6 Rxe7 Nxb5 Qxb5 Rc1 Rd7 Qh5 Rd6 Rfd1 Rh6 Qf7 Qe5 h3 Re8 Rc7 Rg6 Rdc1 Rd6 Re7 Rd1+ Rxd1 Qh2+ Kxh2 Rg8 Qxg8#',\n",
       "       'e4 e5 f4 Nc6 Nf3 f5 exf5 e4 Qe2 Nf6 d3 d5 dxe4 dxe4 Nc3 Bb4 Bd2 O-O Ne5 Nd4 Qc4+ Kh8 O-O-O Nc6 Nf7+ Rxf7 Qxf7 Bxf5 Bc4 Qd6 Nb5 Bxd2+ Rxd2 Qxf4 g3 Qg5 h4 Qxg3 Rhd1 Bg4 Rd8+ Nxd8 Qf8+ Ng8 Qxg8#',\n",
       "       'e4 e5 Nf3 Nc6 d4 exd4 Nxd4 Bc5 Be3 Qf6 c3 Nge7 Bc4 Na5 Be2 d5 b4 Bxd4 Bxd4 Qg6 bxa5 Qxg2 Bf3 Qg6 exd5 Bf5 Qa4+ Bd7 Qb3 O-O-O Nd2 Rhe8 O-O-O Bf5 d6 Rxd6 Nc4 Rc6 Ne5 Qh6+ Be3 Qh3 Bxc6 Nxc6 Nxc6 bxc6 a6 Bd7 Rxd7 Qxd7 Qb7+ Kd8 Rd1 Qxd1+ Kxd1 Kd7 Bxa7 Re5 Bb6 Rd5+ Kc2 Re5 Qxc7+ Ke6 Qxe5+ Kxe5 a7 f5 a8=Q g5 Qxc6 Kf4 h3 h5 Bc7#',\n",
       "       'd4 Nf6 Bf4 d6 e3 g6 Nc3 Bg7 Bd3 Nbd7 Qe2 a6 O-O-O b5 h4 h5 Nf3 Bb7 e4 O-O e5 Nd5 Bg5 Nxc3 bxc3 Bxf3 gxf3 dxe5 f4 f6 Bxg6 fxg5 hxg5 Rxf4 Qxh5 Nf8 dxe5 Qc8 Bh7+ Nxh7 Qxh7+ Kf8 g6 Qe6 Rh5 Qxa2 Rdh1 Qa1+ Kd2 Rd8+ Ke3 Qxc3+ Kxf4 Rd4+ Kg5 Qd2+ Kf5 Qxc2+ Ke6 Qc4+ Kf5 e6+ Kg5 Rg4#',\n",
       "       'e4 e5 Nf3 Nc6 Bc4 Nf6 Nc3 Bc5 d3 d5 exd5 Nd4 Nxe5 O-O O-O Re8 Re1 Bg4 Nxg4 Rxe1+ Qxe1 Nxg4 Bb3 Nxf2 Be3 Ng4 Bxd4 Bxd4+ Kf1 Qf6+ Ke2 Bxc3 Qxc3 Re8+ Kd2 Qf2+ Kd1 Ne3+ Kc1 Qf1+ Qe1 Qxe1#',\n",
       "       'e4 e5 Nf3 Nc6 Bb5 Nf6 O-O Nxe4 Re1 Nd6 Nxe5 Nxe5 Rxe5+ Be7 Bd3 O-O Rh5 g6 Rh3 Ne8 b3 d5 Re3 Bc5 Re1 Qf6 Nc3 Bxf2+ Kh1 Bxe1 Qxe1 Bf5 Bf1 Ng7 Bb2 Qe6 Qg3 Nh5 Qg5 Qf6 Qh6 Rad8 Be2 d4 Nb5 Qh4 Bxh5 Qxh5 Qxh5 gxh5 Nxd4 Bg6 d3 Rfe8 h3 c5 Nf3 Re2 Rc1 Rde8 Kg1 Bxd3 cxd3 Rxb2 Rxc5 Rxa2 Rxh5 Ree2 Rg5+ Kf8 d4 Rab2 Kf1 Rec2 b4 Rxb4 d5 Rb1+ Ne1 Rcc1 Re5 Rxe1+ Rxe1 Rxe1+ Kxe1 Ke7 Ke2 Kd6 Kf3 Kxd5 Kf4 a5 Kf5 a4 Kf6 a3 Kxf7 a2 h4 a1=Q h5 Qd1 h6 Qg4 g3 Qg6+ Ke7 b5 g4 b4 g5 b3 Kf8 b2 Ke7 b1=Q Kd8 Qf7 Kc8 Qbb7+ Kd8 Qbc7#',\n",
       "       'd4 d5 c4 Nf6 cxd5 Qxd5 Nc3 Qd8 e4 e6 Bg5 Be7 Nf3 Bd7 Ne5 Nc6 Nxd7 Qxd7 Bb5 a6 Qa4 Qd8 Bxc6+ bxc6 Qxc6+ Kf8 e5 Nh5 Bxe7+ Qxe7 Qxa8+ Qe8 Qxe8+ Kxe8 g3 Ke7 Rc1 Rc8 Ne4 f6 Rc6 a5 Nd6 Kd7 Nxc8 Kxc6 Ne7+ Kd7 Ng8 Kc6 exf6 gxf6 Kd2 Kd5 Rc1 c6 f4 Kxd4 Rxc6 Kd5 Ra6 Ng7 Nxf6+ Kc5 Rxa5+ Kb6 b4 Nf5 Nxh7 Nd6 Nf6 Nc4+ Kc3 Nxa5 bxa5+ Kxa5 h4 Kb6 h5 Kc7 h6 Kd8 h7 Ke7 h8=Q Kd6 Qg7 e5 Qd7+ Kc5 Ne4+ Kb6 Qd6+ Ka5 Qb8 Ka6 Nc5+ Ka5 a3 e4 Qb4#',\n",
       "       'd4 Nf6 c4 g6 Nc3 Bg7 e4 d6 Nf3 O-O Be2 Nc6 O-O e5 d5 Ne7 b4 Bg4 Be3 Nh5 h3 Bd7 c5 Qc8 Bb5 Bxb5 Nxb5 a6 cxd6 cxd6 Rc1 Qd7 Nc3 f5 exf5 Nxf5 g4 Nxe3 fxe3 Nf6 Ng5 Rac8 Ne6 Rfe8 g5 Nh5 Ne4 Rxc1 Qxc1 Rxe6 dxe6 Qxe6 Qc7 Bf8 Qd8 Qe7 Qc8 d5 Nf6+ Nxf6 Rxf6 e4 a3 Kg7 h4 h5 Qe6 Qxe6 Rxe6 a5 Rb6 axb4 Rxb7+ Kg8 axb4 Bd6 Kf2 Kf8 b5 Bc5 Rd7 Bb6 Rxd5 Ke7 Re5+ Kd6 Rxe4 Kc5 Re6 Ba5 Rxg6 Kxb5 Rh6 Kc5 Rxh5 Kd6 g6 Bc3 e4 Ke6 Rf5 Bg7 h5 Bh8 Kf3 Bg7 Kg4 Bh6 Rf7 Ke5 g7 Bxg7 Rxg7 Kxe4 h6 Ke3 h7 Kd3 h8=Q Kd2 Qe8 Kc1 Rd7 Kb1 Qc8 Ka1 Rb7 Ka2 Qa8#',\n",
       "       'Nf3 f5 b4 d6 Bb2 e5 c4 g6 d4 exd4 Qxd4 Nf6 Qxf6 Qxf6 Bxf6 Rg8 Nc3 Bg7 Nd5 Kd7 Bxg7 Rxg7 e3 Nc6 Bd3 Ne7 O-O Nxd5 cxd5 a6 b5 Ke7 Rac1 Kf6 a4 Re7 Nd4 Ra7 b6 Ra8 Rxc7 Rxc7 bxc7 Ke5 Bc4 Bd7 a5 Rf8 Ne6 Rc8 Rb1 Bb5 Bxb5 axb5 Rxb5 h6 Rxb7 Kxd5 Rb8 Rxc7 Nxc7+ Kc6 a6 Kxc7 a7 f4 a8=Q fxe3 Qb7#',\n",
       "       'e4 e5 Nf3 Nf6 d4 exd4 e5 Ne4 Bd3 d5 exd6 Nxd6 Nxd4 Be7 O-O O-O Nc3 c5 Ndb5 Nxb5 Nxb5 Bd7 Bf4 Nc6 Nc7 Rc8 Nd5 Qa5 Qh5 g6 Nxe7+ Nxe7 Qh4 Nf5 Bxf5 Bxf5 Bh6 f6 Bxf8 Rxf8 c3 Bd3 Rfe1 Qb5 b3 c4 b4 a5 a3 axb4 axb4 Qd5 Re7 g5 Qh6 Rf7 Ra8+ Rf8 Qg7#',\n",
       "       'e4 d6 d4 Nf6 Nc3 g6 Be3 Bg7 Qd2 c6 O-O-O b5 Bh6 Bxh6 Qxh6 b4 Na4 Nxe4 Qe3 Nf6 Nf3 Qa5 b3 Bg4 Re1 Nd5 Qg5 Bxf3 gxf3 Nd7 Bc4 N7f6 Re2 h6 Qg3 O-O-O Kb1 Rd7 f4 Nh5 Qh4 Nhxf4 Bxd5 Nxd5 Rhe1 Kd8 f4 f6 Qg3 g5 fxg5 hxg5 Rc1 Rh4 c4 bxc3 Nxc3 Nxc3+ Rxc3 Rxd4 Rxc6 Rd1+ Kb2 Qd5 Qc3 Ke8 Rc8+ Kf7 Qh3 Rd2+ Rxd2 Qxd2+ Ka3 Qa5+ Kb2 Qe5+ Ka3 Rb7 Qh7+ Ke6 Qh3+ Qf5 Qe3+ Kd7 Qc3 Rb6 Qc7+ Ke6 Qc4+ Qd5 Qg4+ f5 Qxg5 Ra6+ Kb2 Qd4+ Kb1 Qd1+ Rc1 Qd3+ Kb2 Kd7 Rc3 Qe4 Qc1 Qe2+ Rc2 Qe5+ Kb1 f4 Rc7+ Ke6 Qc4+ Kf6 Rc8 Qf5+ Kb2 Qe5+ Kb1 Qe1+ Kb2 Qd2+ Kb1 Qxa2+ Kc1 Qa1+ Kd2 Ra2+ Kd3 Qd1+ Ke4 Re2+ Kxf4 Qf1+ Kg4 Qg2+ Kf4 Qxh2+ Kf3 Qg2+ Kf4 e5#',\n",
       "       'e4 c5 Nf3 d6 d4 cxd4 Nxd4 Nf6 Nc3 a6 Bc4 e6 Bb3 b5 O-O Bb7 Re1 Be7 Bxe6 fxe6 Nxe6 Qd7 Nxg7+ Kf7 Nf5 Nc6 Nd5 Ne5 Nfxe7 Nxd5 Nxd5 Rhg8 Qh5+ Ng6 Qf3+ Kg7 Qf6#'],\n",
       "      dtype=object)"
      ]
     },
     "execution_count": 145,
     "metadata": {},
     "output_type": "execute_result"
    }
   ],
   "source": [
    "x_str=x2[:,1]\n",
    "x_str"
   ]
  },
  {
   "cell_type": "code",
   "execution_count": 151,
   "metadata": {},
   "outputs": [
    {
     "name": "stderr",
     "output_type": "stream",
     "text": [
      "100%|██████████| 319/319 [00:03<00:00, 94.36it/s] \n"
     ]
    }
   ],
   "source": [
    "x=[]\n",
    "ys=[]\n",
    "for y,game in tqdm(x2):\n",
    "    board=chess.Board()\n",
    "    x.append(uni_to_numpy(board))\n",
    "    ys.append(y)\n",
    "    for i in game.split(' '):\n",
    "        board.push_san(i)\n",
    "        x.append(uni_to_numpy(board))\n",
    "        ys.append(y)"
   ]
  },
  {
   "cell_type": "code",
   "execution_count": 153,
   "metadata": {},
   "outputs": [
    {
     "data": {
      "text/plain": [
       "22637"
      ]
     },
     "execution_count": 153,
     "metadata": {},
     "output_type": "execute_result"
    }
   ],
   "source": [
    "len(x)"
   ]
  },
  {
   "cell_type": "code",
   "execution_count": 161,
   "metadata": {},
   "outputs": [
    {
     "data": {
      "text/plain": [
       "22637"
      ]
     },
     "execution_count": 161,
     "metadata": {},
     "output_type": "execute_result"
    }
   ],
   "source": [
    "len(ys)"
   ]
  },
  {
   "cell_type": "code",
   "execution_count": 156,
   "metadata": {},
   "outputs": [],
   "source": [
    "import torch\n",
    "from torch.utils.data import DataLoader"
   ]
  },
  {
   "cell_type": "code",
   "execution_count": 167,
   "metadata": {},
   "outputs": [],
   "source": [
    "xt=torch.Tensor(x)\n",
    "yt=torch.Tensor(ys)"
   ]
  },
  {
   "cell_type": "code",
   "execution_count": 159,
   "metadata": {},
   "outputs": [
    {
     "ename": "ValueError",
     "evalue": "only one element tensors can be converted to Python scalars",
     "output_type": "error",
     "traceback": [
      "\u001b[0;31m---------------------------------------------------------------------------\u001b[0m",
      "\u001b[0;31mValueError\u001b[0m                                Traceback (most recent call last)",
      "\u001b[0;32m<ipython-input-159-b88235822650>\u001b[0m in \u001b[0;36m<module>\u001b[0;34m\u001b[0m\n\u001b[0;32m----> 1\u001b[0;31m \u001b[0mdataset\u001b[0m\u001b[0;34m=\u001b[0m\u001b[0mtorch\u001b[0m\u001b[0;34m.\u001b[0m\u001b[0mTensor\u001b[0m\u001b[0;34m(\u001b[0m\u001b[0;34m[\u001b[0m\u001b[0mxt\u001b[0m\u001b[0;34m,\u001b[0m\u001b[0myt\u001b[0m\u001b[0;34m]\u001b[0m\u001b[0;34m)\u001b[0m\u001b[0;34m\u001b[0m\u001b[0;34m\u001b[0m\u001b[0m\n\u001b[0m",
      "\u001b[0;31mValueError\u001b[0m: only one element tensors can be converted to Python scalars"
     ]
    }
   ],
   "source": [
    "dataset=torch.Tensor([xt,yt])"
   ]
  },
  {
   "cell_type": "code",
   "execution_count": 169,
   "metadata": {},
   "outputs": [],
   "source": [
    "torch.save(xt,'../chess/xData.pt')\n",
    "torch.save(yt,'../chess/yData.pt')"
   ]
  },
  {
   "cell_type": "code",
   "execution_count": null,
   "metadata": {},
   "outputs": [],
   "source": [
    "torch.save(yt,'../chess/yData.pt')"
   ]
  },
  {
   "cell_type": "code",
   "execution_count": 168,
   "metadata": {},
   "outputs": [
    {
     "data": {
      "text/plain": [
       "tensor([0., 0., 0.,  ..., 0., 0., 0.])"
      ]
     },
     "execution_count": 168,
     "metadata": {},
     "output_type": "execute_result"
    }
   ],
   "source": [
    "yt"
   ]
  },
  {
   "cell_type": "code",
   "execution_count": null,
   "metadata": {},
   "outputs": [],
   "source": []
  }
 ],
 "metadata": {
  "kernelspec": {
   "display_name": "Python 3",
   "language": "python",
   "name": "python3"
  },
  "language_info": {
   "codemirror_mode": {
    "name": "ipython",
    "version": 3
   },
   "file_extension": ".py",
   "mimetype": "text/x-python",
   "name": "python",
   "nbconvert_exporter": "python",
   "pygments_lexer": "ipython3",
   "version": "3.7.5"
  }
 },
 "nbformat": 4,
 "nbformat_minor": 2
}
