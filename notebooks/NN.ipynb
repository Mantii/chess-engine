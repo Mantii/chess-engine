{
 "cells": [
  {
   "cell_type": "code",
   "execution_count": 1,
   "metadata": {},
   "outputs": [],
   "source": [
    "import torch\n",
    "import torch.nn as nn\n",
    "import torch.nn.functional as F\n",
    "import numpy as np\n",
    "from tqdm import tqdm\n",
    "import torch.optim as optim\n",
    "from torch.utils.data import DataLoader"
   ]
  },
  {
   "cell_type": "code",
   "execution_count": 2,
   "metadata": {},
   "outputs": [],
   "source": [
    "x=torch.load('../chess/xData.pt')\n",
    "y=torch.load('../chess/yData.pt')"
   ]
  },
  {
   "cell_type": "code",
   "execution_count": 3,
   "metadata": {},
   "outputs": [
    {
     "data": {
      "text/plain": [
       "(22637, 128)"
      ]
     },
     "execution_count": 3,
     "metadata": {},
     "output_type": "execute_result"
    }
   ],
   "source": [
    "xtest=x.view(-1,2*8*8).numpy()\n",
    "ytest=y.numpy()\n",
    "xtest.shape"
   ]
  },
  {
   "cell_type": "code",
   "execution_count": 4,
   "metadata": {},
   "outputs": [],
   "source": [
    "dataset=np.zeros(129*22637).reshape(22637,129)\n",
    "dataset[:,0]=ytest\n",
    "dataset[:,1:129]=xtest"
   ]
  },
  {
   "cell_type": "code",
   "execution_count": 20,
   "metadata": {},
   "outputs": [
    {
     "name": "stdout",
     "output_type": "stream",
     "text": [
      "(15342, 129) (7295, 129)\n"
     ]
    }
   ],
   "source": [
    "whitewins=dataset[np.where(dataset[:,0]==0)[0]]\n",
    "black=dataset[np.where(dataset[:,0]==1)[0]]\n",
    "print(whitewins.shape,black.shape)"
   ]
  },
  {
   "cell_type": "code",
   "execution_count": 33,
   "metadata": {},
   "outputs": [
    {
     "name": "stdout",
     "output_type": "stream",
     "text": [
      "(7295, 129) (7295, 129)\n"
     ]
    }
   ],
   "source": [
    "white=whitewins[np.arange(7295)*2]\n",
    "print(white.shape,black.shape)"
   ]
  },
  {
   "cell_type": "code",
   "execution_count": 42,
   "metadata": {},
   "outputs": [],
   "source": [
    "w=torch.FloatTensor(white)\n",
    "b=torch.FloatTensor(black)\n",
    "datas=torch.cat((w,b))"
   ]
  },
  {
   "cell_type": "code",
   "execution_count": 43,
   "metadata": {},
   "outputs": [
    {
     "data": {
      "text/plain": [
       "torch.Size([14590, 129])"
      ]
     },
     "execution_count": 43,
     "metadata": {},
     "output_type": "execute_result"
    }
   ],
   "source": [
    "datas.shape"
   ]
  },
  {
   "cell_type": "code",
   "execution_count": 89,
   "metadata": {},
   "outputs": [],
   "source": [
    "trainset=DataLoader(datas, batch_size=2048, shuffle=True)"
   ]
  },
  {
   "cell_type": "code",
   "execution_count": 86,
   "metadata": {},
   "outputs": [
    {
     "name": "stdout",
     "output_type": "stream",
     "text": [
      "Net(\n",
      "  (c0): Conv2d(2, 2, kernel_size=(8, 8), stride=(1, 1), padding=(4, 4))\n",
      "  (c1): Conv2d(2, 2, kernel_size=(2, 2), stride=(1, 1))\n",
      "  (c2): Conv2d(2, 4, kernel_size=(1, 1), stride=(1, 1))\n",
      "  (c3): Conv2d(4, 4, kernel_size=(1, 1), stride=(1, 1))\n",
      "  (c4): Conv2d(4, 8, kernel_size=(1, 1), stride=(1, 1))\n",
      "  (c5): Conv2d(8, 16, kernel_size=(1, 1), stride=(1, 1))\n",
      "  (c6): Conv2d(16, 16, kernel_size=(1, 1), stride=(1, 1))\n",
      "  (c7): Conv2d(16, 8, kernel_size=(2, 2), stride=(1, 1))\n",
      "  (c8): Conv2d(8, 4, kernel_size=(2, 2), stride=(1, 1))\n",
      "  (c9): Conv2d(4, 2, kernel_size=(2, 2), stride=(1, 1))\n",
      "  (c10): Conv2d(2, 1, kernel_size=(2, 2), stride=(1, 1))\n",
      "  (l1): Linear(in_features=16, out_features=1, bias=True)\n",
      ")\n"
     ]
    }
   ],
   "source": [
    "class Net(nn.Module):\n",
    "    def __init__(self):\n",
    "        super().__init__()\n",
    "        self.c0=nn.Conv2d(2,2,kernel_size=(8,8),padding=4)\n",
    "        self.c1=nn.Conv2d(2,2,kernel_size=(2,2))\n",
    "        self.c2=nn.Conv2d(2,4,kernel_size=(1,1))\n",
    "        self.c3=nn.Conv2d(4,4,kernel_size=(1,1))\n",
    "        self.c4=nn.Conv2d(4,8,kernel_size=(1,1))\n",
    "        self.c5=nn.Conv2d(8,16,kernel_size=(1,1))\n",
    "        self.c6=nn.Conv2d(16,16,kernel_size=(1,1))\n",
    "        self.c7=nn.Conv2d(16,8,kernel_size=(2,2))\n",
    "        self.c8=nn.Conv2d(8,4,kernel_size=(2,2))\n",
    "        self.c9=nn.Conv2d(4,2,kernel_size=(2,2))\n",
    "        self.c10=nn.Conv2d(2,1,kernel_size=(2,2))\n",
    "        self.l1=nn.Linear(16,1)\n",
    "\n",
    "    def forward(self, x):\n",
    "        x = F.normalize(x)\n",
    "        #print(x.shape)\n",
    "        x = F.normalize(F.relu(self.c0(x)))\n",
    "        #print(x.shape)\n",
    "        x = F.normalize(F.relu(self.c1(x)))\n",
    "        #print(x.shape)\n",
    "        x = F.normalize(F.relu(self.c2(x)))\n",
    "        #print(x.shape)\n",
    "        x = F.normalize(F.relu(self.c3(x)))\n",
    "        #print(x.shape)\n",
    "        x = F.normalize(F.relu(self.c4(x)))\n",
    "        #print(x.shape)\n",
    "        x = F.normalize(F.relu(self.c5(x)))\n",
    "        #print(x.shape)\n",
    "        x = F.normalize(F.relu(self.c6(x)))\n",
    "        #print(x.shape)\n",
    "        x = F.normalize(F.relu(self.c7(x)))\n",
    "        #print(x.shape)\n",
    "        x = F.normalize(F.relu(self.c8(x)))\n",
    "        #print(x.shape)\n",
    "        x = F.normalize(F.relu(self.c9(x)))\n",
    "        #print(x.shape)\n",
    "        x = F.relu(self.c10(x))\n",
    "        #print(x.shape)        \n",
    "        x=x.view(x.shape[0],16)\n",
    "        #print(x.shape)\n",
    "        x = torch.sigmoid(self.l1(x))\n",
    "        #print(x.shape)\n",
    "        return x\n",
    "    \n",
    "    \n",
    "\n",
    "print(Net())\n",
    "model=Net().cuda()"
   ]
  },
  {
   "cell_type": "code",
   "execution_count": null,
   "metadata": {},
   "outputs": [],
   "source": []
  },
  {
   "cell_type": "code",
   "execution_count": 91,
   "metadata": {},
   "outputs": [],
   "source": [
    "learning_rate = 1e-1\n",
    "criterion = nn.MSELoss(reduction=\"sum\")\n",
    "optimizer = optim.Adam(model.parameters(), lr=learning_rate,weight_decay=learning_rate/20)"
   ]
  },
  {
   "cell_type": "code",
   "execution_count": 92,
   "metadata": {},
   "outputs": [
    {
     "name": "stdout",
     "output_type": "stream",
     "text": [
      "epoch [1/1000], loss:7295.0000\n",
      "epoch [2/1000], loss:7295.0000\n",
      "epoch [3/1000], loss:7295.0000\n",
      "epoch [4/1000], loss:7295.0000\n",
      "epoch [5/1000], loss:7295.0000\n",
      "epoch [6/1000], loss:7295.0000\n",
      "epoch [7/1000], loss:7295.0000\n",
      "epoch [8/1000], loss:7288.9923\n",
      "epoch [9/1000], loss:7295.0000\n",
      "epoch [10/1000], loss:7295.0000\n",
      "epoch [11/1000], loss:7295.0000\n",
      "epoch [12/1000], loss:7295.0000\n",
      "epoch [13/1000], loss:7295.0000\n",
      "epoch [14/1000], loss:7295.0000\n",
      "epoch [15/1000], loss:7295.0000\n",
      "epoch [16/1000], loss:7295.0000\n",
      "epoch [17/1000], loss:7295.0000\n",
      "epoch [18/1000], loss:7295.0000\n",
      "epoch [19/1000], loss:7295.0000\n",
      "epoch [20/1000], loss:7295.0000\n",
      "epoch [21/1000], loss:7295.0000\n",
      "epoch [22/1000], loss:7295.0000\n"
     ]
    },
    {
     "ename": "KeyboardInterrupt",
     "evalue": "",
     "output_type": "error",
     "traceback": [
      "\u001b[0;31m---------------------------------------------------------------------------\u001b[0m",
      "\u001b[0;31mKeyboardInterrupt\u001b[0m                         Traceback (most recent call last)",
      "\u001b[0;32m<ipython-input-92-458fff7a8c48>\u001b[0m in \u001b[0;36m<module>\u001b[0;34m\u001b[0m\n\u001b[1;32m     17\u001b[0m         \u001b[0mloss\u001b[0m\u001b[0;34m.\u001b[0m\u001b[0mbackward\u001b[0m\u001b[0;34m(\u001b[0m\u001b[0;34m)\u001b[0m\u001b[0;34m\u001b[0m\u001b[0;34m\u001b[0m\u001b[0m\n\u001b[1;32m     18\u001b[0m         \u001b[0moptimizer\u001b[0m\u001b[0;34m.\u001b[0m\u001b[0mstep\u001b[0m\u001b[0;34m(\u001b[0m\u001b[0;34m)\u001b[0m\u001b[0;34m\u001b[0m\u001b[0;34m\u001b[0m\u001b[0m\n\u001b[0;32m---> 19\u001b[0;31m         \u001b[0mloss_total\u001b[0m\u001b[0;34m=\u001b[0m\u001b[0mloss_total\u001b[0m\u001b[0;34m+\u001b[0m\u001b[0mfloat\u001b[0m\u001b[0;34m(\u001b[0m\u001b[0mloss\u001b[0m\u001b[0;34m)\u001b[0m\u001b[0;34m\u001b[0m\u001b[0;34m\u001b[0m\u001b[0m\n\u001b[0m\u001b[1;32m     20\u001b[0m         \u001b[0mi\u001b[0m\u001b[0;34m=\u001b[0m\u001b[0mi\u001b[0m\u001b[0;34m+\u001b[0m\u001b[0;36m1\u001b[0m\u001b[0;34m\u001b[0m\u001b[0;34m\u001b[0m\u001b[0m\n\u001b[1;32m     21\u001b[0m     \u001b[0;31m# ===================log========================\u001b[0m\u001b[0;34m\u001b[0m\u001b[0;34m\u001b[0m\u001b[0;34m\u001b[0m\u001b[0m\n",
      "\u001b[0;31mKeyboardInterrupt\u001b[0m: "
     ]
    }
   ],
   "source": [
    "num_epochs=1000\n",
    "for epoch in range(num_epochs):\n",
    "    outs=[]\n",
    "    i=0\n",
    "    loss_total=0\n",
    "    for data in trainset:\n",
    "        X= data[:,1:129]\n",
    "        X=X.view(X.shape[0],2,8,8)\n",
    "        y=data[:,0].view(X.shape[0],1)\n",
    "        X = torch.autograd.Variable(X).cuda()\n",
    "        # ===================forward=====================\n",
    "        output = model(X)\n",
    "        outs.append(output.cpu())\n",
    "        #print(output.shape)\n",
    "        loss = criterion(output, y.cuda())\n",
    "        # ===================backward====================\n",
    "        loss.backward()\n",
    "        optimizer.step()\n",
    "        loss_total=loss_total+float(loss)\n",
    "        i=i+1\n",
    "    # ===================log========================\n",
    "    print('epoch [{}/{}], loss:{:.4f}'\n",
    "          .format(epoch + 1, num_epochs, loss_total))"
   ]
  },
  {
   "cell_type": "code",
   "execution_count": null,
   "metadata": {},
   "outputs": [],
   "source": [
    "c=0\n",
    "for i in yset:\n",
    "    for j in i:\n",
    "        if j==1:\n",
    "            c=c+1\n",
    "print(c)\n",
    "        "
   ]
  },
  {
   "cell_type": "code",
   "execution_count": null,
   "metadata": {},
   "outputs": [],
   "source": []
  }
 ],
 "metadata": {
  "kernelspec": {
   "display_name": "Python 3",
   "language": "python",
   "name": "python3"
  },
  "language_info": {
   "codemirror_mode": {
    "name": "ipython",
    "version": 3
   },
   "file_extension": ".py",
   "mimetype": "text/x-python",
   "name": "python",
   "nbconvert_exporter": "python",
   "pygments_lexer": "ipython3",
   "version": "3.7.5"
  }
 },
 "nbformat": 4,
 "nbformat_minor": 2
}
